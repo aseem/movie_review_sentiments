{
 "metadata": {
  "name": ""
 },
 "nbformat": 3,
 "nbformat_minor": 0,
 "worksheets": [
  {
   "cells": [
    {
     "cell_type": "heading",
     "level": 1,
     "metadata": {},
     "source": [
      "Setup"
     ]
    },
    {
     "cell_type": "code",
     "collapsed": false,
     "input": [
      "%matplotlib inline\n",
      "\n",
      "import json\n",
      "\n",
      "import requests\n",
      "import pandas as pd\n",
      "import numpy as np\n",
      "import matplotlib.pyplot as plt\n",
      "from io import StringIO\n",
      "import nltk\n",
      "import boilerpipe as boilerpipe\n",
      "from boilerpipe.extract import Extractor\n",
      "import time\n",
      "\n",
      "# Download needed NLTK libraries\n",
      "nltk.download('punkt')\n",
      "\n",
      "\n",
      "pd.set_option('display.width', 500)\n",
      "pd.set_option('display.max_columns', 30)\n",
      "\n",
      "# set some nicer defaults for matplotlib\n",
      "from matplotlib import rcParams\n",
      "\n",
      "#these colors come from colorbrewer2.org. Each is an RGB triplet\n",
      "dark2_colors = [(0.10588235294117647, 0.6196078431372549, 0.4666666666666667),\n",
      "                (0.8509803921568627, 0.37254901960784315, 0.00784313725490196),\n",
      "                (0.4588235294117647, 0.4392156862745098, 0.7019607843137254),\n",
      "                (0.9058823529411765, 0.1607843137254902, 0.5411764705882353),\n",
      "                (0.4, 0.6509803921568628, 0.11764705882352941),\n",
      "                (0.9019607843137255, 0.6705882352941176, 0.00784313725490196),\n",
      "                (0.6509803921568628, 0.4627450980392157, 0.11372549019607843),\n",
      "                (0.4, 0.4, 0.4)]\n",
      "\n",
      "rcParams['figure.figsize'] = (10, 6)\n",
      "rcParams['figure.dpi'] = 150\n",
      "rcParams['axes.color_cycle'] = dark2_colors\n",
      "rcParams['lines.linewidth'] = 2\n",
      "rcParams['axes.grid'] = False\n",
      "rcParams['axes.facecolor'] = 'white'\n",
      "rcParams['font.size'] = 14\n",
      "rcParams['patch.edgecolor'] = 'none'\n",
      "\n",
      "\n",
      "def remove_border(axes=None, top=False, right=False, left=True, bottom=True):\n",
      "    \"\"\"\n",
      "    Minimize chartjunk by stripping out unnecessary plot borders and axis ticks\n",
      "    \n",
      "    The top/right/left/bottom keywords toggle whether the corresponding plot border is drawn\n",
      "    \"\"\"\n",
      "    ax = axes or plt.gca()\n",
      "    ax.spines['top'].set_visible(top)\n",
      "    ax.spines['right'].set_visible(right)\n",
      "    ax.spines['left'].set_visible(left)\n",
      "    ax.spines['bottom'].set_visible(bottom)\n",
      "    \n",
      "    #turn off all ticks\n",
      "    ax.yaxis.set_ticks_position('none')\n",
      "    ax.xaxis.set_ticks_position('none')\n",
      "    \n",
      "    #now re-enable visibles\n",
      "    if top:\n",
      "        ax.xaxis.tick_top()\n",
      "    if bottom:\n",
      "        ax.xaxis.tick_bottom()\n",
      "    if left:\n",
      "        ax.yaxis.tick_left()\n",
      "    if right:\n",
      "        ax.yaxis.tick_right()"
     ],
     "language": "python",
     "metadata": {},
     "outputs": [],
     "prompt_number": 1
    },
    {
     "cell_type": "heading",
     "level": 2,
     "metadata": {},
     "source": [
      "Setup and Test the RT API"
     ]
    },
    {
     "cell_type": "code",
     "collapsed": false,
     "input": [
      "# test that the RT API is working\n",
      "\n",
      "api_key = '2javvqk7j2mtbhgmrkvtphss'\n",
      "movie_id = '770672122'  # toy story 3\n",
      "url = 'http://api.rottentomatoes.com/api/public/v1.0/movies/%s/reviews.json' % movie_id\n",
      "\n",
      "#these are \"get parameters\"\n",
      "options = {'review_type': 'top_critic', 'page_limit': 20, 'page': 1, 'apikey': api_key}\n",
      "data = requests.get(url, params=options).text\n",
      "data = json.loads(data)  # load a json string into a collection of lists and dicts\n",
      "\n",
      "print json.dumps(data['reviews'][0], indent=2)  # dump an object into a json string"
     ],
     "language": "python",
     "metadata": {},
     "outputs": [
      {
       "output_type": "stream",
       "stream": "stdout",
       "text": [
        "{\n",
        "  \"publication\": \"Village Voice\", \n",
        "  \"links\": {\n",
        "    \"review\": \"http://www.villagevoice.com/2010-06-15/film/toys-are-us-in-toy-story-3/full/\"\n",
        "  }, \n",
        "  \"quote\": \"When teenaged Andy plops down on the grass to share his old toys with a shy little girl, the film spikes with sadness and layered pleasure -- a concise, deeply wise expression of the ephemeral that feels real and yet utterly transporting.\", \n",
        "  \"freshness\": \"fresh\", \n",
        "  \"critic\": \"Eric Hynes\", \n",
        "  \"date\": \"2013-08-04\"\n",
        "}\n"
       ]
      }
     ],
     "prompt_number": 3
    },
    {
     "cell_type": "heading",
     "level": 1,
     "metadata": {},
     "source": [
      "Get the Data"
     ]
    },
    {
     "cell_type": "markdown",
     "metadata": {},
     "source": [
      "Read in the movies from the Movie Lens Data Set"
     ]
    },
    {
     "cell_type": "code",
     "collapsed": false,
     "input": [
      "movies = pd.read_csv('movies.dat', delimiter='\\t')\n",
      "print movies[['id', 'title', 'imdbID', 'rtID', 'year']].irow(10)"
     ],
     "language": "python",
     "metadata": {},
     "outputs": [
      {
       "output_type": "stream",
       "stream": "stdout",
       "text": [
        "id                            11\n",
        "title     The American President\n",
        "imdbID                    112346\n",
        "rtID          american_president\n",
        "year                        1995\n",
        "Name: 10, dtype: object\n"
       ]
      }
     ],
     "prompt_number": 4
    },
    {
     "cell_type": "markdown",
     "metadata": {},
     "source": [
      "The following functions are used to obtain the Rotten Tomatoes reviews using the Rotten Tomatoes API"
     ]
    },
    {
     "cell_type": "code",
     "collapsed": false,
     "input": [
      "\"\"\"\n",
      "Function\n",
      "--------\n",
      "fetch_reviews(movies, row)\n",
      "\n",
      "Use the Rotten Tomatoes web API to fetch reviews for a particular movie\n",
      "\n",
      "Parameters\n",
      "----------\n",
      "movies : DataFrame \n",
      "  The movies data above\n",
      "row : int\n",
      "  The row of the movies DataFrame to use\n",
      "  \n",
      "Returns\n",
      "-------\n",
      "If you can match the IMDB id to a Rotten Tomatoes ID:\n",
      "  A DataFrame, containing the first 20 Top Critic reviews \n",
      "  for the movie. If a movie has less than 20 total reviews, return them all.\n",
      "  This should have the following columns:\n",
      "    critic : Name of the critic\n",
      "    fresh  : 'fresh' or 'rotten'\n",
      "    imdb   : IMDB id for the movie\n",
      "    publication: Publication that the critic writes for\n",
      "    quote  : string containing the movie review quote\n",
      "    review_data: Date of review\n",
      "    rtid   : Rotten Tomatoes ID for the movie\n",
      "    title  : Name of the movie\n",
      "    \n",
      "If you cannot match the IMDB id to a Rotten Tomatoes ID, return None\n",
      "\n",
      "Examples\n",
      "--------\n",
      ">>> reviews = fetch_reviews(movies, 0)\n",
      ">>> print len(reviews)\n",
      "20\n",
      ">>> print reviews.irow(1)\n",
      "critic                                               Derek Adams\n",
      "fresh                                                      fresh\n",
      "imdb                                                      114709\n",
      "publication                                             Time Out\n",
      "quote          So ingenious in concept, design and execution ...\n",
      "review_date                                           2009-10-04\n",
      "rtid                                                        9559\n",
      "title                                                  Toy story\n",
      "Name: 1, dtype: object\n",
      "\"\"\"\n",
      "def fetch_reviews(movies, row):\n",
      "    # init. lists to be used in our dataframe\n",
      "    critic_list = []\n",
      "    fresh_list = []\n",
      "    imdb_list = []\n",
      "    publication_list = []\n",
      "    quote_list = []\n",
      "    review_date_list = []\n",
      "    rtid_list = []\n",
      "    title_list = []\n",
      "    review_link_list = []\n",
      "    \n",
      "    # get the given IMDB ID and pad it if necessary\n",
      "    imdb_id = movies['imdbID'].irow(row)\n",
      "    imdb_id = pad_id(imdb_id)\n",
      "    \n",
      "    # convert IMDB ID to RT ID and get the reviews\n",
      "    # in case the server doesn't respond or throws an error, we\n",
      "    # retry 3 times before giving up\n",
      "    num_retries = 3\n",
      "    while num_retries > 0:\n",
      "        title, rtid, status_code = convert_IMDB_to_RottenTomatoes(imdb_id)\n",
      "        if (status_code == 200):\n",
      "            break;\n",
      "        else:\n",
      "            print status_code\n",
      "            num_retries -= 1\n",
      "    \n",
      "    # if we didn't an RT ID, return None\n",
      "    if (rtid is None):\n",
      "        return None\n",
      "    \n",
      "    num_retries = 3\n",
      "    while num_retries > 0:\n",
      "        data, status_code = get_reviews(rtid)\n",
      "        if (status_code == 200):\n",
      "            break;\n",
      "        else:\n",
      "            print status_code\n",
      "            num_retries -= 1\n",
      "    \n",
      "    if (status_code != 200):\n",
      "        return None\n",
      "    \n",
      "    # parse the reviews into a dataframe\n",
      "    for review in data['reviews']: \n",
      "        if ('review' in review['links'] and review['quote'] != ''): # check if a full review link exists\n",
      "            critic_list.append(review['critic'])\n",
      "            fresh_list.append(review['freshness'])\n",
      "            imdb_list.append(imdb_id)\n",
      "            publication_list.append(review['publication'])\n",
      "            quote_list.append(review['quote'])\n",
      "            review_date_list.append(review['date'])\n",
      "            rtid_list.append(rtid)\n",
      "            title_list.append(title)\n",
      "            review_link_list.append(review['links']['review'])\n",
      "    \n",
      "    df = pd.DataFrame(dict(critic=critic_list, \n",
      "                           fresh=fresh_list, \n",
      "                           imdb=imdb_list, \n",
      "                           publication=publication_list,\n",
      "                           quote=quote_list,\n",
      "                           review_date=pd.to_datetime(review_date_list),\n",
      "                           rtid=rtid_list,\n",
      "                           title=title_list,\n",
      "                           link=review_link_list))\n",
      "    #df.index = df.critic\n",
      "\n",
      "    return df\n",
      "\n",
      "\n",
      "# pads an ID with zeros from the left to always\n",
      "# create a 7 digit string\n",
      "def pad_id(id):\n",
      "    result = str(id).zfill(7)\n",
      "    return result\n",
      "    \n",
      "# converts an IMDB ID to a RT ID.  Returns a tuple\n",
      "# containing the title of the movie and the ID\n",
      "def convert_IMDB_to_RottenTomatoes(imdb_id):\n",
      "    url = \"http://api.rottentomatoes.com/api/public/v1.0/movie_alias.json\"\n",
      "    options = {'id': imdb_id, 'type': 'imdb', 'apikey': api_key}\n",
      "    request_result = requests.get(url, params=options)\n",
      "    status_code = request_result.status_code\n",
      "    data = request_result.text\n",
      "    data = json.loads(data)\n",
      "    \n",
      "    if (len(data) > 1):\n",
      "        return (data['title'], data['id'], status_code)\n",
      "    else:\n",
      "        return (None, None, status_code)\n",
      "\n",
      "# returns a JSON object containing the review data for \n",
      "# the specified movie\n",
      "def get_reviews(rt_id):\n",
      "    url = 'http://api.rottentomatoes.com/api/public/v1.0/movies/%s/reviews.json' % rt_id\n",
      "    options = {'review_type': 'top_critic', 'page_limit': 20, 'page': 1, 'apikey': api_key}\n",
      "    request_result = requests.get(url, params=options)\n",
      "    status_code = request_result.status_code\n",
      "    data = request_result.text\n",
      "    data = json.loads(data)  \n",
      "    \n",
      "    return (data, status_code)\n"
     ],
     "language": "python",
     "metadata": {},
     "outputs": [],
     "prompt_number": 5
    },
    {
     "cell_type": "code",
     "collapsed": false,
     "input": [
      "\"\"\"\n",
      "Function\n",
      "--------\n",
      "build_table\n",
      "\n",
      "Parameters\n",
      "----------\n",
      "movies : DataFrame\n",
      "  The movies data above\n",
      "rows : int\n",
      "  The number of rows to extract reviews for\n",
      "  \n",
      "Returns\n",
      "--------\n",
      "A dataframe\n",
      "  The data obtained by repeatedly calling `fetch_reviews` on the first `rows`\n",
      "  of `movies`, discarding the `None`s,\n",
      "  and concatenating the results into a single DataFrame\n",
      "\"\"\"\n",
      "#your code here\n",
      "def build_table(movies, rows):\n",
      "    result = pd.DataFrame({})\n",
      "    for row in range(rows):\n",
      "        df = fetch_reviews(movies, row)\n",
      "        if (df is not None):\n",
      "            result = result.append(df, ignore_index=True)\n",
      "    \n",
      "    return result"
     ],
     "language": "python",
     "metadata": {},
     "outputs": [],
     "prompt_number": 8
    },
    {
     "cell_type": "code",
     "collapsed": false,
     "input": [
      "#you can toggle which lines are commented, if you\n",
      "#want to re-load your results to avoid repeatedly calling this function\n",
      "critics = pd.DataFrame()\n",
      "#critics = build_table(movies, 3000)\n",
      "#critics.to_csv('critics.csv', index=False)\n",
      "critics = pd.read_csv('critics.csv')\n",
      "\n",
      "\n",
      "#for this assignment, let's drop rows with missing data\n",
      "critics = critics[~critics.quote.isnull()]\n",
      "critics = critics[critics.fresh != 'none']\n",
      "critics = critics[critics.quote.str.len() > 0]\n",
      "critics = critics[critics.critic.str.len() > 0]"
     ],
     "language": "python",
     "metadata": {},
     "outputs": [],
     "prompt_number": 101
    },
    {
     "cell_type": "code",
     "collapsed": false,
     "input": [
      "assert set(critics.columns) == set('critic fresh imdb link publication '\n",
      "                                   'quote review_date rtid title'.split())\n",
      "assert len(critics) > 10000"
     ],
     "language": "python",
     "metadata": {},
     "outputs": [],
     "prompt_number": 102
    },
    {
     "cell_type": "code",
     "collapsed": false,
     "input": [
      "print len(critics)\n",
      "critics.tail()\n"
     ],
     "language": "python",
     "metadata": {},
     "outputs": [
      {
       "output_type": "stream",
       "stream": "stdout",
       "text": [
        "12718\n"
       ]
      },
      {
       "html": [
        "<div style=\"max-height:1000px;max-width:1500px;overflow:auto;\">\n",
        "<table border=\"1\" class=\"dataframe\">\n",
        "  <thead>\n",
        "    <tr style=\"text-align: right;\">\n",
        "      <th></th>\n",
        "      <th>critic</th>\n",
        "      <th>fresh</th>\n",
        "      <th>imdb</th>\n",
        "      <th>link</th>\n",
        "      <th>publication</th>\n",
        "      <th>quote</th>\n",
        "      <th>review_date</th>\n",
        "      <th>rtid</th>\n",
        "      <th>title</th>\n",
        "    </tr>\n",
        "  </thead>\n",
        "  <tbody>\n",
        "    <tr>\n",
        "      <th>13436</th>\n",
        "      <td>     Jay Boyar</td>\n",
        "      <td>  fresh</td>\n",
        "      <td> 88683</td>\n",
        "      <td> http://articles.orlandosentinel.com/1985-10-30...</td>\n",
        "      <td>  Orlando Sentinel</td>\n",
        "      <td> It is Meg Tilly who makes the movie live. Her ...</td>\n",
        "      <td> 2013-05-08 00:00:00</td>\n",
        "      <td> 11917</td>\n",
        "      <td> Agnes of God</td>\n",
        "    </tr>\n",
        "    <tr>\n",
        "      <th>13437</th>\n",
        "      <td>   Gene Siskel</td>\n",
        "      <td> rotten</td>\n",
        "      <td> 88683</td>\n",
        "      <td> http://articles.chicagotribune.com/1985-09-13/...</td>\n",
        "      <td>   Chicago Tribune</td>\n",
        "      <td> Agnes of God plays with some challenging ideas...</td>\n",
        "      <td> 2013-05-08 00:00:00</td>\n",
        "      <td> 11917</td>\n",
        "      <td> Agnes of God</td>\n",
        "    </tr>\n",
        "    <tr>\n",
        "      <th>13438</th>\n",
        "      <td> Variety Staff</td>\n",
        "      <td> rotten</td>\n",
        "      <td> 88683</td>\n",
        "      <td> http://www.variety.com/review/VE1117796703.htm...</td>\n",
        "      <td>           Variety</td>\n",
        "      <td> Fonda's relentless interrogating, mannered cha...</td>\n",
        "      <td> 2008-10-18 00:00:00</td>\n",
        "      <td> 11917</td>\n",
        "      <td> Agnes of God</td>\n",
        "    </tr>\n",
        "    <tr>\n",
        "      <th>13440</th>\n",
        "      <td>  Janet Maslin</td>\n",
        "      <td> rotten</td>\n",
        "      <td> 88683</td>\n",
        "      <td> http://movies.nytimes.com/movie/review?res=950...</td>\n",
        "      <td>    New York Times</td>\n",
        "      <td> Miss Tilly makes a radiant Agnes, and Miss Ban...</td>\n",
        "      <td> 2003-05-20 00:00:00</td>\n",
        "      <td> 11917</td>\n",
        "      <td> Agnes of God</td>\n",
        "    </tr>\n",
        "    <tr>\n",
        "      <th>13441</th>\n",
        "      <td>   Roger Ebert</td>\n",
        "      <td> rotten</td>\n",
        "      <td> 88683</td>\n",
        "      <td> http://www.rogerebert.com/reviews/agnes-of-god...</td>\n",
        "      <td> Chicago Sun-Times</td>\n",
        "      <td> Although the movie deals in the basic material...</td>\n",
        "      <td> 2000-01-01 00:00:00</td>\n",
        "      <td> 11917</td>\n",
        "      <td> Agnes of God</td>\n",
        "    </tr>\n",
        "  </tbody>\n",
        "</table>\n",
        "</div>"
       ],
       "metadata": {},
       "output_type": "pyout",
       "prompt_number": 103,
       "text": [
        "              critic   fresh   imdb                                               link        publication                                              quote          review_date   rtid         title\n",
        "13436      Jay Boyar   fresh  88683  http://articles.orlandosentinel.com/1985-10-30...   Orlando Sentinel  It is Meg Tilly who makes the movie live. Her ...  2013-05-08 00:00:00  11917  Agnes of God\n",
        "13437    Gene Siskel  rotten  88683  http://articles.chicagotribune.com/1985-09-13/...    Chicago Tribune  Agnes of God plays with some challenging ideas...  2013-05-08 00:00:00  11917  Agnes of God\n",
        "13438  Variety Staff  rotten  88683  http://www.variety.com/review/VE1117796703.htm...            Variety  Fonda's relentless interrogating, mannered cha...  2008-10-18 00:00:00  11917  Agnes of God\n",
        "13440   Janet Maslin  rotten  88683  http://movies.nytimes.com/movie/review?res=950...     New York Times  Miss Tilly makes a radiant Agnes, and Miss Ban...  2003-05-20 00:00:00  11917  Agnes of God\n",
        "13441    Roger Ebert  rotten  88683  http://www.rogerebert.com/reviews/agnes-of-god...  Chicago Sun-Times  Although the movie deals in the basic material...  2000-01-01 00:00:00  11917  Agnes of God"
       ]
      }
     ],
     "prompt_number": 103
    },
    {
     "cell_type": "heading",
     "level": 1,
     "metadata": {},
     "source": [
      "Get Full Articles"
     ]
    },
    {
     "cell_type": "markdown",
     "metadata": {},
     "source": [
      "We will use the BoilerPipe library to download the articles and extract the text we need, discarding any HTML markup from the webpage."
     ]
    },
    {
     "cell_type": "code",
     "collapsed": false,
     "input": [
      "URL = critics.irow(0)['link']\n",
      "extractor = Extractor(extractor='ArticleExtractor', url=URL)\n",
      "\n",
      "print extractor.getText()"
     ],
     "language": "python",
     "metadata": {},
     "outputs": [
      {
       "output_type": "stream",
       "stream": "stdout",
       "text": [
        "Time Out says\n",
        "Tue Sep 29 2009\n",
        "Disney Pixar is ramping up the publicity for \u2018Toy Story 3\u2019 (due next July) by rereleasing its two earlier incarnations in \u2018Disney Digital 3D\u2019. \u2018Toy Story 2 in 3D\u2019 launches next January, but before that we have its seminal stablemate, and on the evidence of a recent viewing, John Lasseter \u2019s film hasn\u2019t aged at all. It\u2019s so ingenious in concept, design and execution that you could watch it on a postage stamp-sized screen and still be engulfed by its charm. That said, there\u2019s no denying that 3D has enhanced the experience threefold in the way it lifts the print off the screen and plonks it on the viewer\u2019s lap. And because it was never made with a third dimension in mind, there\u2019s no over-egging of the effects. When Lasseter\u2019s first computer-generated foray was released back in 1995, it broke boundaries; seeing it nearly 15 years on only highlights its enduring ability to seduce all generations with its wit and spirit. Roll on, Woody!\n",
        "Author: Derek Adams\n",
        "\n"
       ]
      }
     ],
     "prompt_number": 104
    },
    {
     "cell_type": "markdown",
     "metadata": {},
     "source": [
      "The following function will download all the original articles for the reviews in the critics dataframe.  This takes ~6 hours for 12,000 articles."
     ]
    },
    {
     "cell_type": "code",
     "collapsed": false,
     "input": [
      "def get_articles(data):\n",
      "    full_reviews = []\n",
      "    \n",
      "    for i in range(len(data)):\n",
      "        URL = data.irow(i)['link']\n",
      "        if (i%25 == 0):\n",
      "            print 'Processing review %d' % i\n",
      "        \n",
      "        try:\n",
      "            extractor = Extractor(extractor='ArticleExtractor', url=URL)\n",
      "            full_reviews.append(extractor.getText())\n",
      "        except:\n",
      "            full_reviews.append(None)\n",
      "            \n",
      "    review_df = pd.DataFrame(full_reviews, columns=['article'], index=data.index)\n",
      "    new_df = data.join(review_df)\n",
      "    new_df = new_df[~new_df.article.isnull()]\n",
      "        \n",
      "    return new_df\n",
      "\n",
      "time1 = time.time()\n",
      "article_df = get_articles(critics)\n",
      "time2 = time.time()\n",
      "print 'function took %0.3f m' % ((time2-time1) / 60.0)\n",
      "\n",
      "print len(critics)\n",
      "print len(article_df)\n",
      "article_df.head()"
     ],
     "language": "python",
     "metadata": {},
     "outputs": [
      {
       "output_type": "stream",
       "stream": "stdout",
       "text": [
        "Processing review 0\n",
        "Processing review 25"
       ]
      },
      {
       "output_type": "stream",
       "stream": "stdout",
       "text": [
        "\n",
        "Processing review 50"
       ]
      },
      {
       "output_type": "stream",
       "stream": "stdout",
       "text": [
        "\n",
        "Processing review 75"
       ]
      },
      {
       "output_type": "stream",
       "stream": "stdout",
       "text": [
        "\n",
        "Processing review 100"
       ]
      },
      {
       "output_type": "stream",
       "stream": "stdout",
       "text": [
        "\n",
        "Processing review 125"
       ]
      },
      {
       "output_type": "stream",
       "stream": "stdout",
       "text": [
        "\n",
        "Processing review 150"
       ]
      },
      {
       "output_type": "stream",
       "stream": "stdout",
       "text": [
        "\n",
        "Processing review 175"
       ]
      },
      {
       "output_type": "stream",
       "stream": "stdout",
       "text": [
        "\n",
        "Processing review 200"
       ]
      },
      {
       "output_type": "stream",
       "stream": "stdout",
       "text": [
        "\n",
        "Processing review 225"
       ]
      },
      {
       "output_type": "stream",
       "stream": "stdout",
       "text": [
        "\n",
        "Processing review 250"
       ]
      },
      {
       "output_type": "stream",
       "stream": "stdout",
       "text": [
        "\n",
        "Processing review 275"
       ]
      },
      {
       "output_type": "stream",
       "stream": "stdout",
       "text": [
        "\n",
        "Processing review 300"
       ]
      },
      {
       "output_type": "stream",
       "stream": "stdout",
       "text": [
        "\n",
        "Processing review 325"
       ]
      },
      {
       "output_type": "stream",
       "stream": "stdout",
       "text": [
        "\n",
        "Processing review 350"
       ]
      },
      {
       "output_type": "stream",
       "stream": "stdout",
       "text": [
        "\n",
        "Processing review 375"
       ]
      },
      {
       "output_type": "stream",
       "stream": "stdout",
       "text": [
        "\n",
        "Processing review 400"
       ]
      },
      {
       "output_type": "stream",
       "stream": "stdout",
       "text": [
        "\n",
        "Processing review 425"
       ]
      },
      {
       "output_type": "stream",
       "stream": "stdout",
       "text": [
        "\n",
        "Processing review 450"
       ]
      },
      {
       "output_type": "stream",
       "stream": "stdout",
       "text": [
        "\n",
        "Processing review 475"
       ]
      },
      {
       "output_type": "stream",
       "stream": "stdout",
       "text": [
        "\n",
        "Processing review 500"
       ]
      },
      {
       "output_type": "stream",
       "stream": "stdout",
       "text": [
        "\n",
        "Processing review 525"
       ]
      },
      {
       "output_type": "stream",
       "stream": "stdout",
       "text": [
        "\n",
        "Processing review 550"
       ]
      },
      {
       "output_type": "stream",
       "stream": "stdout",
       "text": [
        "\n",
        "Processing review 575"
       ]
      },
      {
       "output_type": "stream",
       "stream": "stdout",
       "text": [
        "\n",
        "Processing review 600"
       ]
      },
      {
       "output_type": "stream",
       "stream": "stdout",
       "text": [
        "\n",
        "Processing review 625"
       ]
      },
      {
       "output_type": "stream",
       "stream": "stdout",
       "text": [
        "\n",
        "Processing review 650"
       ]
      },
      {
       "output_type": "stream",
       "stream": "stdout",
       "text": [
        "\n",
        "Processing review 675"
       ]
      },
      {
       "output_type": "stream",
       "stream": "stdout",
       "text": [
        "\n",
        "Processing review 700"
       ]
      },
      {
       "output_type": "stream",
       "stream": "stdout",
       "text": [
        "\n",
        "Processing review 725"
       ]
      },
      {
       "output_type": "stream",
       "stream": "stdout",
       "text": [
        "\n",
        "Processing review 750"
       ]
      },
      {
       "output_type": "stream",
       "stream": "stdout",
       "text": [
        "\n",
        "Processing review 775"
       ]
      },
      {
       "output_type": "stream",
       "stream": "stdout",
       "text": [
        "\n",
        "Processing review 800"
       ]
      },
      {
       "output_type": "stream",
       "stream": "stdout",
       "text": [
        "\n",
        "Processing review 825"
       ]
      },
      {
       "output_type": "stream",
       "stream": "stdout",
       "text": [
        "\n",
        "Processing review 850"
       ]
      },
      {
       "output_type": "stream",
       "stream": "stdout",
       "text": [
        "\n",
        "Processing review 875"
       ]
      },
      {
       "output_type": "stream",
       "stream": "stdout",
       "text": [
        "\n",
        "Processing review 900"
       ]
      },
      {
       "output_type": "stream",
       "stream": "stdout",
       "text": [
        "\n",
        "Processing review 925"
       ]
      },
      {
       "output_type": "stream",
       "stream": "stdout",
       "text": [
        "\n",
        "Processing review 950"
       ]
      },
      {
       "output_type": "stream",
       "stream": "stdout",
       "text": [
        "\n",
        "Processing review 975"
       ]
      },
      {
       "output_type": "stream",
       "stream": "stdout",
       "text": [
        "\n",
        "Processing review 1000"
       ]
      },
      {
       "output_type": "stream",
       "stream": "stdout",
       "text": [
        "\n",
        "Processing review 1025"
       ]
      },
      {
       "output_type": "stream",
       "stream": "stdout",
       "text": [
        "\n",
        "Processing review 1050"
       ]
      },
      {
       "output_type": "stream",
       "stream": "stdout",
       "text": [
        "\n",
        "Processing review 1075"
       ]
      },
      {
       "output_type": "stream",
       "stream": "stdout",
       "text": [
        "\n",
        "Processing review 1100"
       ]
      },
      {
       "output_type": "stream",
       "stream": "stdout",
       "text": [
        "\n",
        "Processing review 1125"
       ]
      },
      {
       "output_type": "stream",
       "stream": "stdout",
       "text": [
        "\n",
        "Processing review 1150"
       ]
      },
      {
       "output_type": "stream",
       "stream": "stdout",
       "text": [
        "\n",
        "Processing review 1175"
       ]
      },
      {
       "output_type": "stream",
       "stream": "stdout",
       "text": [
        "\n",
        "Processing review 1200"
       ]
      },
      {
       "output_type": "stream",
       "stream": "stdout",
       "text": [
        "\n",
        "Processing review 1225"
       ]
      },
      {
       "output_type": "stream",
       "stream": "stdout",
       "text": [
        "\n",
        "Processing review 1250"
       ]
      },
      {
       "output_type": "stream",
       "stream": "stdout",
       "text": [
        "\n",
        "Processing review 1275"
       ]
      },
      {
       "output_type": "stream",
       "stream": "stdout",
       "text": [
        "\n",
        "Processing review 1300"
       ]
      },
      {
       "output_type": "stream",
       "stream": "stdout",
       "text": [
        "\n",
        "Processing review 1325"
       ]
      },
      {
       "output_type": "stream",
       "stream": "stdout",
       "text": [
        "\n",
        "Processing review 1350"
       ]
      },
      {
       "output_type": "stream",
       "stream": "stdout",
       "text": [
        "\n",
        "Processing review 1375"
       ]
      },
      {
       "output_type": "stream",
       "stream": "stdout",
       "text": [
        "\n",
        "Processing review 1400"
       ]
      },
      {
       "output_type": "stream",
       "stream": "stdout",
       "text": [
        "\n",
        "Processing review 1425"
       ]
      },
      {
       "output_type": "stream",
       "stream": "stdout",
       "text": [
        "\n",
        "Processing review 1450"
       ]
      },
      {
       "output_type": "stream",
       "stream": "stdout",
       "text": [
        "\n",
        "Processing review 1475"
       ]
      },
      {
       "output_type": "stream",
       "stream": "stdout",
       "text": [
        "\n",
        "Processing review 1500"
       ]
      },
      {
       "output_type": "stream",
       "stream": "stdout",
       "text": [
        "\n",
        "Processing review 1525"
       ]
      },
      {
       "output_type": "stream",
       "stream": "stdout",
       "text": [
        "\n",
        "Processing review 1550"
       ]
      },
      {
       "output_type": "stream",
       "stream": "stdout",
       "text": [
        "\n",
        "Processing review 1575"
       ]
      },
      {
       "output_type": "stream",
       "stream": "stdout",
       "text": [
        "\n",
        "Processing review 1600"
       ]
      },
      {
       "output_type": "stream",
       "stream": "stdout",
       "text": [
        "\n",
        "Processing review 1625"
       ]
      },
      {
       "output_type": "stream",
       "stream": "stdout",
       "text": [
        "\n",
        "Processing review 1650"
       ]
      },
      {
       "output_type": "stream",
       "stream": "stdout",
       "text": [
        "\n",
        "Processing review 1675"
       ]
      },
      {
       "output_type": "stream",
       "stream": "stdout",
       "text": [
        "\n",
        "Processing review 1700"
       ]
      },
      {
       "output_type": "stream",
       "stream": "stdout",
       "text": [
        "\n",
        "Processing review 1725"
       ]
      },
      {
       "output_type": "stream",
       "stream": "stdout",
       "text": [
        "\n",
        "Processing review 1750"
       ]
      },
      {
       "output_type": "stream",
       "stream": "stdout",
       "text": [
        "\n",
        "Processing review 1775"
       ]
      },
      {
       "output_type": "stream",
       "stream": "stdout",
       "text": [
        "\n",
        "Processing review 1800"
       ]
      },
      {
       "output_type": "stream",
       "stream": "stdout",
       "text": [
        "\n",
        "Processing review 1825"
       ]
      },
      {
       "output_type": "stream",
       "stream": "stdout",
       "text": [
        "\n",
        "Processing review 1850"
       ]
      },
      {
       "output_type": "stream",
       "stream": "stdout",
       "text": [
        "\n",
        "Processing review 1875"
       ]
      },
      {
       "output_type": "stream",
       "stream": "stdout",
       "text": [
        "\n",
        "Processing review 1900"
       ]
      },
      {
       "output_type": "stream",
       "stream": "stdout",
       "text": [
        "\n",
        "Processing review 1925"
       ]
      },
      {
       "output_type": "stream",
       "stream": "stdout",
       "text": [
        "\n",
        "Processing review 1950"
       ]
      },
      {
       "output_type": "stream",
       "stream": "stdout",
       "text": [
        "\n",
        "Processing review 1975"
       ]
      },
      {
       "output_type": "stream",
       "stream": "stdout",
       "text": [
        "\n",
        "Processing review 2000"
       ]
      },
      {
       "output_type": "stream",
       "stream": "stdout",
       "text": [
        "\n",
        "Processing review 2025"
       ]
      },
      {
       "output_type": "stream",
       "stream": "stdout",
       "text": [
        "\n",
        "Processing review 2050"
       ]
      },
      {
       "output_type": "stream",
       "stream": "stdout",
       "text": [
        "\n",
        "Processing review 2075"
       ]
      },
      {
       "output_type": "stream",
       "stream": "stdout",
       "text": [
        "\n",
        "Processing review 2100"
       ]
      },
      {
       "output_type": "stream",
       "stream": "stdout",
       "text": [
        "\n",
        "Processing review 2125"
       ]
      },
      {
       "output_type": "stream",
       "stream": "stdout",
       "text": [
        "\n",
        "Processing review 2150"
       ]
      },
      {
       "output_type": "stream",
       "stream": "stdout",
       "text": [
        "\n",
        "Processing review 2175"
       ]
      },
      {
       "output_type": "stream",
       "stream": "stdout",
       "text": [
        "\n",
        "Processing review 2200"
       ]
      },
      {
       "output_type": "stream",
       "stream": "stdout",
       "text": [
        "\n",
        "Processing review 2225"
       ]
      },
      {
       "output_type": "stream",
       "stream": "stdout",
       "text": [
        "\n",
        "Processing review 2250"
       ]
      },
      {
       "output_type": "stream",
       "stream": "stdout",
       "text": [
        "\n",
        "Processing review 2275"
       ]
      },
      {
       "output_type": "stream",
       "stream": "stdout",
       "text": [
        "\n",
        "Processing review 2300"
       ]
      },
      {
       "output_type": "stream",
       "stream": "stdout",
       "text": [
        "\n",
        "Processing review 2325"
       ]
      },
      {
       "output_type": "stream",
       "stream": "stdout",
       "text": [
        "\n",
        "Processing review 2350"
       ]
      },
      {
       "output_type": "stream",
       "stream": "stdout",
       "text": [
        "\n",
        "Processing review 2375"
       ]
      },
      {
       "output_type": "stream",
       "stream": "stdout",
       "text": [
        "\n",
        "Processing review 2400"
       ]
      },
      {
       "output_type": "stream",
       "stream": "stdout",
       "text": [
        "\n",
        "Processing review 2425"
       ]
      },
      {
       "output_type": "stream",
       "stream": "stdout",
       "text": [
        "\n",
        "Processing review 2450"
       ]
      },
      {
       "output_type": "stream",
       "stream": "stdout",
       "text": [
        "\n",
        "Processing review 2475"
       ]
      },
      {
       "output_type": "stream",
       "stream": "stdout",
       "text": [
        "\n",
        "Processing review 2500"
       ]
      },
      {
       "output_type": "stream",
       "stream": "stdout",
       "text": [
        "\n",
        "Processing review 2525"
       ]
      },
      {
       "output_type": "stream",
       "stream": "stdout",
       "text": [
        "\n",
        "Processing review 2550"
       ]
      },
      {
       "output_type": "stream",
       "stream": "stdout",
       "text": [
        "\n",
        "Processing review 2575"
       ]
      },
      {
       "output_type": "stream",
       "stream": "stdout",
       "text": [
        "\n",
        "Processing review 2600"
       ]
      },
      {
       "output_type": "stream",
       "stream": "stdout",
       "text": [
        "\n",
        "Processing review 2625"
       ]
      },
      {
       "output_type": "stream",
       "stream": "stdout",
       "text": [
        "\n",
        "Processing review 2650"
       ]
      },
      {
       "output_type": "stream",
       "stream": "stdout",
       "text": [
        "\n",
        "Processing review 2675"
       ]
      },
      {
       "output_type": "stream",
       "stream": "stdout",
       "text": [
        "\n",
        "Processing review 2700"
       ]
      },
      {
       "output_type": "stream",
       "stream": "stdout",
       "text": [
        "\n",
        "Processing review 2725"
       ]
      },
      {
       "output_type": "stream",
       "stream": "stdout",
       "text": [
        "\n",
        "Processing review 2750"
       ]
      },
      {
       "output_type": "stream",
       "stream": "stdout",
       "text": [
        "\n",
        "Processing review 2775"
       ]
      },
      {
       "output_type": "stream",
       "stream": "stdout",
       "text": [
        "\n",
        "Processing review 2800"
       ]
      },
      {
       "output_type": "stream",
       "stream": "stdout",
       "text": [
        "\n",
        "Processing review 2825"
       ]
      },
      {
       "output_type": "stream",
       "stream": "stdout",
       "text": [
        "\n",
        "Processing review 2850"
       ]
      },
      {
       "output_type": "stream",
       "stream": "stdout",
       "text": [
        "\n",
        "Processing review 2875"
       ]
      },
      {
       "output_type": "stream",
       "stream": "stdout",
       "text": [
        "\n",
        "Processing review 2900"
       ]
      },
      {
       "output_type": "stream",
       "stream": "stdout",
       "text": [
        "\n",
        "Processing review 2925"
       ]
      },
      {
       "output_type": "stream",
       "stream": "stdout",
       "text": [
        "\n",
        "Processing review 2950"
       ]
      },
      {
       "output_type": "stream",
       "stream": "stdout",
       "text": [
        "\n",
        "Processing review 2975"
       ]
      },
      {
       "output_type": "stream",
       "stream": "stdout",
       "text": [
        "\n",
        "Processing review 3000"
       ]
      },
      {
       "output_type": "stream",
       "stream": "stdout",
       "text": [
        "\n",
        "Processing review 3025"
       ]
      },
      {
       "output_type": "stream",
       "stream": "stdout",
       "text": [
        "\n",
        "Processing review 3050"
       ]
      },
      {
       "output_type": "stream",
       "stream": "stdout",
       "text": [
        "\n",
        "Processing review 3075"
       ]
      },
      {
       "output_type": "stream",
       "stream": "stdout",
       "text": [
        "\n",
        "Processing review 3100"
       ]
      },
      {
       "output_type": "stream",
       "stream": "stdout",
       "text": [
        "\n",
        "Processing review 3125"
       ]
      },
      {
       "output_type": "stream",
       "stream": "stdout",
       "text": [
        "\n",
        "Processing review 3150"
       ]
      },
      {
       "output_type": "stream",
       "stream": "stdout",
       "text": [
        "\n",
        "Processing review 3175"
       ]
      },
      {
       "output_type": "stream",
       "stream": "stdout",
       "text": [
        "\n",
        "Processing review 3200"
       ]
      },
      {
       "output_type": "stream",
       "stream": "stdout",
       "text": [
        "\n",
        "Processing review 3225"
       ]
      },
      {
       "output_type": "stream",
       "stream": "stdout",
       "text": [
        "\n",
        "Processing review 3250"
       ]
      },
      {
       "output_type": "stream",
       "stream": "stdout",
       "text": [
        "\n",
        "Processing review 3275"
       ]
      },
      {
       "output_type": "stream",
       "stream": "stdout",
       "text": [
        "\n",
        "Processing review 3300"
       ]
      },
      {
       "output_type": "stream",
       "stream": "stdout",
       "text": [
        "\n",
        "Processing review 3325"
       ]
      },
      {
       "output_type": "stream",
       "stream": "stdout",
       "text": [
        "\n",
        "Processing review 3350"
       ]
      },
      {
       "output_type": "stream",
       "stream": "stdout",
       "text": [
        "\n",
        "Processing review 3375"
       ]
      },
      {
       "output_type": "stream",
       "stream": "stdout",
       "text": [
        "\n",
        "Processing review 3400"
       ]
      },
      {
       "output_type": "stream",
       "stream": "stdout",
       "text": [
        "\n",
        "Processing review 3425"
       ]
      },
      {
       "output_type": "stream",
       "stream": "stdout",
       "text": [
        "\n",
        "Processing review 3450"
       ]
      },
      {
       "output_type": "stream",
       "stream": "stdout",
       "text": [
        "\n",
        "Processing review 3475"
       ]
      },
      {
       "output_type": "stream",
       "stream": "stdout",
       "text": [
        "\n",
        "Processing review 3500"
       ]
      },
      {
       "output_type": "stream",
       "stream": "stdout",
       "text": [
        "\n",
        "Processing review 3525"
       ]
      },
      {
       "output_type": "stream",
       "stream": "stdout",
       "text": [
        "\n",
        "Processing review 3550"
       ]
      },
      {
       "output_type": "stream",
       "stream": "stdout",
       "text": [
        "\n",
        "Processing review 3575"
       ]
      },
      {
       "output_type": "stream",
       "stream": "stdout",
       "text": [
        "\n",
        "Processing review 3600"
       ]
      },
      {
       "output_type": "stream",
       "stream": "stdout",
       "text": [
        "\n",
        "Processing review 3625"
       ]
      },
      {
       "output_type": "stream",
       "stream": "stdout",
       "text": [
        "\n",
        "Processing review 3650"
       ]
      },
      {
       "output_type": "stream",
       "stream": "stdout",
       "text": [
        "\n",
        "Processing review 3675"
       ]
      },
      {
       "output_type": "stream",
       "stream": "stdout",
       "text": [
        "\n",
        "Processing review 3700"
       ]
      },
      {
       "output_type": "stream",
       "stream": "stdout",
       "text": [
        "\n",
        "Processing review 3725"
       ]
      },
      {
       "output_type": "stream",
       "stream": "stdout",
       "text": [
        "\n",
        "Processing review 3750"
       ]
      },
      {
       "output_type": "stream",
       "stream": "stdout",
       "text": [
        "\n",
        "Processing review 3775"
       ]
      },
      {
       "output_type": "stream",
       "stream": "stdout",
       "text": [
        "\n",
        "Processing review 3800"
       ]
      },
      {
       "output_type": "stream",
       "stream": "stdout",
       "text": [
        "\n",
        "Processing review 3825"
       ]
      },
      {
       "output_type": "stream",
       "stream": "stdout",
       "text": [
        "\n",
        "Processing review 3850"
       ]
      },
      {
       "output_type": "stream",
       "stream": "stdout",
       "text": [
        "\n",
        "Processing review 3875"
       ]
      },
      {
       "output_type": "stream",
       "stream": "stdout",
       "text": [
        "\n",
        "Processing review 3900"
       ]
      },
      {
       "output_type": "stream",
       "stream": "stdout",
       "text": [
        "\n",
        "Processing review 3925"
       ]
      },
      {
       "output_type": "stream",
       "stream": "stdout",
       "text": [
        "\n",
        "Processing review 3950"
       ]
      },
      {
       "output_type": "stream",
       "stream": "stdout",
       "text": [
        "\n",
        "Processing review 3975"
       ]
      },
      {
       "output_type": "stream",
       "stream": "stdout",
       "text": [
        "\n",
        "Processing review 4000"
       ]
      },
      {
       "output_type": "stream",
       "stream": "stdout",
       "text": [
        "\n",
        "Processing review 4025"
       ]
      },
      {
       "output_type": "stream",
       "stream": "stdout",
       "text": [
        "\n",
        "Processing review 4050"
       ]
      },
      {
       "output_type": "stream",
       "stream": "stdout",
       "text": [
        "\n",
        "Processing review 4075"
       ]
      },
      {
       "output_type": "stream",
       "stream": "stdout",
       "text": [
        "\n",
        "Processing review 4100"
       ]
      },
      {
       "output_type": "stream",
       "stream": "stdout",
       "text": [
        "\n",
        "Processing review 4125"
       ]
      },
      {
       "output_type": "stream",
       "stream": "stdout",
       "text": [
        "\n",
        "Processing review 4150"
       ]
      },
      {
       "output_type": "stream",
       "stream": "stdout",
       "text": [
        "\n",
        "Processing review 4175"
       ]
      },
      {
       "output_type": "stream",
       "stream": "stdout",
       "text": [
        "\n",
        "Processing review 4200"
       ]
      },
      {
       "output_type": "stream",
       "stream": "stdout",
       "text": [
        "\n",
        "Processing review 4225"
       ]
      },
      {
       "output_type": "stream",
       "stream": "stdout",
       "text": [
        "\n",
        "Processing review 4250"
       ]
      },
      {
       "output_type": "stream",
       "stream": "stdout",
       "text": [
        "\n",
        "Processing review 4275"
       ]
      },
      {
       "output_type": "stream",
       "stream": "stdout",
       "text": [
        "\n",
        "Processing review 4300"
       ]
      },
      {
       "output_type": "stream",
       "stream": "stdout",
       "text": [
        "\n",
        "Processing review 4325"
       ]
      },
      {
       "output_type": "stream",
       "stream": "stdout",
       "text": [
        "\n",
        "Processing review 4350"
       ]
      },
      {
       "output_type": "stream",
       "stream": "stdout",
       "text": [
        "\n",
        "Processing review 4375"
       ]
      },
      {
       "output_type": "stream",
       "stream": "stdout",
       "text": [
        "\n",
        "Processing review 4400"
       ]
      },
      {
       "output_type": "stream",
       "stream": "stdout",
       "text": [
        "\n",
        "Processing review 4425"
       ]
      },
      {
       "output_type": "stream",
       "stream": "stdout",
       "text": [
        "\n",
        "Processing review 4450"
       ]
      },
      {
       "output_type": "stream",
       "stream": "stdout",
       "text": [
        "\n",
        "Processing review 4475"
       ]
      },
      {
       "output_type": "stream",
       "stream": "stdout",
       "text": [
        "\n",
        "Processing review 4500"
       ]
      },
      {
       "output_type": "stream",
       "stream": "stdout",
       "text": [
        "\n",
        "Processing review 4525"
       ]
      },
      {
       "output_type": "stream",
       "stream": "stdout",
       "text": [
        "\n",
        "Processing review 4550"
       ]
      },
      {
       "output_type": "stream",
       "stream": "stdout",
       "text": [
        "\n",
        "Processing review 4575"
       ]
      },
      {
       "output_type": "stream",
       "stream": "stdout",
       "text": [
        "\n",
        "Processing review 4600"
       ]
      },
      {
       "output_type": "stream",
       "stream": "stdout",
       "text": [
        "\n",
        "Processing review 4625"
       ]
      },
      {
       "output_type": "stream",
       "stream": "stdout",
       "text": [
        "\n",
        "Processing review 4650"
       ]
      },
      {
       "output_type": "stream",
       "stream": "stdout",
       "text": [
        "\n",
        "Processing review 4675"
       ]
      },
      {
       "output_type": "stream",
       "stream": "stdout",
       "text": [
        "\n",
        "Processing review 4700"
       ]
      },
      {
       "output_type": "stream",
       "stream": "stdout",
       "text": [
        "\n",
        "Processing review 4725"
       ]
      },
      {
       "output_type": "stream",
       "stream": "stdout",
       "text": [
        "\n",
        "Processing review 4750"
       ]
      },
      {
       "output_type": "stream",
       "stream": "stdout",
       "text": [
        "\n",
        "Processing review 4775"
       ]
      },
      {
       "output_type": "stream",
       "stream": "stdout",
       "text": [
        "\n",
        "Processing review 4800"
       ]
      },
      {
       "output_type": "stream",
       "stream": "stdout",
       "text": [
        "\n",
        "Processing review 4825"
       ]
      },
      {
       "output_type": "stream",
       "stream": "stdout",
       "text": [
        "\n",
        "Processing review 4850"
       ]
      },
      {
       "output_type": "stream",
       "stream": "stdout",
       "text": [
        "\n",
        "Processing review 4875"
       ]
      },
      {
       "output_type": "stream",
       "stream": "stdout",
       "text": [
        "\n",
        "Processing review 4900"
       ]
      },
      {
       "output_type": "stream",
       "stream": "stdout",
       "text": [
        "\n",
        "Processing review 4925"
       ]
      },
      {
       "output_type": "stream",
       "stream": "stdout",
       "text": [
        "\n",
        "Processing review 4950"
       ]
      },
      {
       "output_type": "stream",
       "stream": "stdout",
       "text": [
        "\n",
        "Processing review 4975"
       ]
      },
      {
       "output_type": "stream",
       "stream": "stdout",
       "text": [
        "\n",
        "Processing review 5000"
       ]
      },
      {
       "output_type": "stream",
       "stream": "stdout",
       "text": [
        "\n",
        "Processing review 5025"
       ]
      },
      {
       "output_type": "stream",
       "stream": "stdout",
       "text": [
        "\n",
        "Processing review 5050"
       ]
      },
      {
       "output_type": "stream",
       "stream": "stdout",
       "text": [
        "\n",
        "Processing review 5075"
       ]
      },
      {
       "output_type": "stream",
       "stream": "stdout",
       "text": [
        "\n",
        "Processing review 5100"
       ]
      },
      {
       "output_type": "stream",
       "stream": "stdout",
       "text": [
        "\n",
        "Processing review 5125"
       ]
      },
      {
       "output_type": "stream",
       "stream": "stdout",
       "text": [
        "\n",
        "Processing review 5150"
       ]
      },
      {
       "output_type": "stream",
       "stream": "stdout",
       "text": [
        "\n",
        "Processing review 5175"
       ]
      },
      {
       "output_type": "stream",
       "stream": "stdout",
       "text": [
        "\n",
        "Processing review 5200"
       ]
      },
      {
       "output_type": "stream",
       "stream": "stdout",
       "text": [
        "\n",
        "Processing review 5225"
       ]
      },
      {
       "output_type": "stream",
       "stream": "stdout",
       "text": [
        "\n",
        "Processing review 5250"
       ]
      },
      {
       "output_type": "stream",
       "stream": "stdout",
       "text": [
        "\n",
        "Processing review 5275"
       ]
      },
      {
       "output_type": "stream",
       "stream": "stdout",
       "text": [
        "\n",
        "Processing review 5300"
       ]
      },
      {
       "output_type": "stream",
       "stream": "stdout",
       "text": [
        "\n",
        "Processing review 5325"
       ]
      },
      {
       "output_type": "stream",
       "stream": "stdout",
       "text": [
        "\n",
        "Processing review 5350"
       ]
      },
      {
       "output_type": "stream",
       "stream": "stdout",
       "text": [
        "\n",
        "Processing review 5375"
       ]
      },
      {
       "output_type": "stream",
       "stream": "stdout",
       "text": [
        "\n",
        "Processing review 5400"
       ]
      },
      {
       "output_type": "stream",
       "stream": "stdout",
       "text": [
        "\n",
        "Processing review 5425"
       ]
      },
      {
       "output_type": "stream",
       "stream": "stdout",
       "text": [
        "\n",
        "Processing review 5450"
       ]
      },
      {
       "output_type": "stream",
       "stream": "stdout",
       "text": [
        "\n",
        "Processing review 5475"
       ]
      },
      {
       "output_type": "stream",
       "stream": "stdout",
       "text": [
        "\n",
        "Processing review 5500"
       ]
      },
      {
       "output_type": "stream",
       "stream": "stdout",
       "text": [
        "\n",
        "Processing review 5525"
       ]
      },
      {
       "output_type": "stream",
       "stream": "stdout",
       "text": [
        "\n",
        "Processing review 5550"
       ]
      },
      {
       "output_type": "stream",
       "stream": "stdout",
       "text": [
        "\n",
        "Processing review 5575"
       ]
      },
      {
       "output_type": "stream",
       "stream": "stdout",
       "text": [
        "\n",
        "Processing review 5600"
       ]
      },
      {
       "output_type": "stream",
       "stream": "stdout",
       "text": [
        "\n",
        "Processing review 5625"
       ]
      },
      {
       "output_type": "stream",
       "stream": "stdout",
       "text": [
        "\n",
        "Processing review 5650"
       ]
      },
      {
       "output_type": "stream",
       "stream": "stdout",
       "text": [
        "\n",
        "Processing review 5675"
       ]
      },
      {
       "output_type": "stream",
       "stream": "stdout",
       "text": [
        "\n",
        "Processing review 5700"
       ]
      },
      {
       "output_type": "stream",
       "stream": "stdout",
       "text": [
        "\n",
        "Processing review 5725"
       ]
      },
      {
       "output_type": "stream",
       "stream": "stdout",
       "text": [
        "\n",
        "Processing review 5750"
       ]
      },
      {
       "output_type": "stream",
       "stream": "stdout",
       "text": [
        "\n",
        "Processing review 5775"
       ]
      },
      {
       "output_type": "stream",
       "stream": "stdout",
       "text": [
        "\n",
        "Processing review 5800"
       ]
      },
      {
       "output_type": "stream",
       "stream": "stdout",
       "text": [
        "\n",
        "Processing review 5825"
       ]
      },
      {
       "output_type": "stream",
       "stream": "stdout",
       "text": [
        "\n",
        "Processing review 5850"
       ]
      },
      {
       "output_type": "stream",
       "stream": "stdout",
       "text": [
        "\n",
        "Processing review 5875"
       ]
      },
      {
       "output_type": "stream",
       "stream": "stdout",
       "text": [
        "\n",
        "Processing review 5900"
       ]
      },
      {
       "output_type": "stream",
       "stream": "stdout",
       "text": [
        "\n",
        "Processing review 5925"
       ]
      },
      {
       "output_type": "stream",
       "stream": "stdout",
       "text": [
        "\n",
        "Processing review 5950"
       ]
      },
      {
       "output_type": "stream",
       "stream": "stdout",
       "text": [
        "\n",
        "Processing review 5975"
       ]
      },
      {
       "output_type": "stream",
       "stream": "stdout",
       "text": [
        "\n",
        "Processing review 6000"
       ]
      },
      {
       "output_type": "stream",
       "stream": "stdout",
       "text": [
        "\n",
        "Processing review 6025"
       ]
      },
      {
       "output_type": "stream",
       "stream": "stdout",
       "text": [
        "\n",
        "Processing review 6050"
       ]
      },
      {
       "output_type": "stream",
       "stream": "stdout",
       "text": [
        "\n",
        "Processing review 6075"
       ]
      },
      {
       "output_type": "stream",
       "stream": "stdout",
       "text": [
        "\n",
        "Processing review 6100"
       ]
      },
      {
       "output_type": "stream",
       "stream": "stdout",
       "text": [
        "\n",
        "Processing review 6125"
       ]
      },
      {
       "output_type": "stream",
       "stream": "stdout",
       "text": [
        "\n",
        "Processing review 6150"
       ]
      },
      {
       "output_type": "stream",
       "stream": "stdout",
       "text": [
        "\n",
        "Processing review 6175"
       ]
      },
      {
       "output_type": "stream",
       "stream": "stdout",
       "text": [
        "\n",
        "Processing review 6200"
       ]
      },
      {
       "output_type": "stream",
       "stream": "stdout",
       "text": [
        "\n",
        "Processing review 6225"
       ]
      },
      {
       "output_type": "stream",
       "stream": "stdout",
       "text": [
        "\n",
        "Processing review 6250"
       ]
      },
      {
       "output_type": "stream",
       "stream": "stdout",
       "text": [
        "\n",
        "Processing review 6275"
       ]
      },
      {
       "output_type": "stream",
       "stream": "stdout",
       "text": [
        "\n",
        "Processing review 6300"
       ]
      },
      {
       "output_type": "stream",
       "stream": "stdout",
       "text": [
        "\n",
        "Processing review 6325"
       ]
      },
      {
       "output_type": "stream",
       "stream": "stdout",
       "text": [
        "\n",
        "Processing review 6350"
       ]
      },
      {
       "output_type": "stream",
       "stream": "stdout",
       "text": [
        "\n",
        "Processing review 6375"
       ]
      },
      {
       "output_type": "stream",
       "stream": "stdout",
       "text": [
        "\n",
        "Processing review 6400"
       ]
      },
      {
       "output_type": "stream",
       "stream": "stdout",
       "text": [
        "\n",
        "Processing review 6425"
       ]
      },
      {
       "output_type": "stream",
       "stream": "stdout",
       "text": [
        "\n",
        "Processing review 6450"
       ]
      },
      {
       "output_type": "stream",
       "stream": "stdout",
       "text": [
        "\n",
        "Processing review 6475"
       ]
      },
      {
       "output_type": "stream",
       "stream": "stdout",
       "text": [
        "\n",
        "Processing review 6500"
       ]
      },
      {
       "output_type": "stream",
       "stream": "stdout",
       "text": [
        "\n",
        "Processing review 6525"
       ]
      },
      {
       "output_type": "stream",
       "stream": "stdout",
       "text": [
        "\n",
        "Processing review 6550"
       ]
      },
      {
       "output_type": "stream",
       "stream": "stdout",
       "text": [
        "\n",
        "Processing review 6575"
       ]
      },
      {
       "output_type": "stream",
       "stream": "stdout",
       "text": [
        "\n",
        "Processing review 6600"
       ]
      },
      {
       "output_type": "stream",
       "stream": "stdout",
       "text": [
        "\n",
        "Processing review 6625"
       ]
      },
      {
       "output_type": "stream",
       "stream": "stdout",
       "text": [
        "\n",
        "Processing review 6650"
       ]
      },
      {
       "output_type": "stream",
       "stream": "stdout",
       "text": [
        "\n",
        "Processing review 6675"
       ]
      },
      {
       "output_type": "stream",
       "stream": "stdout",
       "text": [
        "\n",
        "Processing review 6700"
       ]
      },
      {
       "output_type": "stream",
       "stream": "stdout",
       "text": [
        "\n",
        "Processing review 6725"
       ]
      },
      {
       "output_type": "stream",
       "stream": "stdout",
       "text": [
        "\n",
        "Processing review 6750"
       ]
      },
      {
       "output_type": "stream",
       "stream": "stdout",
       "text": [
        "\n",
        "Processing review 6775"
       ]
      },
      {
       "output_type": "stream",
       "stream": "stdout",
       "text": [
        "\n",
        "Processing review 6800"
       ]
      },
      {
       "output_type": "stream",
       "stream": "stdout",
       "text": [
        "\n",
        "Processing review 6825"
       ]
      },
      {
       "output_type": "stream",
       "stream": "stdout",
       "text": [
        "\n",
        "Processing review 6850"
       ]
      },
      {
       "output_type": "stream",
       "stream": "stdout",
       "text": [
        "\n",
        "Processing review 6875"
       ]
      },
      {
       "output_type": "stream",
       "stream": "stdout",
       "text": [
        "\n",
        "Processing review 6900"
       ]
      },
      {
       "output_type": "stream",
       "stream": "stdout",
       "text": [
        "\n",
        "Processing review 6925"
       ]
      },
      {
       "output_type": "stream",
       "stream": "stdout",
       "text": [
        "\n",
        "Processing review 6950"
       ]
      },
      {
       "output_type": "stream",
       "stream": "stdout",
       "text": [
        "\n",
        "Processing review 6975"
       ]
      },
      {
       "output_type": "stream",
       "stream": "stdout",
       "text": [
        "\n",
        "Processing review 7000"
       ]
      },
      {
       "output_type": "stream",
       "stream": "stdout",
       "text": [
        "\n",
        "Processing review 7025"
       ]
      },
      {
       "output_type": "stream",
       "stream": "stdout",
       "text": [
        "\n",
        "Processing review 7050"
       ]
      },
      {
       "output_type": "stream",
       "stream": "stdout",
       "text": [
        "\n",
        "Processing review 7075"
       ]
      },
      {
       "output_type": "stream",
       "stream": "stdout",
       "text": [
        "\n",
        "Processing review 7100"
       ]
      },
      {
       "output_type": "stream",
       "stream": "stdout",
       "text": [
        "\n",
        "Processing review 7125"
       ]
      },
      {
       "output_type": "stream",
       "stream": "stdout",
       "text": [
        "\n",
        "Processing review 7150"
       ]
      },
      {
       "output_type": "stream",
       "stream": "stdout",
       "text": [
        "\n",
        "Processing review 7175"
       ]
      },
      {
       "output_type": "stream",
       "stream": "stdout",
       "text": [
        "\n",
        "Processing review 7200"
       ]
      },
      {
       "output_type": "stream",
       "stream": "stdout",
       "text": [
        "\n",
        "Processing review 7225"
       ]
      },
      {
       "output_type": "stream",
       "stream": "stdout",
       "text": [
        "\n",
        "Processing review 7250"
       ]
      },
      {
       "output_type": "stream",
       "stream": "stdout",
       "text": [
        "\n",
        "Processing review 7275"
       ]
      },
      {
       "output_type": "stream",
       "stream": "stdout",
       "text": [
        "\n",
        "Processing review 7300"
       ]
      },
      {
       "output_type": "stream",
       "stream": "stdout",
       "text": [
        "\n",
        "Processing review 7325"
       ]
      },
      {
       "output_type": "stream",
       "stream": "stdout",
       "text": [
        "\n",
        "Processing review 7350"
       ]
      },
      {
       "output_type": "stream",
       "stream": "stdout",
       "text": [
        "\n",
        "Processing review 7375"
       ]
      },
      {
       "output_type": "stream",
       "stream": "stdout",
       "text": [
        "\n",
        "Processing review 7400"
       ]
      },
      {
       "output_type": "stream",
       "stream": "stdout",
       "text": [
        "\n",
        "Processing review 7425"
       ]
      },
      {
       "output_type": "stream",
       "stream": "stdout",
       "text": [
        "\n",
        "Processing review 7450"
       ]
      },
      {
       "output_type": "stream",
       "stream": "stdout",
       "text": [
        "\n",
        "Processing review 7475"
       ]
      },
      {
       "output_type": "stream",
       "stream": "stdout",
       "text": [
        "\n",
        "Processing review 7500"
       ]
      },
      {
       "output_type": "stream",
       "stream": "stdout",
       "text": [
        "\n",
        "Processing review 7525"
       ]
      },
      {
       "output_type": "stream",
       "stream": "stdout",
       "text": [
        "\n",
        "Processing review 7550"
       ]
      },
      {
       "output_type": "stream",
       "stream": "stdout",
       "text": [
        "\n",
        "Processing review 7575"
       ]
      },
      {
       "output_type": "stream",
       "stream": "stdout",
       "text": [
        "\n",
        "Processing review 7600"
       ]
      },
      {
       "output_type": "stream",
       "stream": "stdout",
       "text": [
        "\n",
        "Processing review 7625"
       ]
      },
      {
       "output_type": "stream",
       "stream": "stdout",
       "text": [
        "\n",
        "Processing review 7650"
       ]
      },
      {
       "output_type": "stream",
       "stream": "stdout",
       "text": [
        "\n",
        "Processing review 7675"
       ]
      },
      {
       "output_type": "stream",
       "stream": "stdout",
       "text": [
        "\n",
        "Processing review 7700"
       ]
      },
      {
       "output_type": "stream",
       "stream": "stdout",
       "text": [
        "\n",
        "Processing review 7725"
       ]
      },
      {
       "output_type": "stream",
       "stream": "stdout",
       "text": [
        "\n",
        "Processing review 7750"
       ]
      },
      {
       "output_type": "stream",
       "stream": "stdout",
       "text": [
        "\n",
        "Processing review 7775"
       ]
      },
      {
       "output_type": "stream",
       "stream": "stdout",
       "text": [
        "\n",
        "Processing review 7800"
       ]
      },
      {
       "output_type": "stream",
       "stream": "stdout",
       "text": [
        "\n",
        "Processing review 7825"
       ]
      },
      {
       "output_type": "stream",
       "stream": "stdout",
       "text": [
        "\n",
        "Processing review 7850"
       ]
      },
      {
       "output_type": "stream",
       "stream": "stdout",
       "text": [
        "\n",
        "Processing review 7875"
       ]
      },
      {
       "output_type": "stream",
       "stream": "stdout",
       "text": [
        "\n",
        "Processing review 7900"
       ]
      },
      {
       "output_type": "stream",
       "stream": "stdout",
       "text": [
        "\n",
        "Processing review 7925"
       ]
      },
      {
       "output_type": "stream",
       "stream": "stdout",
       "text": [
        "\n",
        "Processing review 7950"
       ]
      },
      {
       "output_type": "stream",
       "stream": "stdout",
       "text": [
        "\n",
        "Processing review 7975"
       ]
      },
      {
       "output_type": "stream",
       "stream": "stdout",
       "text": [
        "\n",
        "Processing review 8000"
       ]
      },
      {
       "output_type": "stream",
       "stream": "stdout",
       "text": [
        "\n",
        "Processing review 8025"
       ]
      },
      {
       "output_type": "stream",
       "stream": "stdout",
       "text": [
        "\n",
        "Processing review 8050"
       ]
      },
      {
       "output_type": "stream",
       "stream": "stdout",
       "text": [
        "\n",
        "Processing review 8075"
       ]
      },
      {
       "output_type": "stream",
       "stream": "stdout",
       "text": [
        "\n",
        "Processing review 8100"
       ]
      },
      {
       "output_type": "stream",
       "stream": "stdout",
       "text": [
        "\n",
        "Processing review 8125"
       ]
      },
      {
       "output_type": "stream",
       "stream": "stdout",
       "text": [
        "\n",
        "Processing review 8150"
       ]
      },
      {
       "output_type": "stream",
       "stream": "stdout",
       "text": [
        "\n",
        "Processing review 8175"
       ]
      },
      {
       "output_type": "stream",
       "stream": "stdout",
       "text": [
        "\n",
        "Processing review 8200"
       ]
      },
      {
       "output_type": "stream",
       "stream": "stdout",
       "text": [
        "\n",
        "Processing review 8225"
       ]
      },
      {
       "output_type": "stream",
       "stream": "stdout",
       "text": [
        "\n",
        "Processing review 8250"
       ]
      },
      {
       "output_type": "stream",
       "stream": "stdout",
       "text": [
        "\n",
        "Processing review 8275"
       ]
      },
      {
       "output_type": "stream",
       "stream": "stdout",
       "text": [
        "\n",
        "Processing review 8300"
       ]
      },
      {
       "output_type": "stream",
       "stream": "stdout",
       "text": [
        "\n",
        "Processing review 8325"
       ]
      },
      {
       "output_type": "stream",
       "stream": "stdout",
       "text": [
        "\n",
        "Processing review 8350"
       ]
      },
      {
       "output_type": "stream",
       "stream": "stdout",
       "text": [
        "\n",
        "Processing review 8375"
       ]
      },
      {
       "output_type": "stream",
       "stream": "stdout",
       "text": [
        "\n",
        "Processing review 8400"
       ]
      },
      {
       "output_type": "stream",
       "stream": "stdout",
       "text": [
        "\n",
        "Processing review 8425"
       ]
      },
      {
       "output_type": "stream",
       "stream": "stdout",
       "text": [
        "\n",
        "Processing review 8450"
       ]
      },
      {
       "output_type": "stream",
       "stream": "stdout",
       "text": [
        "\n",
        "Processing review 8475"
       ]
      },
      {
       "output_type": "stream",
       "stream": "stdout",
       "text": [
        "\n",
        "Processing review 8500"
       ]
      },
      {
       "output_type": "stream",
       "stream": "stdout",
       "text": [
        "\n",
        "Processing review 8525"
       ]
      },
      {
       "output_type": "stream",
       "stream": "stdout",
       "text": [
        "\n",
        "Processing review 8550"
       ]
      },
      {
       "output_type": "stream",
       "stream": "stdout",
       "text": [
        "\n",
        "Processing review 8575"
       ]
      },
      {
       "output_type": "stream",
       "stream": "stdout",
       "text": [
        "\n",
        "Processing review 8600"
       ]
      },
      {
       "output_type": "stream",
       "stream": "stdout",
       "text": [
        "\n",
        "Processing review 8625"
       ]
      },
      {
       "output_type": "stream",
       "stream": "stdout",
       "text": [
        "\n",
        "Processing review 8650"
       ]
      },
      {
       "output_type": "stream",
       "stream": "stdout",
       "text": [
        "\n",
        "Processing review 8675"
       ]
      },
      {
       "output_type": "stream",
       "stream": "stdout",
       "text": [
        "\n",
        "Processing review 8700"
       ]
      },
      {
       "output_type": "stream",
       "stream": "stdout",
       "text": [
        "\n",
        "Processing review 8725"
       ]
      },
      {
       "output_type": "stream",
       "stream": "stdout",
       "text": [
        "\n",
        "Processing review 8750"
       ]
      },
      {
       "output_type": "stream",
       "stream": "stdout",
       "text": [
        "\n",
        "Processing review 8775"
       ]
      },
      {
       "output_type": "stream",
       "stream": "stdout",
       "text": [
        "\n",
        "Processing review 8800"
       ]
      },
      {
       "output_type": "stream",
       "stream": "stdout",
       "text": [
        "\n",
        "Processing review 8825"
       ]
      },
      {
       "output_type": "stream",
       "stream": "stdout",
       "text": [
        "\n",
        "Processing review 8850"
       ]
      },
      {
       "output_type": "stream",
       "stream": "stdout",
       "text": [
        "\n",
        "Processing review 8875"
       ]
      },
      {
       "output_type": "stream",
       "stream": "stdout",
       "text": [
        "\n",
        "Processing review 8900"
       ]
      },
      {
       "output_type": "stream",
       "stream": "stdout",
       "text": [
        "\n",
        "Processing review 8925"
       ]
      },
      {
       "output_type": "stream",
       "stream": "stdout",
       "text": [
        "\n",
        "Processing review 8950"
       ]
      },
      {
       "output_type": "stream",
       "stream": "stdout",
       "text": [
        "\n",
        "Processing review 8975"
       ]
      },
      {
       "output_type": "stream",
       "stream": "stdout",
       "text": [
        "\n",
        "Processing review 9000"
       ]
      },
      {
       "output_type": "stream",
       "stream": "stdout",
       "text": [
        "\n",
        "Processing review 9025"
       ]
      },
      {
       "output_type": "stream",
       "stream": "stdout",
       "text": [
        "\n",
        "Processing review 9050"
       ]
      },
      {
       "output_type": "stream",
       "stream": "stdout",
       "text": [
        "\n",
        "Processing review 9075"
       ]
      },
      {
       "output_type": "stream",
       "stream": "stdout",
       "text": [
        "\n",
        "Processing review 9100"
       ]
      },
      {
       "output_type": "stream",
       "stream": "stdout",
       "text": [
        "\n",
        "Processing review 9125"
       ]
      },
      {
       "output_type": "stream",
       "stream": "stdout",
       "text": [
        "\n",
        "Processing review 9150"
       ]
      },
      {
       "output_type": "stream",
       "stream": "stdout",
       "text": [
        "\n",
        "Processing review 9175"
       ]
      },
      {
       "output_type": "stream",
       "stream": "stdout",
       "text": [
        "\n",
        "Processing review 9200"
       ]
      },
      {
       "output_type": "stream",
       "stream": "stdout",
       "text": [
        "\n",
        "Processing review 9225"
       ]
      },
      {
       "output_type": "stream",
       "stream": "stdout",
       "text": [
        "\n",
        "Processing review 9250"
       ]
      },
      {
       "output_type": "stream",
       "stream": "stdout",
       "text": [
        "\n",
        "Processing review 9275"
       ]
      },
      {
       "output_type": "stream",
       "stream": "stdout",
       "text": [
        "\n",
        "Processing review 9300"
       ]
      },
      {
       "output_type": "stream",
       "stream": "stdout",
       "text": [
        "\n",
        "Processing review 9325"
       ]
      },
      {
       "output_type": "stream",
       "stream": "stdout",
       "text": [
        "\n",
        "Processing review 9350"
       ]
      },
      {
       "output_type": "stream",
       "stream": "stdout",
       "text": [
        "\n",
        "Processing review 9375"
       ]
      },
      {
       "output_type": "stream",
       "stream": "stdout",
       "text": [
        "\n",
        "Processing review 9400"
       ]
      },
      {
       "output_type": "stream",
       "stream": "stdout",
       "text": [
        "\n",
        "Processing review 9425"
       ]
      },
      {
       "output_type": "stream",
       "stream": "stdout",
       "text": [
        "\n",
        "Processing review 9450"
       ]
      },
      {
       "output_type": "stream",
       "stream": "stdout",
       "text": [
        "\n",
        "Processing review 9475"
       ]
      },
      {
       "output_type": "stream",
       "stream": "stdout",
       "text": [
        "\n",
        "Processing review 9500"
       ]
      },
      {
       "output_type": "stream",
       "stream": "stdout",
       "text": [
        "\n",
        "Processing review 9525"
       ]
      },
      {
       "output_type": "stream",
       "stream": "stdout",
       "text": [
        "\n",
        "Processing review 9550"
       ]
      },
      {
       "output_type": "stream",
       "stream": "stdout",
       "text": [
        "\n",
        "Processing review 9575"
       ]
      },
      {
       "output_type": "stream",
       "stream": "stdout",
       "text": [
        "\n",
        "Processing review 9600"
       ]
      },
      {
       "output_type": "stream",
       "stream": "stdout",
       "text": [
        "\n",
        "Processing review 9625"
       ]
      },
      {
       "output_type": "stream",
       "stream": "stdout",
       "text": [
        "\n",
        "Processing review 9650"
       ]
      },
      {
       "output_type": "stream",
       "stream": "stdout",
       "text": [
        "\n",
        "Processing review 9675"
       ]
      },
      {
       "output_type": "stream",
       "stream": "stdout",
       "text": [
        "\n",
        "Processing review 9700"
       ]
      },
      {
       "output_type": "stream",
       "stream": "stdout",
       "text": [
        "\n",
        "Processing review 9725"
       ]
      },
      {
       "output_type": "stream",
       "stream": "stdout",
       "text": [
        "\n",
        "Processing review 9750"
       ]
      },
      {
       "output_type": "stream",
       "stream": "stdout",
       "text": [
        "\n",
        "Processing review 9775"
       ]
      },
      {
       "output_type": "stream",
       "stream": "stdout",
       "text": [
        "\n",
        "Processing review 9800"
       ]
      },
      {
       "output_type": "stream",
       "stream": "stdout",
       "text": [
        "\n",
        "Processing review 9825"
       ]
      },
      {
       "output_type": "stream",
       "stream": "stdout",
       "text": [
        "\n",
        "Processing review 9850"
       ]
      },
      {
       "output_type": "stream",
       "stream": "stdout",
       "text": [
        "\n",
        "Processing review 9875"
       ]
      },
      {
       "output_type": "stream",
       "stream": "stdout",
       "text": [
        "\n",
        "Processing review 9900"
       ]
      },
      {
       "output_type": "stream",
       "stream": "stdout",
       "text": [
        "\n",
        "Processing review 9925"
       ]
      },
      {
       "output_type": "stream",
       "stream": "stdout",
       "text": [
        "\n",
        "Processing review 9950"
       ]
      },
      {
       "output_type": "stream",
       "stream": "stdout",
       "text": [
        "\n",
        "Processing review 9975"
       ]
      },
      {
       "output_type": "stream",
       "stream": "stdout",
       "text": [
        "\n",
        "Processing review 10000"
       ]
      },
      {
       "output_type": "stream",
       "stream": "stdout",
       "text": [
        "\n",
        "Processing review 10025"
       ]
      },
      {
       "output_type": "stream",
       "stream": "stdout",
       "text": [
        "\n",
        "Processing review 10050"
       ]
      },
      {
       "output_type": "stream",
       "stream": "stdout",
       "text": [
        "\n",
        "Processing review 10075"
       ]
      },
      {
       "output_type": "stream",
       "stream": "stdout",
       "text": [
        "\n",
        "Processing review 10100"
       ]
      },
      {
       "output_type": "stream",
       "stream": "stdout",
       "text": [
        "\n",
        "Processing review 10125"
       ]
      },
      {
       "output_type": "stream",
       "stream": "stdout",
       "text": [
        "\n",
        "Processing review 10150"
       ]
      },
      {
       "output_type": "stream",
       "stream": "stdout",
       "text": [
        "\n",
        "Processing review 10175"
       ]
      },
      {
       "output_type": "stream",
       "stream": "stdout",
       "text": [
        "\n",
        "Processing review 10200"
       ]
      },
      {
       "output_type": "stream",
       "stream": "stdout",
       "text": [
        "\n",
        "Processing review 10225"
       ]
      },
      {
       "output_type": "stream",
       "stream": "stdout",
       "text": [
        "\n",
        "Processing review 10250"
       ]
      },
      {
       "output_type": "stream",
       "stream": "stdout",
       "text": [
        "\n",
        "Processing review 10275"
       ]
      },
      {
       "output_type": "stream",
       "stream": "stdout",
       "text": [
        "\n",
        "Processing review 10300"
       ]
      },
      {
       "output_type": "stream",
       "stream": "stdout",
       "text": [
        "\n",
        "Processing review 10325"
       ]
      },
      {
       "output_type": "stream",
       "stream": "stdout",
       "text": [
        "\n",
        "Processing review 10350"
       ]
      },
      {
       "output_type": "stream",
       "stream": "stdout",
       "text": [
        "\n",
        "Processing review 10375"
       ]
      },
      {
       "output_type": "stream",
       "stream": "stdout",
       "text": [
        "\n",
        "Processing review 10400"
       ]
      },
      {
       "output_type": "stream",
       "stream": "stdout",
       "text": [
        "\n",
        "Processing review 10425"
       ]
      },
      {
       "output_type": "stream",
       "stream": "stdout",
       "text": [
        "\n",
        "Processing review 10450"
       ]
      },
      {
       "output_type": "stream",
       "stream": "stdout",
       "text": [
        "\n",
        "Processing review 10475"
       ]
      },
      {
       "output_type": "stream",
       "stream": "stdout",
       "text": [
        "\n",
        "Processing review 10500"
       ]
      },
      {
       "output_type": "stream",
       "stream": "stdout",
       "text": [
        "\n",
        "Processing review 10525"
       ]
      },
      {
       "output_type": "stream",
       "stream": "stdout",
       "text": [
        "\n",
        "Processing review 10550"
       ]
      },
      {
       "output_type": "stream",
       "stream": "stdout",
       "text": [
        "\n",
        "Processing review 10575"
       ]
      },
      {
       "output_type": "stream",
       "stream": "stdout",
       "text": [
        "\n",
        "Processing review 10600"
       ]
      },
      {
       "output_type": "stream",
       "stream": "stdout",
       "text": [
        "\n",
        "Processing review 10625"
       ]
      },
      {
       "output_type": "stream",
       "stream": "stdout",
       "text": [
        "\n",
        "Processing review 10650"
       ]
      },
      {
       "output_type": "stream",
       "stream": "stdout",
       "text": [
        "\n",
        "Processing review 10675"
       ]
      },
      {
       "output_type": "stream",
       "stream": "stdout",
       "text": [
        "\n",
        "Processing review 10700"
       ]
      },
      {
       "output_type": "stream",
       "stream": "stdout",
       "text": [
        "\n",
        "Processing review 10725"
       ]
      },
      {
       "output_type": "stream",
       "stream": "stdout",
       "text": [
        "\n",
        "Processing review 10750"
       ]
      },
      {
       "output_type": "stream",
       "stream": "stdout",
       "text": [
        "\n",
        "Processing review 10775"
       ]
      },
      {
       "output_type": "stream",
       "stream": "stdout",
       "text": [
        "\n",
        "Processing review 10800"
       ]
      },
      {
       "output_type": "stream",
       "stream": "stdout",
       "text": [
        "\n",
        "Processing review 10825"
       ]
      },
      {
       "output_type": "stream",
       "stream": "stdout",
       "text": [
        "\n",
        "Processing review 10850"
       ]
      },
      {
       "output_type": "stream",
       "stream": "stdout",
       "text": [
        "\n",
        "Processing review 10875"
       ]
      },
      {
       "output_type": "stream",
       "stream": "stdout",
       "text": [
        "\n",
        "Processing review 10900"
       ]
      },
      {
       "output_type": "stream",
       "stream": "stdout",
       "text": [
        "\n",
        "Processing review 10925"
       ]
      },
      {
       "output_type": "stream",
       "stream": "stdout",
       "text": [
        "\n",
        "Processing review 10950"
       ]
      },
      {
       "output_type": "stream",
       "stream": "stdout",
       "text": [
        "\n",
        "Processing review 10975"
       ]
      },
      {
       "output_type": "stream",
       "stream": "stdout",
       "text": [
        "\n",
        "Processing review 11000"
       ]
      },
      {
       "output_type": "stream",
       "stream": "stdout",
       "text": [
        "\n",
        "Processing review 11025"
       ]
      },
      {
       "output_type": "stream",
       "stream": "stdout",
       "text": [
        "\n",
        "Processing review 11050"
       ]
      },
      {
       "output_type": "stream",
       "stream": "stdout",
       "text": [
        "\n",
        "Processing review 11075"
       ]
      },
      {
       "output_type": "stream",
       "stream": "stdout",
       "text": [
        "\n",
        "Processing review 11100"
       ]
      },
      {
       "output_type": "stream",
       "stream": "stdout",
       "text": [
        "\n",
        "Processing review 11125"
       ]
      },
      {
       "output_type": "stream",
       "stream": "stdout",
       "text": [
        "\n",
        "Processing review 11150"
       ]
      },
      {
       "output_type": "stream",
       "stream": "stdout",
       "text": [
        "\n",
        "Processing review 11175"
       ]
      },
      {
       "output_type": "stream",
       "stream": "stdout",
       "text": [
        "\n",
        "Processing review 11200"
       ]
      },
      {
       "output_type": "stream",
       "stream": "stdout",
       "text": [
        "\n",
        "Processing review 11225"
       ]
      },
      {
       "output_type": "stream",
       "stream": "stdout",
       "text": [
        "\n",
        "Processing review 11250"
       ]
      },
      {
       "output_type": "stream",
       "stream": "stdout",
       "text": [
        "\n",
        "Processing review 11275"
       ]
      },
      {
       "output_type": "stream",
       "stream": "stdout",
       "text": [
        "\n",
        "Processing review 11300"
       ]
      },
      {
       "output_type": "stream",
       "stream": "stdout",
       "text": [
        "\n",
        "Processing review 11325"
       ]
      },
      {
       "output_type": "stream",
       "stream": "stdout",
       "text": [
        "\n",
        "Processing review 11350"
       ]
      },
      {
       "output_type": "stream",
       "stream": "stdout",
       "text": [
        "\n",
        "Processing review 11375"
       ]
      },
      {
       "output_type": "stream",
       "stream": "stdout",
       "text": [
        "\n",
        "Processing review 11400"
       ]
      },
      {
       "output_type": "stream",
       "stream": "stdout",
       "text": [
        "\n",
        "Processing review 11425"
       ]
      },
      {
       "output_type": "stream",
       "stream": "stdout",
       "text": [
        "\n",
        "Processing review 11450"
       ]
      },
      {
       "output_type": "stream",
       "stream": "stdout",
       "text": [
        "\n",
        "Processing review 11475"
       ]
      },
      {
       "output_type": "stream",
       "stream": "stdout",
       "text": [
        "\n",
        "Processing review 11500"
       ]
      },
      {
       "output_type": "stream",
       "stream": "stdout",
       "text": [
        "\n",
        "Processing review 11525"
       ]
      },
      {
       "output_type": "stream",
       "stream": "stdout",
       "text": [
        "\n",
        "Processing review 11550"
       ]
      },
      {
       "output_type": "stream",
       "stream": "stdout",
       "text": [
        "\n",
        "Processing review 11575"
       ]
      },
      {
       "output_type": "stream",
       "stream": "stdout",
       "text": [
        "\n",
        "Processing review 11600"
       ]
      },
      {
       "output_type": "stream",
       "stream": "stdout",
       "text": [
        "\n",
        "Processing review 11625"
       ]
      },
      {
       "output_type": "stream",
       "stream": "stdout",
       "text": [
        "\n",
        "Processing review 11650"
       ]
      },
      {
       "output_type": "stream",
       "stream": "stdout",
       "text": [
        "\n",
        "Processing review 11675"
       ]
      },
      {
       "output_type": "stream",
       "stream": "stdout",
       "text": [
        "\n",
        "Processing review 11700"
       ]
      },
      {
       "output_type": "stream",
       "stream": "stdout",
       "text": [
        "\n",
        "Processing review 11725"
       ]
      },
      {
       "output_type": "stream",
       "stream": "stdout",
       "text": [
        "\n",
        "Processing review 11750"
       ]
      },
      {
       "output_type": "stream",
       "stream": "stdout",
       "text": [
        "\n",
        "Processing review 11775"
       ]
      },
      {
       "output_type": "stream",
       "stream": "stdout",
       "text": [
        "\n",
        "Processing review 11800"
       ]
      },
      {
       "output_type": "stream",
       "stream": "stdout",
       "text": [
        "\n",
        "Processing review 11825"
       ]
      },
      {
       "output_type": "stream",
       "stream": "stdout",
       "text": [
        "\n",
        "Processing review 11850"
       ]
      },
      {
       "output_type": "stream",
       "stream": "stdout",
       "text": [
        "\n",
        "Processing review 11875"
       ]
      },
      {
       "output_type": "stream",
       "stream": "stdout",
       "text": [
        "\n",
        "Processing review 11900"
       ]
      },
      {
       "output_type": "stream",
       "stream": "stdout",
       "text": [
        "\n",
        "Processing review 11925"
       ]
      },
      {
       "output_type": "stream",
       "stream": "stdout",
       "text": [
        "\n",
        "Processing review 11950"
       ]
      },
      {
       "output_type": "stream",
       "stream": "stdout",
       "text": [
        "\n",
        "Processing review 11975"
       ]
      },
      {
       "output_type": "stream",
       "stream": "stdout",
       "text": [
        "\n",
        "Processing review 12000"
       ]
      },
      {
       "output_type": "stream",
       "stream": "stdout",
       "text": [
        "\n",
        "Processing review 12025"
       ]
      },
      {
       "output_type": "stream",
       "stream": "stdout",
       "text": [
        "\n",
        "Processing review 12050"
       ]
      },
      {
       "output_type": "stream",
       "stream": "stdout",
       "text": [
        "\n",
        "Processing review 12075"
       ]
      },
      {
       "output_type": "stream",
       "stream": "stdout",
       "text": [
        "\n",
        "Processing review 12100"
       ]
      },
      {
       "output_type": "stream",
       "stream": "stdout",
       "text": [
        "\n",
        "Processing review 12125"
       ]
      },
      {
       "output_type": "stream",
       "stream": "stdout",
       "text": [
        "\n",
        "Processing review 12150"
       ]
      },
      {
       "output_type": "stream",
       "stream": "stdout",
       "text": [
        "\n",
        "Processing review 12175"
       ]
      },
      {
       "output_type": "stream",
       "stream": "stdout",
       "text": [
        "\n",
        "Processing review 12200"
       ]
      },
      {
       "output_type": "stream",
       "stream": "stdout",
       "text": [
        "\n",
        "Processing review 12225"
       ]
      },
      {
       "output_type": "stream",
       "stream": "stdout",
       "text": [
        "\n",
        "Processing review 12250"
       ]
      },
      {
       "output_type": "stream",
       "stream": "stdout",
       "text": [
        "\n",
        "Processing review 12275"
       ]
      },
      {
       "output_type": "stream",
       "stream": "stdout",
       "text": [
        "\n",
        "Processing review 12300"
       ]
      },
      {
       "output_type": "stream",
       "stream": "stdout",
       "text": [
        "\n",
        "Processing review 12325"
       ]
      },
      {
       "output_type": "stream",
       "stream": "stdout",
       "text": [
        "\n",
        "Processing review 12350"
       ]
      },
      {
       "output_type": "stream",
       "stream": "stdout",
       "text": [
        "\n",
        "Processing review 12375"
       ]
      },
      {
       "output_type": "stream",
       "stream": "stdout",
       "text": [
        "\n",
        "Processing review 12400"
       ]
      },
      {
       "output_type": "stream",
       "stream": "stdout",
       "text": [
        "\n",
        "Processing review 12425"
       ]
      },
      {
       "output_type": "stream",
       "stream": "stdout",
       "text": [
        "\n",
        "Processing review 12450"
       ]
      },
      {
       "output_type": "stream",
       "stream": "stdout",
       "text": [
        "\n",
        "Processing review 12475"
       ]
      },
      {
       "output_type": "stream",
       "stream": "stdout",
       "text": [
        "\n",
        "Processing review 12500"
       ]
      },
      {
       "output_type": "stream",
       "stream": "stdout",
       "text": [
        "\n",
        "Processing review 12525"
       ]
      },
      {
       "output_type": "stream",
       "stream": "stdout",
       "text": [
        "\n",
        "Processing review 12550"
       ]
      },
      {
       "output_type": "stream",
       "stream": "stdout",
       "text": [
        "\n",
        "Processing review 12575"
       ]
      },
      {
       "output_type": "stream",
       "stream": "stdout",
       "text": [
        "\n",
        "Processing review 12600"
       ]
      },
      {
       "output_type": "stream",
       "stream": "stdout",
       "text": [
        "\n",
        "Processing review 12625"
       ]
      },
      {
       "output_type": "stream",
       "stream": "stdout",
       "text": [
        "\n",
        "Processing review 12650"
       ]
      },
      {
       "output_type": "stream",
       "stream": "stdout",
       "text": [
        "\n",
        "Processing review 12675"
       ]
      },
      {
       "output_type": "stream",
       "stream": "stdout",
       "text": [
        "\n",
        "Processing review 12700"
       ]
      },
      {
       "output_type": "stream",
       "stream": "stdout",
       "text": [
        "\n",
        "function took 387.393 m"
       ]
      },
      {
       "output_type": "stream",
       "stream": "stdout",
       "text": [
        "\n",
        "12718\n",
        "9906\n"
       ]
      },
      {
       "html": [
        "<div style=\"max-height:1000px;max-width:1500px;overflow:auto;\">\n",
        "<table border=\"1\" class=\"dataframe\">\n",
        "  <thead>\n",
        "    <tr style=\"text-align: right;\">\n",
        "      <th></th>\n",
        "      <th>critic</th>\n",
        "      <th>fresh</th>\n",
        "      <th>imdb</th>\n",
        "      <th>link</th>\n",
        "      <th>publication</th>\n",
        "      <th>quote</th>\n",
        "      <th>review_date</th>\n",
        "      <th>rtid</th>\n",
        "      <th>title</th>\n",
        "      <th>article</th>\n",
        "    </tr>\n",
        "  </thead>\n",
        "  <tbody>\n",
        "    <tr>\n",
        "      <th>0</th>\n",
        "      <td>        Derek Adams</td>\n",
        "      <td> fresh</td>\n",
        "      <td> 114709</td>\n",
        "      <td> http://www.timeout.com/film/reviews/87745/toy-...</td>\n",
        "      <td>       Time Out</td>\n",
        "      <td> So ingenious in concept, design and execution ...</td>\n",
        "      <td> 2009-10-04 00:00:00</td>\n",
        "      <td> 9559</td>\n",
        "      <td> Toy Story</td>\n",
        "      <td> Time Out says\\nTue Sep 29 2009\\nDisney Pixar i...</td>\n",
        "    </tr>\n",
        "    <tr>\n",
        "      <th>1</th>\n",
        "      <td>    Richard Corliss</td>\n",
        "      <td> fresh</td>\n",
        "      <td> 114709</td>\n",
        "      <td> http://www.time.com/time/magazine/article/0,91...</td>\n",
        "      <td>  TIME Magazine</td>\n",
        "      <td>                 The year's most inventive comedy.</td>\n",
        "      <td> 2008-08-31 00:00:00</td>\n",
        "      <td> 9559</td>\n",
        "      <td> Toy Story</td>\n",
        "      <td> Google+\\nCHARACTERS IN SO MANY LIVE-action mov...</td>\n",
        "    </tr>\n",
        "    <tr>\n",
        "      <th>2</th>\n",
        "      <td>        David Ansen</td>\n",
        "      <td> fresh</td>\n",
        "      <td> 114709</td>\n",
        "      <td>                 http://www.newsweek.com/id/104199</td>\n",
        "      <td>       Newsweek</td>\n",
        "      <td> A winning animated feature that has something ...</td>\n",
        "      <td> 2008-08-18 00:00:00</td>\n",
        "      <td> 9559</td>\n",
        "      <td> Toy Story</td>\n",
        "      <td> Disney's Digital Delight\\nBy David Ansen / Nov...</td>\n",
        "    </tr>\n",
        "    <tr>\n",
        "      <th>3</th>\n",
        "      <td>      Leonard Klady</td>\n",
        "      <td> fresh</td>\n",
        "      <td> 114709</td>\n",
        "      <td> http://www.variety.com/review/VE1117941294.htm...</td>\n",
        "      <td>        Variety</td>\n",
        "      <td> The film sports a provocative and appealing st...</td>\n",
        "      <td> 2008-06-09 00:00:00</td>\n",
        "      <td> 9559</td>\n",
        "      <td> Toy Story</td>\n",
        "      <td> Peter Kaplan Dies: New York Observer Editor Wa...</td>\n",
        "    </tr>\n",
        "    <tr>\n",
        "      <th>4</th>\n",
        "      <td> Jonathan Rosenbaum</td>\n",
        "      <td> fresh</td>\n",
        "      <td> 114709</td>\n",
        "      <td> http://onfilm.chicagoreader.com/movies/capsule...</td>\n",
        "      <td> Chicago Reader</td>\n",
        "      <td> An entertaining computer-generated, hyperreali...</td>\n",
        "      <td> 2008-03-10 00:00:00</td>\n",
        "      <td> 9559</td>\n",
        "      <td> Toy Story</td>\n",
        "      <td> Toy Story \u00a0\\n1995\\nWalt Disney Pictures and Pi...</td>\n",
        "    </tr>\n",
        "  </tbody>\n",
        "</table>\n",
        "</div>"
       ],
       "metadata": {},
       "output_type": "pyout",
       "prompt_number": 17,
       "text": [
        "               critic  fresh    imdb                                               link     publication                                              quote          review_date  rtid      title                                            article\n",
        "0         Derek Adams  fresh  114709  http://www.timeout.com/film/reviews/87745/toy-...        Time Out  So ingenious in concept, design and execution ...  2009-10-04 00:00:00  9559  Toy Story  Time Out says\\nTue Sep 29 2009\\nDisney Pixar i...\n",
        "1     Richard Corliss  fresh  114709  http://www.time.com/time/magazine/article/0,91...   TIME Magazine                  The year's most inventive comedy.  2008-08-31 00:00:00  9559  Toy Story  Google+\\nCHARACTERS IN SO MANY LIVE-action mov...\n",
        "2         David Ansen  fresh  114709                  http://www.newsweek.com/id/104199        Newsweek  A winning animated feature that has something ...  2008-08-18 00:00:00  9559  Toy Story  Disney's Digital Delight\\nBy David Ansen / Nov...\n",
        "3       Leonard Klady  fresh  114709  http://www.variety.com/review/VE1117941294.htm...         Variety  The film sports a provocative and appealing st...  2008-06-09 00:00:00  9559  Toy Story  Peter Kaplan Dies: New York Observer Editor Wa...\n",
        "4  Jonathan Rosenbaum  fresh  114709  http://onfilm.chicagoreader.com/movies/capsule...  Chicago Reader  An entertaining computer-generated, hyperreali...  2008-03-10 00:00:00  9559  Toy Story  Toy Story \u00a0\\n1995\\nWalt Disney Pictures and Pi..."
       ]
      }
     ],
     "prompt_number": 17
    },
    {
     "cell_type": "code",
     "collapsed": false,
     "input": [
      "article_df.to_csv('articles.csv', index=False, encoding='utf-8')\n",
      "article_df.head()"
     ],
     "language": "python",
     "metadata": {},
     "outputs": [
      {
       "html": [
        "<div style=\"max-height:1000px;max-width:1500px;overflow:auto;\">\n",
        "<table border=\"1\" class=\"dataframe\">\n",
        "  <thead>\n",
        "    <tr style=\"text-align: right;\">\n",
        "      <th></th>\n",
        "      <th>critic</th>\n",
        "      <th>fresh</th>\n",
        "      <th>imdb</th>\n",
        "      <th>link</th>\n",
        "      <th>publication</th>\n",
        "      <th>quote</th>\n",
        "      <th>review_date</th>\n",
        "      <th>rtid</th>\n",
        "      <th>title</th>\n",
        "      <th>article</th>\n",
        "    </tr>\n",
        "  </thead>\n",
        "  <tbody>\n",
        "    <tr>\n",
        "      <th>0</th>\n",
        "      <td>        Derek Adams</td>\n",
        "      <td> fresh</td>\n",
        "      <td> 114709</td>\n",
        "      <td> http://www.timeout.com/film/reviews/87745/toy-...</td>\n",
        "      <td>       Time Out</td>\n",
        "      <td> So ingenious in concept, design and execution ...</td>\n",
        "      <td> 2009-10-04 00:00:00</td>\n",
        "      <td> 9559</td>\n",
        "      <td> Toy Story</td>\n",
        "      <td> Time Out says\\nTue Sep 29 2009\\nDisney Pixar i...</td>\n",
        "    </tr>\n",
        "    <tr>\n",
        "      <th>1</th>\n",
        "      <td>    Richard Corliss</td>\n",
        "      <td> fresh</td>\n",
        "      <td> 114709</td>\n",
        "      <td> http://www.time.com/time/magazine/article/0,91...</td>\n",
        "      <td>  TIME Magazine</td>\n",
        "      <td>                 The year's most inventive comedy.</td>\n",
        "      <td> 2008-08-31 00:00:00</td>\n",
        "      <td> 9559</td>\n",
        "      <td> Toy Story</td>\n",
        "      <td> Google+\\nCHARACTERS IN SO MANY LIVE-action mov...</td>\n",
        "    </tr>\n",
        "    <tr>\n",
        "      <th>2</th>\n",
        "      <td>        David Ansen</td>\n",
        "      <td> fresh</td>\n",
        "      <td> 114709</td>\n",
        "      <td>                 http://www.newsweek.com/id/104199</td>\n",
        "      <td>       Newsweek</td>\n",
        "      <td> A winning animated feature that has something ...</td>\n",
        "      <td> 2008-08-18 00:00:00</td>\n",
        "      <td> 9559</td>\n",
        "      <td> Toy Story</td>\n",
        "      <td> Disney's Digital Delight\\nBy David Ansen / Nov...</td>\n",
        "    </tr>\n",
        "    <tr>\n",
        "      <th>3</th>\n",
        "      <td>      Leonard Klady</td>\n",
        "      <td> fresh</td>\n",
        "      <td> 114709</td>\n",
        "      <td> http://www.variety.com/review/VE1117941294.htm...</td>\n",
        "      <td>        Variety</td>\n",
        "      <td> The film sports a provocative and appealing st...</td>\n",
        "      <td> 2008-06-09 00:00:00</td>\n",
        "      <td> 9559</td>\n",
        "      <td> Toy Story</td>\n",
        "      <td> Peter Kaplan Dies: New York Observer Editor Wa...</td>\n",
        "    </tr>\n",
        "    <tr>\n",
        "      <th>4</th>\n",
        "      <td> Jonathan Rosenbaum</td>\n",
        "      <td> fresh</td>\n",
        "      <td> 114709</td>\n",
        "      <td> http://onfilm.chicagoreader.com/movies/capsule...</td>\n",
        "      <td> Chicago Reader</td>\n",
        "      <td> An entertaining computer-generated, hyperreali...</td>\n",
        "      <td> 2008-03-10 00:00:00</td>\n",
        "      <td> 9559</td>\n",
        "      <td> Toy Story</td>\n",
        "      <td> Toy Story \u00a0\\n1995\\nWalt Disney Pictures and Pi...</td>\n",
        "    </tr>\n",
        "  </tbody>\n",
        "</table>\n",
        "</div>"
       ],
       "metadata": {},
       "output_type": "pyout",
       "prompt_number": 18,
       "text": [
        "               critic  fresh    imdb                                               link     publication                                              quote          review_date  rtid      title                                            article\n",
        "0         Derek Adams  fresh  114709  http://www.timeout.com/film/reviews/87745/toy-...        Time Out  So ingenious in concept, design and execution ...  2009-10-04 00:00:00  9559  Toy Story  Time Out says\\nTue Sep 29 2009\\nDisney Pixar i...\n",
        "1     Richard Corliss  fresh  114709  http://www.time.com/time/magazine/article/0,91...   TIME Magazine                  The year's most inventive comedy.  2008-08-31 00:00:00  9559  Toy Story  Google+\\nCHARACTERS IN SO MANY LIVE-action mov...\n",
        "2         David Ansen  fresh  114709                  http://www.newsweek.com/id/104199        Newsweek  A winning animated feature that has something ...  2008-08-18 00:00:00  9559  Toy Story  Disney's Digital Delight\\nBy David Ansen / Nov...\n",
        "3       Leonard Klady  fresh  114709  http://www.variety.com/review/VE1117941294.htm...         Variety  The film sports a provocative and appealing st...  2008-06-09 00:00:00  9559  Toy Story  Peter Kaplan Dies: New York Observer Editor Wa...\n",
        "4  Jonathan Rosenbaum  fresh  114709  http://onfilm.chicagoreader.com/movies/capsule...  Chicago Reader  An entertaining computer-generated, hyperreali...  2008-03-10 00:00:00  9559  Toy Story  Toy Story \u00a0\\n1995\\nWalt Disney Pictures and Pi..."
       ]
      }
     ],
     "prompt_number": 18
    },
    {
     "cell_type": "code",
     "collapsed": false,
     "input": [
      "\n",
      "articles = pd.read_csv('articles.csv')\n",
      "print articles.irow(1000)['link']\n",
      "\n",
      "#print len(critics)\n",
      "print len(articles)\n",
      "articles.tail()"
     ],
     "language": "python",
     "metadata": {},
     "outputs": [
      {
       "output_type": "stream",
       "stream": "stdout",
       "text": [
        "http://www.washingtonpost.com/wp-srv/style/longterm/movies/videos/murderinthefirstrkempley_c0058a.htm\n",
        "9906\n"
       ]
      },
      {
       "html": [
        "<div style=\"max-height:1000px;max-width:1500px;overflow:auto;\">\n",
        "<table border=\"1\" class=\"dataframe\">\n",
        "  <thead>\n",
        "    <tr style=\"text-align: right;\">\n",
        "      <th></th>\n",
        "      <th>critic</th>\n",
        "      <th>fresh</th>\n",
        "      <th>imdb</th>\n",
        "      <th>link</th>\n",
        "      <th>publication</th>\n",
        "      <th>quote</th>\n",
        "      <th>review_date</th>\n",
        "      <th>rtid</th>\n",
        "      <th>title</th>\n",
        "      <th>article</th>\n",
        "    </tr>\n",
        "  </thead>\n",
        "  <tbody>\n",
        "    <tr>\n",
        "      <th>9901</th>\n",
        "      <td>     Dave Kehr</td>\n",
        "      <td> rotten</td>\n",
        "      <td> 88683</td>\n",
        "      <td> http://www.chicagoreader.com/chicago/agnes-of-...</td>\n",
        "      <td>    Chicago Reader</td>\n",
        "      <td> Despite all the anguished huffing and puffing,...</td>\n",
        "      <td> 2013-05-08 00:00:00</td>\n",
        "      <td> 11917</td>\n",
        "      <td> Agnes of God</td>\n",
        "      <td> Agnes of God \u00a0\\nPsychiatrist Jane Fonda and mo...</td>\n",
        "    </tr>\n",
        "    <tr>\n",
        "      <th>9902</th>\n",
        "      <td>     Jay Boyar</td>\n",
        "      <td>  fresh</td>\n",
        "      <td> 88683</td>\n",
        "      <td> http://articles.orlandosentinel.com/1985-10-30...</td>\n",
        "      <td>  Orlando Sentinel</td>\n",
        "      <td> It is Meg Tilly who makes the movie live. Her ...</td>\n",
        "      <td> 2013-05-08 00:00:00</td>\n",
        "      <td> 11917</td>\n",
        "      <td> Agnes of God</td>\n",
        "      <td> 'Agnes Of God' Stands As Meg Tilly's Tour De F...</td>\n",
        "    </tr>\n",
        "    <tr>\n",
        "      <th>9903</th>\n",
        "      <td>   Gene Siskel</td>\n",
        "      <td> rotten</td>\n",
        "      <td> 88683</td>\n",
        "      <td> http://articles.chicagotribune.com/1985-09-13/...</td>\n",
        "      <td>   Chicago Tribune</td>\n",
        "      <td> Agnes of God plays with some challenging ideas...</td>\n",
        "      <td> 2013-05-08 00:00:00</td>\n",
        "      <td> 11917</td>\n",
        "      <td> Agnes of God</td>\n",
        "      <td> Even A Miracle Can`t Bring Salvation To `Agnes...</td>\n",
        "    </tr>\n",
        "    <tr>\n",
        "      <th>9904</th>\n",
        "      <td> Variety Staff</td>\n",
        "      <td> rotten</td>\n",
        "      <td> 88683</td>\n",
        "      <td> http://www.variety.com/review/VE1117796703.htm...</td>\n",
        "      <td>           Variety</td>\n",
        "      <td> Fonda's relentless interrogating, mannered cha...</td>\n",
        "      <td> 2008-10-18 00:00:00</td>\n",
        "      <td> 11917</td>\n",
        "      <td> Agnes of God</td>\n",
        "      <td> \u2018In Bloom\u2019 Wins Tokyo Filmex Grand Prix\\nJohn ...</td>\n",
        "    </tr>\n",
        "    <tr>\n",
        "      <th>9905</th>\n",
        "      <td>   Roger Ebert</td>\n",
        "      <td> rotten</td>\n",
        "      <td> 88683</td>\n",
        "      <td> http://www.rogerebert.com/reviews/agnes-of-god...</td>\n",
        "      <td> Chicago Sun-Times</td>\n",
        "      <td> Although the movie deals in the basic material...</td>\n",
        "      <td> 2000-01-01 00:00:00</td>\n",
        "      <td> 11917</td>\n",
        "      <td> Agnes of God</td>\n",
        "      <td> Tweet\\nIt might have been impossible to conver...</td>\n",
        "    </tr>\n",
        "  </tbody>\n",
        "</table>\n",
        "</div>"
       ],
       "metadata": {},
       "output_type": "pyout",
       "prompt_number": 4,
       "text": [
        "             critic   fresh   imdb                                               link        publication                                              quote          review_date   rtid         title                                            article\n",
        "9901      Dave Kehr  rotten  88683  http://www.chicagoreader.com/chicago/agnes-of-...     Chicago Reader  Despite all the anguished huffing and puffing,...  2013-05-08 00:00:00  11917  Agnes of God  Agnes of God \u00a0\\nPsychiatrist Jane Fonda and mo...\n",
        "9902      Jay Boyar   fresh  88683  http://articles.orlandosentinel.com/1985-10-30...   Orlando Sentinel  It is Meg Tilly who makes the movie live. Her ...  2013-05-08 00:00:00  11917  Agnes of God  'Agnes Of God' Stands As Meg Tilly's Tour De F...\n",
        "9903    Gene Siskel  rotten  88683  http://articles.chicagotribune.com/1985-09-13/...    Chicago Tribune  Agnes of God plays with some challenging ideas...  2013-05-08 00:00:00  11917  Agnes of God  Even A Miracle Can`t Bring Salvation To `Agnes...\n",
        "9904  Variety Staff  rotten  88683  http://www.variety.com/review/VE1117796703.htm...            Variety  Fonda's relentless interrogating, mannered cha...  2008-10-18 00:00:00  11917  Agnes of God  \u2018In Bloom\u2019 Wins Tokyo Filmex Grand Prix\\nJohn ...\n",
        "9905    Roger Ebert  rotten  88683  http://www.rogerebert.com/reviews/agnes-of-god...  Chicago Sun-Times  Although the movie deals in the basic material...  2000-01-01 00:00:00  11917  Agnes of God  Tweet\\nIt might have been impossible to conver..."
       ]
      }
     ],
     "prompt_number": 4
    },
    {
     "cell_type": "code",
     "collapsed": false,
     "input": [
      "#print articles.irow(500)['article']\n",
      "#print\n",
      "#print articles.irow(500)['title']\n",
      "#print \n",
      "#print\n",
      "#x = articles.irow(500)['article']\n",
      "#y = quote = articles.irow(500)['title']\n",
      "\n",
      "#if (y in x):\n",
      "#    print 'BOOM!!!'\n",
      "\n",
      "import nltk\n",
      "\n",
      "bad_reviews = []\n",
      "\n",
      "for i in range(100):\n",
      "    quote = ((articles.irow(i)['quote']).lower()).replace(' ', '')\n",
      "    try:\n",
      "        article = ((articles.irow(i)['article']).lower()).replace(' ', '')\n",
      "    except:\n",
      "        print 'bad row: %d' % i\n",
      "        \n",
      "    if (quote not in article):\n",
      "        bad_reviews.append(i)\n",
      "\n",
      "print len(bad_reviews)        \n",
      "print bad_reviews\n",
      "\n",
      "print\n",
      "print\n",
      "print ((articles.irow(9)['article']).lower())\n",
      "print\n",
      "print\n",
      "#print ((articles.irow(9)['quote']).lower())\n",
      "#print articles.irow(577)['link']\n",
      "#print articles.irow(577)['publication']\n",
      "print \n",
      "print\n",
      "#print ((articles.irow(577)['quote']).lower()).replace(' ', '')\n",
      "txt_quote = ((articles.irow(9)['quote']).lower())\n",
      "txt_article = ((articles.irow(9)['article']).lower())\n",
      "\n",
      "q_tokens = nltk.tokenize.word_tokenize(txt_quote)\n",
      "q_tokens = set(q_tokens)\n",
      "a_tokens = nltk.tokenize.word_tokenize(txt_article)\n",
      "a_tokens = set(a_tokens)\n",
      "\n",
      "print txt\n",
      "print \n",
      "print q_tokens\n",
      "print \n",
      "print a_tokens\n",
      "print\n",
      "intersection = a_tokens.intersection(q_tokens)\n",
      "print intersection\n",
      "\n",
      "percentage = float(len(intersection)) / float(len(q_tokens)) * 100.0\n",
      "print\n",
      "\n",
      "print percentage"
     ],
     "language": "python",
     "metadata": {},
     "outputs": [
      {
       "output_type": "stream",
       "stream": "stdout",
       "text": [
        "59\n",
        "[3, 5, 7, 9, 11, 12, 18, 19, 23, 24, 25, 26, 27, 28, 30, 34, 35, 36, 37, 39, 40, 41, 43, 44, 45, 47, 48, 49, 51, 52, 53, 56, 57, 58, 60, 61, 62, 65, 68, 70, 71, 72, 75, 76, 77, 78, 79, 80, 83, 84, 86, 88, 89, 91, 92, 94, 95, 97, 98]\n",
        "\n",
        "\n",
        "font\n",
        "page 1 of 1\n",
        "toy story: animated comedy. starring the voices of tom hanks , tim allen , don rickles , jim varney , wallace shawn , annie potts . directed by john lasseter . (g. 87 minutes.)\n",
        "'toy story,\" the first computer-animated full-length feature, is a gem of fast action, sophisticated wit and inspired comedy.\n",
        "the disney-produced movie, out on video this week, was created by computer whizzes at pixar , the point richmond-based studio that is pioneering computer animation into a mainstream art form.\n",
        "\"toy story\" is about toys that come to life when kids aren't around. the tale focuses on woody, a lanky cowboy doll with a pull-string voice who worries that he's being replaced by a jut-jawed, macho spaceman doll named buzz lightyear, given as a birthday present to the preteen boy, andy.\n",
        "woody, reminiscent of a '50s- style ventriloquist's dummy, is voiced by tom hanks, relying on his savvy and deft comic timing. buzz, a plastic bubble covering his lantern-jawed noggin, uses the brassy voice of tim allen.\n",
        "the script, by john lasseter, pete docter , andrew stanton and joe ranft , is filled with clever gags that keep the two heroes at each other's throats.\n",
        "by accident, buzz falls out of andy's window, and woody feels responsible. in his valiant rescue effort, they both fall prey to a bullying neighbor kid named sid ( erik von detten ), whose destructive urges lead him to blow up toys or rearrange their parts into monster variations.\n",
        "\"toy story\" relies on breakneck cartoon pacing for its antic style. wild segments feature a perilous ride on the bumper of a car, and later in a pizza delivery truck. other harrowing moments find woody and buzz caught in sid's monster house, or trying to catch up with their fellow toys on a moving van. through it all they learn to come to terms with each other. audiences are bound to like the way this movie gets beyond cute and takes on wonderful shadings and moods.\n",
        "\n",
        "\n",
        "\n",
        "\n",
        "\n",
        "the script, by lasseter, pete docter, andrew stanton and joe ranft, is filled with clever gags that keep the two heroes at each other's throats and the plot on fast- forward.\n",
        "\n",
        "set(['and', 'docter', 'is', ',', 'at', \"'s\", 'pete', 'plot', 'ranft', 'gags', 'script', 'two', 'throats', '.', 'other', 'forward', 'filled', 'lasseter', 'clever', 'stanton', 'that', 'andrew', 'joe', 'fast-', 'heroes', 'with', 'by', 'on', 'keep', 'each', 'the'])\n",
        "\n",
        "set(['cute', 'all', 'docter', 'being', 'both', 'find', 'for', 'through', 'woody', 'font', 'its', 'blow', 'whose', 'style', 'wallace', '(', 'segments', 'jim', ',', 'to', 'window', 'other', 'comedy.', 'hanks', 'macho', 'his', 'stanton', 'mainstream', 'fellow', 'varney', 'feels', 'moods', 'they', 'fall', 'g.', 'him', 'gem', 'gets', 'like', 'car', 'covering', 'form.', 'bumper', 'each', 'worries', 'page', 'detten', 'art', 'doll', 'house', 'other.', 'toys', 'moving', 'computer', 'video', 'are', 'valiant', 'richmond-based', \"'s\", 'beyond', '87', 'out', 'pete', 'ranft', 'gags', 'movie', 'harrowing', 'boy', 'style.', 'reminiscent', 'timing.', 'relying', \"'toy\", 'rickles', 'filled', 'pioneering', 'responsible.', 'focuses', 'terms', 'monster', 'potts', 'given', 'truck.', 'studio', 'joe', 'computer-animated', 'come', 'by', 'on', 'about', 'kids', 'created', 'of', 'disney-produced', 'parts', 'keep', 'annie', 'buzz', 'action', 'uses', 'or', 'first', 'named', 'starring', 'point', 'perilous', 'into', 'bound', 'wit', 'minutes.', 'effort', 'comic', 'plastic', 'van.', 'story', 'toy', 'takes', 'moments', 'script', 'caught', 'two', 'fast', '.', 'their', 'wonderful', 'andy', 'way', 'tom', 'prey', 'jut-jawed', 'john', 'was', 'von', 'lightyear', 'pixar', 'lasseter', 'life', 'clever', 'rearrange', 'that', 'shawn', 'andrew', 'sophisticated', 'delivery', 'accident', 'bullying', 'antic', 'catch', 'trying', 'with', 'present', 'he', 'directed', ':', 'this', 'bubble', 'ride', 'cowboy', 'up', \"n't\", 'replaced', 'learn', 'wild', 'animated', 'ventriloquist', 'inspired', 'erik', 'and', 'breakneck', 'whizzes', 'brassy', 'is', 'in', 'it', 'voices', \"''\", 'as', 'audiences', 'at', 'pull-string', 'full-length', 'voiced', 'allen', 'voice', 'rescue', 'around.', ')', 'when', 'feature', 'throats.', '1', 'tim', 'animation', 'relies', 'sid', 'andy.', 'pizza', 'week', \"'50s-\", 'lanky', 'neighbor', 'deft', 'who', 'shadings', 'falls', 'preteen', 'birthday', 'noggin', 'variations.', 'urges', 'heroes', 'destructive', 'cartoon', 'kid', 'a', 'dummy', 'don', 'lead', 'spaceman', 'later', 'pacing', 'tale', 'savvy', 'the', 'allen.', 'lantern-jawed'])\n",
        "\n",
        "set(['and', 'docter', 'is', 'two', 'at', 'stanton', 'pete', 'ranft', 'gags', 'script', ',', '.', 'other', 'filled', 'lasseter', 'clever', \"'s\", 'that', 'andrew', 'joe', 'heroes', 'with', 'by', 'on', 'keep', 'each', 'the'])\n",
        "\n",
        "27.0\n",
        "226.0\n",
        "87.0967741935\n"
       ]
      }
     ],
     "prompt_number": 23
    },
    {
     "cell_type": "code",
     "collapsed": false,
     "input": [
      "# returns % match\n",
      "def tokenize_match(article, quote):\n",
      "    # make text lower-case\n",
      "    article.lower()\n",
      "    quote.lower()\n",
      "    \n",
      "    # tokenize the text\n",
      "    a_tokens = nltk.tokenize.word_tokenize(article)\n",
      "    q_tokens = nltk.tokenize.word_tokenize(quote)\n",
      "    \n",
      "    # compute the intersection\n",
      "    intersection = (set(a_tokens)).intersection(set(q_tokens))\n",
      "    percentage = float(len(intersection)) / float(len(set(q_tokens))) * 100.0\n",
      "    \n",
      "    #print len(intersection)\n",
      "    #print len(set(q_tokens))\n",
      "    #print intersection\n",
      "    #print set(q_tokens)\n",
      "    \n",
      "    return int(percentage)\n",
      "\n",
      "tokenize_match(txt_article, txt_quote)\n"
     ],
     "language": "python",
     "metadata": {},
     "outputs": [
      {
       "metadata": {},
       "output_type": "pyout",
       "prompt_number": 41,
       "text": [
        "84"
       ]
      }
     ],
     "prompt_number": 41
    },
    {
     "cell_type": "code",
     "collapsed": false,
     "input": [
      "match_score = []\n",
      "for i in range(len(articles)):\n",
      "    quote = (articles.irow(i)['quote'])\n",
      "    try:\n",
      "        article = (articles.irow(i)['article'])\n",
      "        match_score.append(tokenize_match(article, quote))\n",
      "    except:\n",
      "        print 'bad row: %d' % i\n",
      "        \n",
      "        \n",
      "    \n",
      "\n",
      "#print match_score\n",
      "       \n",
      "def histogram_style():\n",
      "    remove_border(left=False)\n",
      "    plt.grid(False)\n",
      "    plt.grid(axis='y', color='w', linestyle='-', lw=1)\n",
      "    \n",
      "plt.figure()\n",
      "plt.hist(match_score, bins=100)\n",
      "plt.xlabel(\"Score\")\n",
      "plt.ylabel(\"N\")\n",
      "histogram_style()\n",
      "    "
     ],
     "language": "python",
     "metadata": {},
     "outputs": [
      {
       "output_type": "stream",
       "stream": "stdout",
       "text": [
        "bad row: 295\n",
        "bad row: 550"
       ]
      },
      {
       "output_type": "stream",
       "stream": "stdout",
       "text": [
        "\n",
        "bad row: 892"
       ]
      },
      {
       "output_type": "stream",
       "stream": "stdout",
       "text": [
        "\n",
        "bad row: 2113"
       ]
      },
      {
       "output_type": "stream",
       "stream": "stdout",
       "text": [
        "\n",
        "bad row: 2325"
       ]
      },
      {
       "output_type": "stream",
       "stream": "stdout",
       "text": [
        "\n",
        "bad row: 2799"
       ]
      },
      {
       "output_type": "stream",
       "stream": "stdout",
       "text": [
        "\n",
        "bad row: 2803\n",
        "bad row: 3097"
       ]
      },
      {
       "output_type": "stream",
       "stream": "stdout",
       "text": [
        "\n",
        "bad row: 3226"
       ]
      },
      {
       "output_type": "stream",
       "stream": "stdout",
       "text": [
        "\n",
        "bad row: 3539"
       ]
      },
      {
       "output_type": "stream",
       "stream": "stdout",
       "text": [
        "\n",
        "bad row: 3558"
       ]
      },
      {
       "output_type": "stream",
       "stream": "stdout",
       "text": [
        "\n",
        "bad row: 3559\n",
        "bad row: 3560\n",
        "bad row: 3624"
       ]
      },
      {
       "output_type": "stream",
       "stream": "stdout",
       "text": [
        "\n",
        "bad row: 3627\n",
        "bad row: 3632\n",
        "bad row: 3959"
       ]
      },
      {
       "output_type": "stream",
       "stream": "stdout",
       "text": [
        "\n",
        "bad row: 4015"
       ]
      },
      {
       "output_type": "stream",
       "stream": "stdout",
       "text": [
        "\n",
        "bad row: 4457"
       ]
      },
      {
       "output_type": "stream",
       "stream": "stdout",
       "text": [
        "\n",
        "bad row: 4691"
       ]
      },
      {
       "output_type": "stream",
       "stream": "stdout",
       "text": [
        "\n",
        "bad row: 4708"
       ]
      },
      {
       "output_type": "stream",
       "stream": "stdout",
       "text": [
        "\n",
        "bad row: 4709\n",
        "bad row: 4710\n",
        "bad row: 4723"
       ]
      },
      {
       "output_type": "stream",
       "stream": "stdout",
       "text": [
        "\n",
        "bad row: 4739"
       ]
      },
      {
       "output_type": "stream",
       "stream": "stdout",
       "text": [
        "\n",
        "bad row: 4863"
       ]
      },
      {
       "output_type": "stream",
       "stream": "stdout",
       "text": [
        "\n",
        "bad row: 4972"
       ]
      },
      {
       "output_type": "stream",
       "stream": "stdout",
       "text": [
        "\n",
        "bad row: 4993"
       ]
      },
      {
       "output_type": "stream",
       "stream": "stdout",
       "text": [
        "\n",
        "bad row: 5295"
       ]
      },
      {
       "output_type": "stream",
       "stream": "stdout",
       "text": [
        "\n",
        "bad row: 5300\n",
        "bad row: 5475"
       ]
      },
      {
       "output_type": "stream",
       "stream": "stdout",
       "text": [
        "\n",
        "bad row: 5550"
       ]
      },
      {
       "output_type": "stream",
       "stream": "stdout",
       "text": [
        "\n",
        "bad row: 5553\n",
        "bad row: 5653"
       ]
      },
      {
       "output_type": "stream",
       "stream": "stdout",
       "text": [
        "\n",
        "bad row: 5759"
       ]
      },
      {
       "output_type": "stream",
       "stream": "stdout",
       "text": [
        "\n",
        "bad row: 5790"
       ]
      },
      {
       "output_type": "stream",
       "stream": "stdout",
       "text": [
        "\n",
        "bad row: 5810"
       ]
      },
      {
       "output_type": "stream",
       "stream": "stdout",
       "text": [
        "\n",
        "bad row: 5943"
       ]
      },
      {
       "output_type": "stream",
       "stream": "stdout",
       "text": [
        "\n",
        "bad row: 6283"
       ]
      },
      {
       "output_type": "stream",
       "stream": "stdout",
       "text": [
        "\n",
        "bad row: 6298"
       ]
      },
      {
       "output_type": "stream",
       "stream": "stdout",
       "text": [
        "\n",
        "bad row: 6442"
       ]
      },
      {
       "output_type": "stream",
       "stream": "stdout",
       "text": [
        "\n",
        "bad row: 6530"
       ]
      },
      {
       "output_type": "stream",
       "stream": "stdout",
       "text": [
        "\n",
        "bad row: 6531\n",
        "bad row: 6593"
       ]
      },
      {
       "output_type": "stream",
       "stream": "stdout",
       "text": [
        "\n",
        "bad row: 6790"
       ]
      },
      {
       "output_type": "stream",
       "stream": "stdout",
       "text": [
        "\n",
        "bad row: 6824"
       ]
      },
      {
       "output_type": "stream",
       "stream": "stdout",
       "text": [
        "\n",
        "bad row: 6840"
       ]
      },
      {
       "output_type": "stream",
       "stream": "stdout",
       "text": [
        "\n",
        "bad row: 6863"
       ]
      },
      {
       "output_type": "stream",
       "stream": "stdout",
       "text": [
        "\n",
        "bad row: 6866\n",
        "bad row: 7030"
       ]
      },
      {
       "output_type": "stream",
       "stream": "stdout",
       "text": [
        "\n",
        "bad row: 7052"
       ]
      },
      {
       "output_type": "stream",
       "stream": "stdout",
       "text": [
        "\n",
        "bad row: 7220"
       ]
      },
      {
       "output_type": "stream",
       "stream": "stdout",
       "text": [
        "\n",
        "bad row: 7221\n",
        "bad row: 7234"
       ]
      },
      {
       "output_type": "stream",
       "stream": "stdout",
       "text": [
        "\n",
        "bad row: 7304"
       ]
      },
      {
       "output_type": "stream",
       "stream": "stdout",
       "text": [
        "\n",
        "bad row: 7305\n",
        "bad row: 7314\n",
        "bad row: 7321"
       ]
      },
      {
       "output_type": "stream",
       "stream": "stdout",
       "text": [
        "\n",
        "bad row: 7327\n",
        "bad row: 7334"
       ]
      },
      {
       "output_type": "stream",
       "stream": "stdout",
       "text": [
        "\n",
        "bad row: 7354"
       ]
      },
      {
       "output_type": "stream",
       "stream": "stdout",
       "text": [
        "\n",
        "bad row: 7600"
       ]
      },
      {
       "output_type": "stream",
       "stream": "stdout",
       "text": [
        "\n",
        "bad row: 7611"
       ]
      },
      {
       "output_type": "stream",
       "stream": "stdout",
       "text": [
        "\n",
        "bad row: 7699"
       ]
      },
      {
       "output_type": "stream",
       "stream": "stdout",
       "text": [
        "\n",
        "bad row: 7701\n",
        "bad row: 7778"
       ]
      },
      {
       "output_type": "stream",
       "stream": "stdout",
       "text": [
        "\n",
        "bad row: 7885"
       ]
      },
      {
       "output_type": "stream",
       "stream": "stdout",
       "text": [
        "\n",
        "bad row: 8015"
       ]
      },
      {
       "output_type": "stream",
       "stream": "stdout",
       "text": [
        "\n",
        "bad row: 8017\n",
        "bad row: 8069"
       ]
      },
      {
       "output_type": "stream",
       "stream": "stdout",
       "text": [
        "\n",
        "bad row: 8283"
       ]
      },
      {
       "output_type": "stream",
       "stream": "stdout",
       "text": [
        "\n",
        "bad row: 8491"
       ]
      },
      {
       "output_type": "stream",
       "stream": "stdout",
       "text": [
        "\n",
        "bad row: 8849"
       ]
      },
      {
       "output_type": "stream",
       "stream": "stdout",
       "text": [
        "\n",
        "bad row: 9007"
       ]
      },
      {
       "output_type": "stream",
       "stream": "stdout",
       "text": [
        "\n",
        "bad row: 9057"
       ]
      },
      {
       "output_type": "stream",
       "stream": "stdout",
       "text": [
        "\n",
        "bad row: 9249"
       ]
      },
      {
       "output_type": "stream",
       "stream": "stdout",
       "text": [
        "\n",
        "bad row: 9374"
       ]
      },
      {
       "output_type": "stream",
       "stream": "stdout",
       "text": [
        "\n",
        "bad row: 9473"
       ]
      },
      {
       "output_type": "stream",
       "stream": "stdout",
       "text": [
        "\n",
        "bad row: 9484"
       ]
      },
      {
       "output_type": "stream",
       "stream": "stdout",
       "text": [
        "\n",
        "bad row: 9645"
       ]
      },
      {
       "output_type": "stream",
       "stream": "stdout",
       "text": [
        "\n",
        "bad row: 9826"
       ]
      },
      {
       "output_type": "stream",
       "stream": "stdout",
       "text": [
        "\n",
        "bad row: 9838"
       ]
      },
      {
       "output_type": "stream",
       "stream": "stdout",
       "text": [
        "\n"
       ]
      },
      {
       "metadata": {},
       "output_type": "display_data",
       "png": "[encoded data removed]",
       "text": [
        "<matplotlib.figure.Figure at 0x10a445210>"
       ]
      }
     ],
     "prompt_number": 75
    },
    {
     "cell_type": "code",
     "collapsed": false,
     "input": [
      "print np.mean(match_score)\n",
      "print np.std(match_score)\n",
      "bad_values = [value for value in match_score if value < 50]\n",
      "print len(bad_values)\n",
      "#txt_quote = ((articles.irow(25)['quote']))\n",
      "#txt_article = ((articles.irow(25)['article']))\n",
      "#print articles.irow(25)['link']\n",
      "#print articles.irow(25)['publication']\n",
      "\n",
      "#print txt_article\n",
      "#print\n",
      "#print txt_quote\n",
      "#print\n",
      "#tokenize_match(txt_article, txt_quote)"
     ],
     "language": "python",
     "metadata": {},
     "outputs": [
      {
       "output_type": "stream",
       "stream": "stdout",
       "text": [
        "77.7371742671\n",
        "27.9931671077\n",
        "1626\n"
       ]
      }
     ],
     "prompt_number": 79
    },
    {
     "cell_type": "code",
     "collapsed": false,
     "input": [
      "#bad_articles = articles[tokenize_match(articles['article'], articles['quote']) < 50]\n",
      "#len(bad_articles)\n",
      "\n",
      "bad_pubs = []\n",
      "bad_indices = []\n",
      "for i in range(len(match_score)):\n",
      "    if (match_score[i] < 50):\n",
      "        bad_indices.append(i)\n",
      "        bad_pubs.append(articles.irow(i)['publication'])\n",
      "\n",
      "#print bad_pubs\n",
      "from collections import Counter\n",
      "c = Counter(bad_pubs)\n",
      "print\n",
      "print c\n",
      "\n",
      "# get the total # of reviews for each publication and compare\n",
      "pub_subdf = articles[['publication', 'title', 'link']]\n",
      "pub_groupby = pub_subdf.groupby(['publication'])\n",
      "pub_series = pub_groupby.size()\n",
      "\n",
      "result_df = pd.DataFrame(pub_series, columns=['reviews'])\n",
      "result_df.sort_index(by='reviews', ascending=False, inplace=True)\n",
      "print result_df.head()\n",
      "print result_df[result_df.index == 'Los Angeles Times']\n",
      "\n",
      "for key, value in pub_groupby:\n",
      "    if (key == 'Washington Post'):\n",
      "        la_df = value\n",
      "        \n",
      "#print len(la_df)\n",
      "#for i in range(len(la_df)):\n",
      "#    print la_df.irow(i)['link']"
     ],
     "language": "python",
     "metadata": {},
     "outputs": [
      {
       "output_type": "stream",
       "stream": "stdout",
       "text": [
        "\n",
        "Counter({'Variety': 207, 'Chicago Sun-Times': 195, 'Washington Post': 168, 'Chicago Reader': 156, 'Los Angeles Times': 123, 'ReelViews': 114, 'Time Out': 113, 'San Francisco Chronicle': 112, 'Entertainment Weekly': 74, 'Salon.com': 56, 'TIME Magazine': 47, 'Village Voice': 42, 'Chicago Tribune': 34, 'New York Times': 27, 'Orlando Sentinel': 26, 'Toronto Star': 21, 'Time Out New York': 21, 'Minneapolis Star Tribune': 21, 'Boston Globe': 18, 'Philadelphia Inquirer': 16, 'New York Magazine': 15, 'CNN.com': 15, 'Seattle Times': 12, 'New Yorker': 12, 'Newark Star-Ledger': 11, 'Slate': 8, 'L.A. Weekly': 8, 'Houston Chronicle': 8, 'USA Today': 8, 'Newsweek': 8, 'Dallas Morning News': 7, 'New York Daily News': 7, 'Denver Post': 7, 'Wall Street Journal': 6, 'Rolling Stone': 5, 'Detroit Free Press': 4, 'Globe and Mail': 4, 'Arizona Republic': 3, 'Associated Press': 3, 'The New Republic': 3, 'Miami Herald': 2, 'Film.com': 2, 'Newsday': 2, 'Passionate Moviegoer': 2, 'Philadelphia Daily News': 1, 'Christian Science Monitor': 1, 'MovieTime, ABC Radio National': 1, 'New York Post': 1, 'Richard Roeper.com': 1, 'MSN Movies': 1, 'Detroit News': 1})\n",
        "                   reviews\n",
        "publication               \n",
        "Variety               1141\n",
        "Chicago Sun-Times     1084\n",
        "Washington Post       1042\n",
        "Chicago Reader         943\n",
        "ReelViews              826\n",
        "                   reviews\n",
        "publication               \n",
        "Los Angeles Times      569\n"
       ]
      }
     ],
     "prompt_number": 99
    },
    {
     "cell_type": "code",
     "collapsed": false,
     "input": [
      "|"
     ],
     "language": "python",
     "metadata": {},
     "outputs": []
    }
   ],
   "metadata": {}
  }
 ]
}