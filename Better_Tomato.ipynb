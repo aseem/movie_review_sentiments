{
 "metadata": {
  "name": ""
 },
 "nbformat": 3,
 "nbformat_minor": 0,
 "worksheets": [
  {
   "cells": [
    {
     "cell_type": "heading",
     "level": 1,
     "metadata": {},
     "source": [
      "Building a Better Rotten Tomatoes"
     ]
    },
    {
     "cell_type": "markdown",
     "metadata": {},
     "source": [
      "<img src=\"files/better_tomato.jpg\">\n"
     ]
    },
    {
     "cell_type": "heading",
     "level": 1,
     "metadata": {},
     "source": [
      "Python Setup"
     ]
    },
    {
     "cell_type": "code",
     "collapsed": false,
     "input": [
      "%matplotlib inline\n",
      "\n",
      "import json\n",
      "\n",
      "import requests\n",
      "import pandas as pd\n",
      "import numpy as np\n",
      "import matplotlib.pyplot as plt\n",
      "from io import StringIO\n",
      "import nltk\n",
      "import boilerpipe as boilerpipe\n",
      "from boilerpipe.extract import Extractor\n",
      "import time\n",
      "from scipy import stats\n",
      "\n",
      "\n",
      "# Download needed NLTK libraries\n",
      "nltk.download('punkt')\n",
      "nltk.download('stopwords')\n",
      "\n",
      "# Make a list of stop-words to be used later\n",
      "stop_words = nltk.corpus.stopwords.words('english') + [\n",
      "    '.',\n",
      "    ',',\n",
      "    '--',\n",
      "    '\\'s',\n",
      "    '?',\n",
      "    ')',\n",
      "    '(',\n",
      "    ':',\n",
      "    '\\'',\n",
      "    '\\'re',\n",
      "    '\"',\n",
      "    '-',\n",
      "    '}',\n",
      "    '{',\n",
      "    u'\u2014',\n",
      "    '...',\n",
      "    '[',\n",
      "    ']',\n",
      "    '[A]',\n",
      "    'movie',\n",
      "    'cast',\n",
      "    'directed',\n",
      "    'produced'\n",
      "    ]\n",
      "\n",
      "punctuation_words = [\n",
      "    '.',\n",
      "    ',',\n",
      "    '--',\n",
      "    '\\'s',\n",
      "    '?',\n",
      "    ')',\n",
      "    '(',\n",
      "    ':',\n",
      "    '\\'',\n",
      "    '\\'re',\n",
      "    '\"',\n",
      "    '-',\n",
      "    '}',\n",
      "    '{',\n",
      "    u'\u2014',\n",
      "    '...',\n",
      "    '[',\n",
      "    ']'\n",
      "    ]\n",
      "\n",
      "# Because we are interested in exploring simple negation, we need to remove \"not\" from the \n",
      "# list of standard English stopwords in nltk\n",
      "\n",
      "stop_words.remove(\"not\")\n",
      "\n",
      "pd.set_option('display.width', 500)\n",
      "pd.set_option('display.max_columns', 30)\n",
      "\n",
      "# set some nicer defaults for matplotlib\n",
      "from matplotlib import rcParams\n",
      "\n",
      "#these colors come from colorbrewer2.org. Each is an RGB triplet\n",
      "dark2_colors = [(0.10588235294117647, 0.6196078431372549, 0.4666666666666667),\n",
      "                (0.8509803921568627, 0.37254901960784315, 0.00784313725490196),\n",
      "                (0.4588235294117647, 0.4392156862745098, 0.7019607843137254),\n",
      "                (0.9058823529411765, 0.1607843137254902, 0.5411764705882353),\n",
      "                (0.4, 0.6509803921568628, 0.11764705882352941),\n",
      "                (0.9019607843137255, 0.6705882352941176, 0.00784313725490196),\n",
      "                (0.6509803921568628, 0.4627450980392157, 0.11372549019607843),\n",
      "                (0.4, 0.4, 0.4)]\n",
      "\n",
      "rcParams['figure.figsize'] = (10, 6)\n",
      "rcParams['figure.dpi'] = 150\n",
      "rcParams['axes.color_cycle'] = dark2_colors\n",
      "rcParams['lines.linewidth'] = 2\n",
      "rcParams['axes.grid'] = False\n",
      "rcParams['axes.facecolor'] = 'white'\n",
      "rcParams['font.size'] = 14\n",
      "rcParams['patch.edgecolor'] = 'none'\n",
      "\n",
      "\n",
      "def remove_border(axes=None, top=False, right=False, left=True, bottom=True):\n",
      "    \"\"\"\n",
      "    Minimize chartjunk by stripping out unnecessary plot borders and axis ticks\n",
      "    \n",
      "    The top/right/left/bottom keywords toggle whether the corresponding plot border is drawn\n",
      "    \"\"\"\n",
      "    ax = axes or plt.gca()\n",
      "    ax.spines['top'].set_visible(top)\n",
      "    ax.spines['right'].set_visible(right)\n",
      "    ax.spines['left'].set_visible(left)\n",
      "    ax.spines['bottom'].set_visible(bottom)\n",
      "    \n",
      "    #turn off all ticks\n",
      "    ax.yaxis.set_ticks_position('none')\n",
      "    ax.xaxis.set_ticks_position('none')\n",
      "    \n",
      "    #now re-enable visibles\n",
      "    if top:\n",
      "        ax.xaxis.tick_top()\n",
      "    if bottom:\n",
      "        ax.xaxis.tick_bottom()\n",
      "    if left:\n",
      "        ax.yaxis.tick_left()\n",
      "    if right:\n",
      "        ax.yaxis.tick_right()\n",
      "        \n",
      "def histogram_style():\n",
      "    remove_border(left=False)\n",
      "    plt.grid(False)\n",
      "    plt.grid(axis='y', color='w', linestyle='-', lw=1)"
     ],
     "language": "python",
     "metadata": {},
     "outputs": [
      {
       "output_type": "stream",
       "stream": "stdout",
       "text": [
        "[nltk_data] Downloading package 'punkt' to /Users/aseem/nltk_data...\n",
        "[nltk_data]   Package punkt is already up-to-date!\n",
        "[nltk_data] Downloading package 'stopwords' to\n",
        "[nltk_data]     /Users/aseem/nltk_data...\n",
        "[nltk_data]   Package stopwords is already up-to-date!\n"
       ]
      }
     ],
     "prompt_number": 207
    },
    {
     "cell_type": "heading",
     "level": 1,
     "metadata": {},
     "source": [
      "0. Overview"
     ]
    },
    {
     "cell_type": "heading",
     "level": 2,
     "metadata": {},
     "source": [
      "About Rotten Tomatoes"
     ]
    },
    {
     "cell_type": "markdown",
     "metadata": {},
     "source": [
      "Launched in 1999, Rotten Tomatoes is a popular online movie review aggregator. Last month, for example, Rotten Tomatoes garnered approximately 10 million unique visits in the United States alone. The site gathers reviews from hundreds of newspapers and websites across the country and converts each review into a binary rating (\"fresh\" for a positive review and \"rotten\" for a negative one). A movie page on Rotten Tomatoes' website contains \"snippets\" from the full reviews for each critic. According to a product manager at Rotten Tomatoes, the lion's share of critic snippets are composed by the Rotten Tomatoes editorial team, with the remainder being submitted by the critics themselves. The blurbs written by the Rotten Tomatoes team, generally ranging from 1-3 sentences in length, aim to encapsulate the tone of the review and may include both direct and paraphrased quotes from the critic's piece. The example snippets often summarize the \"freshness\" of the review well. Two such snippets from recent films are included below:\n",
      "\n",
      "\"For 100 minutes, 'Argo' is close to flawless.\"\n",
      "\n",
      "\"Believe the hype: Gravity is as jaw-droppingly spectacular as you've heard - magnificent from a technical perspective but also a marvel of controlled acting and precise tone.\"\n",
      "\n",
      "Other times, however, it is more difficult for the reader to discern the critic's sentiment from the snippet provided. For example, the following excerpt from a review of Brave would seem to be negative in nature, \u201cWhile Brave is a mile ahead of other animated features hitting our screens, it does feel like a lesser Pixar work.\u201d However, this review was assigned a positive (\"fresh\") rating."
     ]
    },
    {
     "cell_type": "heading",
     "level": 2,
     "metadata": {},
     "source": [
      "Team Goals"
     ]
    },
    {
     "cell_type": "markdown",
     "metadata": {},
     "source": [
      "As a team, we were inspired by the sentiment analysis undertaken in a previous homework in which we implemented the Naive Bayes algorithm to predict whether a movie snippet from Rotten Tomatoes is positive (a movie you should see) or negative. Although the Naive Bayes classifier worked fairly well, we identified a few areas to potentially improve the performance of the model. Namely, the conditional independence assumption underpinning Naive Bayes does not hold well for text data. In other words, terms in natural language are often conditionally dependent on each other. The \"bag of words\" model we implemented previously discards all information communicated by the order of words in natural language sentences, resulting in some mispredictions.\n",
      "\n",
      "We found that our original model performed particularly poorly in cases of negation. For example, \"not memorable\" and \"memorable\" would essentially be equivalent because the negation term (\"not\") would be decoupled from the adjective (\"memorable\") in the bag of words. In our project, we aimed to incorporate negation while still using the \"bag of words\" model. We also decided to use a stemming algorithm to reduce words to their stem or root form. This would decrease the size of \"dictionary\" of terms in our data set and hence, ameliorate the sparsity problem.\n",
      "\n",
      "In addition to improving the classification of reviews as fresh or rotten, we also thought it would be valuable to investigate whether we could improve upon the raw data itself: the review snippet. As mentioned above, some of the review snippets do not easily conform to the adjectives and word types that one would normally associate with the polarity of the review. We also found that some of the snippets lacked sufficient context and could benefit from increased length to classify sentiment more accurately. We decided to retrieve the full movie review articles from the web and apply a summarization algorithm to gauge how a longer excerpt would affect classification."
     ]
    },
    {
     "cell_type": "heading",
     "level": 1,
     "metadata": {},
     "source": [
      "\n",
      "\n",
      "\n",
      "1. Obtain Rotten Tomatoes Movie Reviews"
     ]
    },
    {
     "cell_type": "markdown",
     "metadata": {},
     "source": [
      "Let's make sure that the Rotten Tomatoes API works for us.  We want to make sure we can obtain movie reviews from the service."
     ]
    },
    {
     "cell_type": "code",
     "collapsed": false,
     "input": [
      "# test that the RT API is working\n",
      "\n",
      "api_key = '2javvqk7j2mtbhgmrkvtphss'\n",
      "movie_id = '770672122'  # toy story 3\n",
      "url = 'http://api.rottentomatoes.com/api/public/v1.0/movies/%s/reviews.json' % movie_id\n",
      "\n",
      "#these are \"get parameters\"\n",
      "options = {'review_type': 'top_critic', 'page_limit': 20, 'page': 1, 'apikey': api_key}\n",
      "data = requests.get(url, params=options).text\n",
      "data = json.loads(data)  # load a json string into a collection of lists and dicts\n",
      "\n",
      "print json.dumps(data['reviews'][0], indent=2)  # dump an object into a json string"
     ],
     "language": "python",
     "metadata": {},
     "outputs": [
      {
       "output_type": "stream",
       "stream": "stdout",
       "text": [
        "{\n",
        "  \"publication\": \"Village Voice\", \n",
        "  \"links\": {\n",
        "    \"review\": \"http://www.villagevoice.com/2010-06-15/film/toys-are-us-in-toy-story-3/full/\"\n",
        "  }, \n",
        "  \"quote\": \"When teenaged Andy plops down on the grass to share his old toys with a shy little girl, the film spikes with sadness and layered pleasure -- a concise, deeply wise expression of the ephemeral that feels real and yet utterly transporting.\", \n",
        "  \"freshness\": \"fresh\", \n",
        "  \"critic\": \"Eric Hynes\", \n",
        "  \"date\": \"2013-08-04\"\n",
        "}\n"
       ]
      }
     ],
     "prompt_number": 2
    },
    {
     "cell_type": "markdown",
     "metadata": {},
     "source": [
      "We source our orginal list of movies from the Movie Lens Data Set.  This is provided in \"movies.dat\"."
     ]
    },
    {
     "cell_type": "code",
     "collapsed": false,
     "input": [
      "# Obtain a list of movies from the Movie Lens Data Set\n",
      "\n",
      "movies = pd.read_csv('movies.dat', delimiter='\\t')\n",
      "print movies[['id', 'title', 'imdbID', 'rtID', 'year']].irow(10)"
     ],
     "language": "python",
     "metadata": {},
     "outputs": [
      {
       "output_type": "stream",
       "stream": "stdout",
       "text": [
        "id                            11\n",
        "title     The American President\n",
        "imdbID                    112346\n",
        "rtID          american_president\n",
        "year                        1995\n",
        "Name: 10, dtype: object\n"
       ]
      }
     ],
     "prompt_number": 3
    },
    {
     "cell_type": "markdown",
     "metadata": {},
     "source": [
      "The following functions are used to obtain the Rotten Tomatoes reviews using the Rotten Tomatoes API"
     ]
    },
    {
     "cell_type": "code",
     "collapsed": false,
     "input": [
      "\"\"\"\n",
      "Function\n",
      "--------\n",
      "fetch_reviews(movies, row)\n",
      "\n",
      "Use the Rotten Tomatoes web API to fetch reviews for a particular movie\n",
      "\n",
      "Parameters\n",
      "----------\n",
      "movies : DataFrame \n",
      "  The movies data above\n",
      "row : int\n",
      "  The row of the movies DataFrame to use\n",
      "  \n",
      "Returns\n",
      "-------\n",
      "If you can match the IMDB id to a Rotten Tomatoes ID:\n",
      "  A DataFrame, containing the first 20 Top Critic reviews \n",
      "  for the movie. If a movie has less than 20 total reviews, return them all.\n",
      "  This should have the following columns:\n",
      "    critic : Name of the critic\n",
      "    fresh  : 'fresh' or 'rotten'\n",
      "    imdb   : IMDB id for the movie\n",
      "    publication: Publication that the critic writes for\n",
      "    quote  : string containing the movie review quote\n",
      "    review_data: Date of review\n",
      "    rtid   : Rotten Tomatoes ID for the movie\n",
      "    title  : Name of the movie\n",
      "    \n",
      "If you cannot match the IMDB id to a Rotten Tomatoes ID, return None\n",
      "\n",
      "Examples\n",
      "--------\n",
      ">>> reviews = fetch_reviews(movies, 0)\n",
      ">>> print len(reviews)\n",
      "20\n",
      ">>> print reviews.irow(1)\n",
      "critic                                               Derek Adams\n",
      "fresh                                                      fresh\n",
      "imdb                                                      114709\n",
      "publication                                             Time Out\n",
      "quote          So ingenious in concept, design and execution ...\n",
      "review_date                                           2009-10-04\n",
      "rtid                                                        9559\n",
      "title                                                  Toy story\n",
      "Name: 1, dtype: object\n",
      "\"\"\"\n",
      "def fetch_reviews(movies, row):\n",
      "    # init. lists to be used in our dataframe\n",
      "    critic_list = []\n",
      "    fresh_list = []\n",
      "    imdb_list = []\n",
      "    publication_list = []\n",
      "    quote_list = []\n",
      "    review_date_list = []\n",
      "    rtid_list = []\n",
      "    title_list = []\n",
      "    review_link_list = []\n",
      "    \n",
      "    # get the given IMDB ID and pad it if necessary\n",
      "    imdb_id = movies['imdbID'].irow(row)\n",
      "    imdb_id = pad_id(imdb_id)\n",
      "    \n",
      "    # convert IMDB ID to RT ID and get the reviews\n",
      "    # in case the server doesn't respond or throws an error, we\n",
      "    # retry 3 times before giving up\n",
      "    num_retries = 3\n",
      "    while num_retries > 0:\n",
      "        title, rtid, status_code = convert_IMDB_to_RottenTomatoes(imdb_id)\n",
      "        if (status_code == 200):\n",
      "            break;\n",
      "        else:\n",
      "            print status_code\n",
      "            num_retries -= 1\n",
      "    \n",
      "    # if we didn't an RT ID, return None\n",
      "    if (rtid is None):\n",
      "        return None\n",
      "    \n",
      "    num_retries = 3\n",
      "    while num_retries > 0:\n",
      "        data, status_code = get_reviews(rtid)\n",
      "        if (status_code == 200):\n",
      "            break;\n",
      "        else:\n",
      "            print status_code\n",
      "            num_retries -= 1\n",
      "    \n",
      "    if (status_code != 200):\n",
      "        return None\n",
      "    \n",
      "    # parse the reviews into a dataframe\n",
      "    for review in data['reviews']: \n",
      "        if ('review' in review['links'] and review['quote'] != ''): # check if a full review link exists\n",
      "            critic_list.append(review['critic'])\n",
      "            fresh_list.append(review['freshness'])\n",
      "            imdb_list.append(imdb_id)\n",
      "            publication_list.append(review['publication'])\n",
      "            quote_list.append(review['quote'])\n",
      "            review_date_list.append(review['date'])\n",
      "            rtid_list.append(rtid)\n",
      "            title_list.append(title)\n",
      "            review_link_list.append(review['links']['review'])\n",
      "    \n",
      "    df = pd.DataFrame(dict(critic=critic_list, \n",
      "                           fresh=fresh_list, \n",
      "                           imdb=imdb_list, \n",
      "                           publication=publication_list,\n",
      "                           quote=quote_list,\n",
      "                           review_date=pd.to_datetime(review_date_list),\n",
      "                           rtid=rtid_list,\n",
      "                           title=title_list,\n",
      "                           link=review_link_list))\n",
      "    #df.index = df.critic\n",
      "\n",
      "    return df\n",
      "\n",
      "\n",
      "# pads an ID with zeros from the left to always\n",
      "# create a 7 digit string\n",
      "def pad_id(id):\n",
      "    result = str(id).zfill(7)\n",
      "    return result\n",
      "    \n",
      "# converts an IMDB ID to a RT ID.  Returns a tuple\n",
      "# containing the title of the movie and the ID\n",
      "def convert_IMDB_to_RottenTomatoes(imdb_id):\n",
      "    url = \"http://api.rottentomatoes.com/api/public/v1.0/movie_alias.json\"\n",
      "    options = {'id': imdb_id, 'type': 'imdb', 'apikey': api_key}\n",
      "    request_result = requests.get(url, params=options)\n",
      "    status_code = request_result.status_code\n",
      "    data = request_result.text\n",
      "    data = json.loads(data)\n",
      "    \n",
      "    if (len(data) > 1):\n",
      "        return (data['title'], data['id'], status_code)\n",
      "    else:\n",
      "        return (None, None, status_code)\n",
      "\n",
      "# returns a JSON object containing the review data for \n",
      "# the specified movie\n",
      "def get_reviews(rt_id):\n",
      "    url = 'http://api.rottentomatoes.com/api/public/v1.0/movies/%s/reviews.json' % rt_id\n",
      "    options = {'review_type': 'top_critic', 'page_limit': 20, 'page': 1, 'apikey': api_key}\n",
      "    request_result = requests.get(url, params=options)\n",
      "    status_code = request_result.status_code\n",
      "    data = request_result.text\n",
      "    data = json.loads(data)  \n",
      "    \n",
      "    return (data, status_code)\n"
     ],
     "language": "python",
     "metadata": {},
     "outputs": [],
     "prompt_number": 4
    },
    {
     "cell_type": "code",
     "collapsed": false,
     "input": [
      "\"\"\"\n",
      "Function\n",
      "--------\n",
      "build_table\n",
      "\n",
      "Parameters\n",
      "----------\n",
      "movies : DataFrame\n",
      "  The movies data above\n",
      "rows : int\n",
      "  The number of rows to extract reviews for\n",
      "  \n",
      "Returns\n",
      "--------\n",
      "A dataframe\n",
      "  The data obtained by repeatedly calling `fetch_reviews` on the first `rows`\n",
      "  of `movies`, discarding the `None`s,\n",
      "  and concatenating the results into a single DataFrame\n",
      "\"\"\"\n",
      "#your code here\n",
      "def build_table(movies, rows):\n",
      "    result = pd.DataFrame({})\n",
      "    for row in range(rows):\n",
      "        df = fetch_reviews(movies, row)\n",
      "        if (df is not None):\n",
      "            result = result.append(df, ignore_index=True)\n",
      "    \n",
      "    return result"
     ],
     "language": "python",
     "metadata": {},
     "outputs": [],
     "prompt_number": 5
    },
    {
     "cell_type": "markdown",
     "metadata": {},
     "source": [
      "The following code will actually retrieve movie reviews for 3000 movies in the Movie Lens data set.  We have commented out the code that actually retrieves the data from Rotten Tomatoes because this takes a long time and uses up our daily API usage limit.\n",
      "\n",
      "Instead, we ran this retrieval once and saved the movie reviews to a CSV file.  We simply load this local file to save time when re-running the notebook."
     ]
    },
    {
     "cell_type": "code",
     "collapsed": false,
     "input": [
      "critics = pd.DataFrame()\n",
      "\n",
      "\n",
      "# Un-comment these lines to re-fetch the data from the RT service\n",
      "#critics = build_table(movies, 3000)\n",
      "#critics.to_csv('critics.csv', index=False)\n",
      "\n",
      "# Un-comment this line to load the RT data from a local file\n",
      "critics = pd.read_csv('critics.csv')\n",
      "\n",
      "\n",
      "#let's drop rows with missing data\n",
      "critics = critics[~critics.quote.isnull()]\n",
      "critics = critics[critics.fresh != 'none']\n",
      "critics = critics[critics.quote.str.len() > 0]\n",
      "critics = critics[critics.critic.str.len() > 0]"
     ],
     "language": "python",
     "metadata": {},
     "outputs": [],
     "prompt_number": 6
    },
    {
     "cell_type": "markdown",
     "metadata": {},
     "source": [
      "Let's check to make sure we have the amount of data we expect..."
     ]
    },
    {
     "cell_type": "code",
     "collapsed": false,
     "input": [
      "assert set(critics.columns) == set('critic fresh imdb link publication '\n",
      "                                   'quote review_date rtid title'.split())\n",
      "assert len(critics) > 10000\n",
      "critics.tail()"
     ],
     "language": "python",
     "metadata": {},
     "outputs": [
      {
       "html": [
        "<div style=\"max-height:1000px;max-width:1500px;overflow:auto;\">\n",
        "<table border=\"1\" class=\"dataframe\">\n",
        "  <thead>\n",
        "    <tr style=\"text-align: right;\">\n",
        "      <th></th>\n",
        "      <th>critic</th>\n",
        "      <th>fresh</th>\n",
        "      <th>imdb</th>\n",
        "      <th>link</th>\n",
        "      <th>publication</th>\n",
        "      <th>quote</th>\n",
        "      <th>review_date</th>\n",
        "      <th>rtid</th>\n",
        "      <th>title</th>\n",
        "    </tr>\n",
        "  </thead>\n",
        "  <tbody>\n",
        "    <tr>\n",
        "      <th>13436</th>\n",
        "      <td>     Jay Boyar</td>\n",
        "      <td>  fresh</td>\n",
        "      <td> 88683</td>\n",
        "      <td> http://articles.orlandosentinel.com/1985-10-30...</td>\n",
        "      <td>  Orlando Sentinel</td>\n",
        "      <td> It is Meg Tilly who makes the movie live. Her ...</td>\n",
        "      <td> 2013-05-08 00:00:00</td>\n",
        "      <td> 11917</td>\n",
        "      <td> Agnes of God</td>\n",
        "    </tr>\n",
        "    <tr>\n",
        "      <th>13437</th>\n",
        "      <td>   Gene Siskel</td>\n",
        "      <td> rotten</td>\n",
        "      <td> 88683</td>\n",
        "      <td> http://articles.chicagotribune.com/1985-09-13/...</td>\n",
        "      <td>   Chicago Tribune</td>\n",
        "      <td> Agnes of God plays with some challenging ideas...</td>\n",
        "      <td> 2013-05-08 00:00:00</td>\n",
        "      <td> 11917</td>\n",
        "      <td> Agnes of God</td>\n",
        "    </tr>\n",
        "    <tr>\n",
        "      <th>13438</th>\n",
        "      <td> Variety Staff</td>\n",
        "      <td> rotten</td>\n",
        "      <td> 88683</td>\n",
        "      <td> http://www.variety.com/review/VE1117796703.htm...</td>\n",
        "      <td>           Variety</td>\n",
        "      <td> Fonda's relentless interrogating, mannered cha...</td>\n",
        "      <td> 2008-10-18 00:00:00</td>\n",
        "      <td> 11917</td>\n",
        "      <td> Agnes of God</td>\n",
        "    </tr>\n",
        "    <tr>\n",
        "      <th>13440</th>\n",
        "      <td>  Janet Maslin</td>\n",
        "      <td> rotten</td>\n",
        "      <td> 88683</td>\n",
        "      <td> http://movies.nytimes.com/movie/review?res=950...</td>\n",
        "      <td>    New York Times</td>\n",
        "      <td> Miss Tilly makes a radiant Agnes, and Miss Ban...</td>\n",
        "      <td> 2003-05-20 00:00:00</td>\n",
        "      <td> 11917</td>\n",
        "      <td> Agnes of God</td>\n",
        "    </tr>\n",
        "    <tr>\n",
        "      <th>13441</th>\n",
        "      <td>   Roger Ebert</td>\n",
        "      <td> rotten</td>\n",
        "      <td> 88683</td>\n",
        "      <td> http://www.rogerebert.com/reviews/agnes-of-god...</td>\n",
        "      <td> Chicago Sun-Times</td>\n",
        "      <td> Although the movie deals in the basic material...</td>\n",
        "      <td> 2000-01-01 00:00:00</td>\n",
        "      <td> 11917</td>\n",
        "      <td> Agnes of God</td>\n",
        "    </tr>\n",
        "  </tbody>\n",
        "</table>\n",
        "</div>"
       ],
       "metadata": {},
       "output_type": "pyout",
       "prompt_number": 7,
       "text": [
        "              critic   fresh   imdb                                               link        publication                                              quote          review_date   rtid         title\n",
        "13436      Jay Boyar   fresh  88683  http://articles.orlandosentinel.com/1985-10-30...   Orlando Sentinel  It is Meg Tilly who makes the movie live. Her ...  2013-05-08 00:00:00  11917  Agnes of God\n",
        "13437    Gene Siskel  rotten  88683  http://articles.chicagotribune.com/1985-09-13/...    Chicago Tribune  Agnes of God plays with some challenging ideas...  2013-05-08 00:00:00  11917  Agnes of God\n",
        "13438  Variety Staff  rotten  88683  http://www.variety.com/review/VE1117796703.htm...            Variety  Fonda's relentless interrogating, mannered cha...  2008-10-18 00:00:00  11917  Agnes of God\n",
        "13440   Janet Maslin  rotten  88683  http://movies.nytimes.com/movie/review?res=950...     New York Times  Miss Tilly makes a radiant Agnes, and Miss Ban...  2003-05-20 00:00:00  11917  Agnes of God\n",
        "13441    Roger Ebert  rotten  88683  http://www.rogerebert.com/reviews/agnes-of-god...  Chicago Sun-Times  Although the movie deals in the basic material...  2000-01-01 00:00:00  11917  Agnes of God"
       ]
      }
     ],
     "prompt_number": 7
    },
    {
     "cell_type": "heading",
     "level": 1,
     "metadata": {},
     "source": [
      "2. Retreive Full Movie Review Articles"
     ]
    },
    {
     "cell_type": "markdown",
     "metadata": {},
     "source": [
      "The Rotten Tomatoes review data gives us a quote that Rotten Tomatoes has manually generated from the original movie review article.  We want to obtain these original articles to perform some analysis later.  We have prepared for this by storing the original link to the article in the critics dataframe.  \n",
      "\n",
      "We will use the BoilerPipe library to download the articles and extract the text we need, discarding any HTML markup from the webpage.  An example is shown below:"
     ]
    },
    {
     "cell_type": "code",
     "collapsed": false,
     "input": [
      "URL = critics.irow(0)['link']\n",
      "extractor = Extractor(extractor='ArticleExtractor', url=URL)\n",
      "print extractor.getText()"
     ],
     "language": "python",
     "metadata": {},
     "outputs": [
      {
       "output_type": "stream",
       "stream": "stdout",
       "text": [
        "Time Out says\n",
        "Tue Sep 29 2009\n",
        "Disney Pixar is ramping up the publicity for \u2018Toy Story 3\u2019 (due next July) by rereleasing its two earlier incarnations in \u2018Disney Digital 3D\u2019. \u2018Toy Story 2 in 3D\u2019 launches next January, but before that we have its seminal stablemate, and on the evidence of a recent viewing, John Lasseter \u2019s film hasn\u2019t aged at all. It\u2019s so ingenious in concept, design and execution that you could watch it on a postage stamp-sized screen and still be engulfed by its charm. That said, there\u2019s no denying that 3D has enhanced the experience threefold in the way it lifts the print off the screen and plonks it on the viewer\u2019s lap. And because it was never made with a third dimension in mind, there\u2019s no over-egging of the effects. When Lasseter\u2019s first computer-generated foray was released back in 1995, it broke boundaries; seeing it nearly 15 years on only highlights its enduring ability to seduce all generations with its wit and spirit. Roll on, Woody!\n",
        "Author: Derek Adams\n",
        "\n"
       ]
      }
     ],
     "prompt_number": 8
    },
    {
     "cell_type": "markdown",
     "metadata": {},
     "source": [
      "The following function will download all the original articles for the reviews in the critics dataframe.  This takes *~6 hours* for 12,000 articles."
     ]
    },
    {
     "cell_type": "code",
     "collapsed": false,
     "input": [
      "def get_articles(data):\n",
      "    full_reviews = []\n",
      "    \n",
      "    for i in range(len(data)):\n",
      "        URL = data.irow(i)['link']\n",
      "        if (i%25 == 0):\n",
      "            print 'Processing review %d' % i\n",
      "        \n",
      "        try:\n",
      "            extractor = Extractor(extractor='ArticleExtractor', url=URL)\n",
      "            full_reviews.append(extractor.getText())\n",
      "        except:\n",
      "            full_reviews.append(None)\n",
      "            \n",
      "    review_df = pd.DataFrame(full_reviews, columns=['article'], index=data.index)\n",
      "    new_df = data.join(review_df)\n",
      "    new_df = new_df[~new_df.article.isnull()]\n",
      "        \n",
      "    return new_df"
     ],
     "language": "python",
     "metadata": {},
     "outputs": [],
     "prompt_number": 9
    },
    {
     "cell_type": "markdown",
     "metadata": {},
     "source": [
      "The following code will call the function above and initiate the download process.  This code is commented out.  Only un-comment if you want to  run the manual web retrieval!"
     ]
    },
    {
     "cell_type": "code",
     "collapsed": false,
     "input": [
      "#time1 = time.time()\n",
      "#article_df = get_articles(critics)\n",
      "#time2 = time.time()\n",
      "#print 'function took %0.3f m' % ((time2-time1) / 60.0)\n",
      "\n",
      "#print len(critics)\n",
      "#print len(article_df)\n",
      "\n",
      "#article_df.to_csv('articles.csv', index=False, encoding='utf-8')\n",
      "#article_df.head()"
     ],
     "language": "python",
     "metadata": {},
     "outputs": [],
     "prompt_number": 10
    },
    {
     "cell_type": "markdown",
     "metadata": {},
     "source": [
      "The results are shown below.  We were able to fetch 9,906 articles from the 12,718 links we received from Rotten Tomatoes.  Many of the original links no longer existed or timed out."
     ]
    },
    {
     "cell_type": "markdown",
     "metadata": {},
     "source": [
      "<img src=\"files/article_result.png\">"
     ]
    },
    {
     "cell_type": "markdown",
     "metadata": {},
     "source": [
      "The following code should be un-commented when you want to load all the articles from a local file ('articles.csv')"
     ]
    },
    {
     "cell_type": "code",
     "collapsed": false,
     "input": [
      "articles = pd.read_csv('articles.csv')\n",
      "articles.head()"
     ],
     "language": "python",
     "metadata": {},
     "outputs": [
      {
       "html": [
        "<div style=\"max-height:1000px;max-width:1500px;overflow:auto;\">\n",
        "<table border=\"1\" class=\"dataframe\">\n",
        "  <thead>\n",
        "    <tr style=\"text-align: right;\">\n",
        "      <th></th>\n",
        "      <th>critic</th>\n",
        "      <th>fresh</th>\n",
        "      <th>imdb</th>\n",
        "      <th>link</th>\n",
        "      <th>publication</th>\n",
        "      <th>quote</th>\n",
        "      <th>review_date</th>\n",
        "      <th>rtid</th>\n",
        "      <th>title</th>\n",
        "      <th>article</th>\n",
        "    </tr>\n",
        "  </thead>\n",
        "  <tbody>\n",
        "    <tr>\n",
        "      <th>0</th>\n",
        "      <td>        Derek Adams</td>\n",
        "      <td> fresh</td>\n",
        "      <td> 114709</td>\n",
        "      <td> http://www.timeout.com/film/reviews/87745/toy-...</td>\n",
        "      <td>       Time Out</td>\n",
        "      <td> So ingenious in concept, design and execution ...</td>\n",
        "      <td> 2009-10-04 00:00:00</td>\n",
        "      <td> 9559</td>\n",
        "      <td> Toy Story</td>\n",
        "      <td> Time Out says\\nTue Sep 29 2009\\nDisney Pixar i...</td>\n",
        "    </tr>\n",
        "    <tr>\n",
        "      <th>1</th>\n",
        "      <td>    Richard Corliss</td>\n",
        "      <td> fresh</td>\n",
        "      <td> 114709</td>\n",
        "      <td> http://www.time.com/time/magazine/article/0,91...</td>\n",
        "      <td>  TIME Magazine</td>\n",
        "      <td>                 The year's most inventive comedy.</td>\n",
        "      <td> 2008-08-31 00:00:00</td>\n",
        "      <td> 9559</td>\n",
        "      <td> Toy Story</td>\n",
        "      <td> Google+\\nCHARACTERS IN SO MANY LIVE-action mov...</td>\n",
        "    </tr>\n",
        "    <tr>\n",
        "      <th>2</th>\n",
        "      <td>        David Ansen</td>\n",
        "      <td> fresh</td>\n",
        "      <td> 114709</td>\n",
        "      <td>                 http://www.newsweek.com/id/104199</td>\n",
        "      <td>       Newsweek</td>\n",
        "      <td> A winning animated feature that has something ...</td>\n",
        "      <td> 2008-08-18 00:00:00</td>\n",
        "      <td> 9559</td>\n",
        "      <td> Toy Story</td>\n",
        "      <td> Disney's Digital Delight\\nBy David Ansen / Nov...</td>\n",
        "    </tr>\n",
        "    <tr>\n",
        "      <th>3</th>\n",
        "      <td>      Leonard Klady</td>\n",
        "      <td> fresh</td>\n",
        "      <td> 114709</td>\n",
        "      <td> http://www.variety.com/review/VE1117941294.htm...</td>\n",
        "      <td>        Variety</td>\n",
        "      <td> The film sports a provocative and appealing st...</td>\n",
        "      <td> 2008-06-09 00:00:00</td>\n",
        "      <td> 9559</td>\n",
        "      <td> Toy Story</td>\n",
        "      <td> Peter Kaplan Dies: New York Observer Editor Wa...</td>\n",
        "    </tr>\n",
        "    <tr>\n",
        "      <th>4</th>\n",
        "      <td> Jonathan Rosenbaum</td>\n",
        "      <td> fresh</td>\n",
        "      <td> 114709</td>\n",
        "      <td> http://onfilm.chicagoreader.com/movies/capsule...</td>\n",
        "      <td> Chicago Reader</td>\n",
        "      <td> An entertaining computer-generated, hyperreali...</td>\n",
        "      <td> 2008-03-10 00:00:00</td>\n",
        "      <td> 9559</td>\n",
        "      <td> Toy Story</td>\n",
        "      <td> Toy Story \u00a0\\n1995\\nWalt Disney Pictures and Pi...</td>\n",
        "    </tr>\n",
        "  </tbody>\n",
        "</table>\n",
        "</div>"
       ],
       "metadata": {},
       "output_type": "pyout",
       "prompt_number": 12,
       "text": [
        "               critic  fresh    imdb                                               link     publication                                              quote          review_date  rtid      title                                            article\n",
        "0         Derek Adams  fresh  114709  http://www.timeout.com/film/reviews/87745/toy-...        Time Out  So ingenious in concept, design and execution ...  2009-10-04 00:00:00  9559  Toy Story  Time Out says\\nTue Sep 29 2009\\nDisney Pixar i...\n",
        "1     Richard Corliss  fresh  114709  http://www.time.com/time/magazine/article/0,91...   TIME Magazine                  The year's most inventive comedy.  2008-08-31 00:00:00  9559  Toy Story  Google+\\nCHARACTERS IN SO MANY LIVE-action mov...\n",
        "2         David Ansen  fresh  114709                  http://www.newsweek.com/id/104199        Newsweek  A winning animated feature that has something ...  2008-08-18 00:00:00  9559  Toy Story  Disney's Digital Delight\\nBy David Ansen / Nov...\n",
        "3       Leonard Klady  fresh  114709  http://www.variety.com/review/VE1117941294.htm...         Variety  The film sports a provocative and appealing st...  2008-06-09 00:00:00  9559  Toy Story  Peter Kaplan Dies: New York Observer Editor Wa...\n",
        "4  Jonathan Rosenbaum  fresh  114709  http://onfilm.chicagoreader.com/movies/capsule...  Chicago Reader  An entertaining computer-generated, hyperreali...  2008-03-10 00:00:00  9559  Toy Story  Toy Story \u00a0\\n1995\\nWalt Disney Pictures and Pi..."
       ]
      }
     ],
     "prompt_number": 12
    },
    {
     "cell_type": "heading",
     "level": 1,
     "metadata": {},
     "source": [
      "3. Data Cleaning"
     ]
    },
    {
     "cell_type": "markdown",
     "metadata": {},
     "source": [
      "Before moving on with our analysis, we need to ensure that the articles we have are the actual articles themselves.  In examining the data randomly, we saw that several original article links redirect back to the website's home page.  The LA Times & Variety tend to do this for older movies.\n",
      "\n",
      "The approach we will use to determine if a movie review article is \"correct\" is if the Rotten Tomatoes quote can be found in the movie review article.  Unfortunately, we cannot do an exact match of the quote, because often times the quote is not a direct quote, but is rather a paraphrase of sentences used in the original article.  This will result in many articles being classified as incorrect unnecessarily.\n",
      "\n",
      "Instead, we will tokenize both the quote and the original article and compare the number of tokens in the quote found in the set tokens in the article.  \n",
      "\n",
      "First, we right a function to tokenize our text and come up with a score from 0-100%:"
     ]
    },
    {
     "cell_type": "code",
     "collapsed": false,
     "input": [
      "\"\"\"\n",
      "Function\n",
      "--------\n",
      "tokenize_match\n",
      "\n",
      "Parameters\n",
      "----------\n",
      "article : String\n",
      "  a full length review article\n",
      "quote : String\n",
      "  The Rotten Tomatoes quote for the given article\n",
      "  \n",
      "Returns\n",
      "--------\n",
      "Integer\n",
      "  Returns an integer score from 0-100.  0 means that none of the tokens in the\n",
      "  quote could be found in the original article.  100 means that all tokens \n",
      "  were matched.\n",
      "\"\"\"\n",
      "def tokenize_match(article, quote):\n",
      "    # make text lower-case\n",
      "    article = article.lower()\n",
      "    quote = quote.lower()\n",
      "    \n",
      "    # tokenize the text\n",
      "    sentences = nltk.tokenize.sent_tokenize(article)\n",
      "    a_tokens = [token for sentence in sentences for token in nltk.tokenize.word_tokenize(sentence) if token not in stop_words]\n",
      "    \n",
      "    #q_tokens = nltk.tokenize.word_tokenize(quote)\n",
      "    q_tokens = [token for token in nltk.tokenize.word_tokenize(quote) if token not in stop_words]\n",
      "    \n",
      "    # compute the intersection\n",
      "    intersection = (set(a_tokens)).intersection(set(q_tokens))\n",
      "    percentage = float(len(intersection)) / float(len(set(q_tokens))) * 100.0\n",
      "    \n",
      "    return int(percentage)"
     ],
     "language": "python",
     "metadata": {},
     "outputs": [],
     "prompt_number": 14
    },
    {
     "cell_type": "markdown",
     "metadata": {},
     "source": [
      "Now we'll run this function and get match scores for every article in our data set.  Note that some articles are not text, but \"nan\".  Therefore we use try/except blocks when accessing the article text.  The result will be our original dataframe with a new column that contains the \"match score\" for the given review."
     ]
    },
    {
     "cell_type": "code",
     "collapsed": false,
     "input": [
      "# get the match score for each article\n",
      "match_score = []\n",
      "for i in range(len(articles)):\n",
      "    quote = (articles.irow(i)['quote'])\n",
      "    try:\n",
      "        article = (articles.irow(i)['article'])\n",
      "        match_score.append(tokenize_match(article, quote))\n",
      "    except:\n",
      "        match_score.append(0)\n",
      "\n",
      "score_df = pd.DataFrame(match_score, columns=['score'], index=articles.index)\n",
      "scored_articles = articles.join(score_df)\n",
      "\n",
      "print \"# of Articles Scored: %d\" % len(match_score)\n",
      "scored_articles.head()"
     ],
     "language": "python",
     "metadata": {},
     "outputs": [
      {
       "output_type": "stream",
       "stream": "stdout",
       "text": [
        "# of Articles Scored: 9906\n"
       ]
      },
      {
       "html": [
        "<div style=\"max-height:1000px;max-width:1500px;overflow:auto;\">\n",
        "<table border=\"1\" class=\"dataframe\">\n",
        "  <thead>\n",
        "    <tr style=\"text-align: right;\">\n",
        "      <th></th>\n",
        "      <th>critic</th>\n",
        "      <th>fresh</th>\n",
        "      <th>imdb</th>\n",
        "      <th>link</th>\n",
        "      <th>publication</th>\n",
        "      <th>quote</th>\n",
        "      <th>review_date</th>\n",
        "      <th>rtid</th>\n",
        "      <th>title</th>\n",
        "      <th>article</th>\n",
        "      <th>score</th>\n",
        "    </tr>\n",
        "  </thead>\n",
        "  <tbody>\n",
        "    <tr>\n",
        "      <th>0</th>\n",
        "      <td>        Derek Adams</td>\n",
        "      <td> fresh</td>\n",
        "      <td> 114709</td>\n",
        "      <td> http://www.timeout.com/film/reviews/87745/toy-...</td>\n",
        "      <td>       Time Out</td>\n",
        "      <td> So ingenious in concept, design and execution ...</td>\n",
        "      <td> 2009-10-04 00:00:00</td>\n",
        "      <td> 9559</td>\n",
        "      <td> Toy Story</td>\n",
        "      <td> Time Out says\\nTue Sep 29 2009\\nDisney Pixar i...</td>\n",
        "      <td> 100</td>\n",
        "    </tr>\n",
        "    <tr>\n",
        "      <th>1</th>\n",
        "      <td>    Richard Corliss</td>\n",
        "      <td> fresh</td>\n",
        "      <td> 114709</td>\n",
        "      <td> http://www.time.com/time/magazine/article/0,91...</td>\n",
        "      <td>  TIME Magazine</td>\n",
        "      <td>                 The year's most inventive comedy.</td>\n",
        "      <td> 2008-08-31 00:00:00</td>\n",
        "      <td> 9559</td>\n",
        "      <td> Toy Story</td>\n",
        "      <td> Google+\\nCHARACTERS IN SO MANY LIVE-action mov...</td>\n",
        "      <td> 100</td>\n",
        "    </tr>\n",
        "    <tr>\n",
        "      <th>2</th>\n",
        "      <td>        David Ansen</td>\n",
        "      <td> fresh</td>\n",
        "      <td> 114709</td>\n",
        "      <td>                 http://www.newsweek.com/id/104199</td>\n",
        "      <td>       Newsweek</td>\n",
        "      <td> A winning animated feature that has something ...</td>\n",
        "      <td> 2008-08-18 00:00:00</td>\n",
        "      <td> 9559</td>\n",
        "      <td> Toy Story</td>\n",
        "      <td> Disney's Digital Delight\\nBy David Ansen / Nov...</td>\n",
        "      <td> 100</td>\n",
        "    </tr>\n",
        "    <tr>\n",
        "      <th>3</th>\n",
        "      <td>      Leonard Klady</td>\n",
        "      <td> fresh</td>\n",
        "      <td> 114709</td>\n",
        "      <td> http://www.variety.com/review/VE1117941294.htm...</td>\n",
        "      <td>        Variety</td>\n",
        "      <td> The film sports a provocative and appealing st...</td>\n",
        "      <td> 2008-06-09 00:00:00</td>\n",
        "      <td> 9559</td>\n",
        "      <td> Toy Story</td>\n",
        "      <td> Peter Kaplan Dies: New York Observer Editor Wa...</td>\n",
        "      <td>  10</td>\n",
        "    </tr>\n",
        "    <tr>\n",
        "      <th>4</th>\n",
        "      <td> Jonathan Rosenbaum</td>\n",
        "      <td> fresh</td>\n",
        "      <td> 114709</td>\n",
        "      <td> http://onfilm.chicagoreader.com/movies/capsule...</td>\n",
        "      <td> Chicago Reader</td>\n",
        "      <td> An entertaining computer-generated, hyperreali...</td>\n",
        "      <td> 2008-03-10 00:00:00</td>\n",
        "      <td> 9559</td>\n",
        "      <td> Toy Story</td>\n",
        "      <td> Toy Story \u00a0\\n1995\\nWalt Disney Pictures and Pi...</td>\n",
        "      <td> 100</td>\n",
        "    </tr>\n",
        "  </tbody>\n",
        "</table>\n",
        "</div>"
       ],
       "metadata": {},
       "output_type": "pyout",
       "prompt_number": 18,
       "text": [
        "               critic  fresh    imdb                                               link     publication                                              quote          review_date  rtid      title                                            article  score\n",
        "0         Derek Adams  fresh  114709  http://www.timeout.com/film/reviews/87745/toy-...        Time Out  So ingenious in concept, design and execution ...  2009-10-04 00:00:00  9559  Toy Story  Time Out says\\nTue Sep 29 2009\\nDisney Pixar i...    100\n",
        "1     Richard Corliss  fresh  114709  http://www.time.com/time/magazine/article/0,91...   TIME Magazine                  The year's most inventive comedy.  2008-08-31 00:00:00  9559  Toy Story  Google+\\nCHARACTERS IN SO MANY LIVE-action mov...    100\n",
        "2         David Ansen  fresh  114709                  http://www.newsweek.com/id/104199        Newsweek  A winning animated feature that has something ...  2008-08-18 00:00:00  9559  Toy Story  Disney's Digital Delight\\nBy David Ansen / Nov...    100\n",
        "3       Leonard Klady  fresh  114709  http://www.variety.com/review/VE1117941294.htm...         Variety  The film sports a provocative and appealing st...  2008-06-09 00:00:00  9559  Toy Story  Peter Kaplan Dies: New York Observer Editor Wa...     10\n",
        "4  Jonathan Rosenbaum  fresh  114709  http://onfilm.chicagoreader.com/movies/capsule...  Chicago Reader  An entertaining computer-generated, hyperreali...  2008-03-10 00:00:00  9559  Toy Story  Toy Story \u00a0\\n1995\\nWalt Disney Pictures and Pi...    100"
       ]
      }
     ],
     "prompt_number": 18
    },
    {
     "cell_type": "markdown",
     "metadata": {},
     "source": [
      "Let's plot a histogram of the scores:"
     ]
    },
    {
     "cell_type": "code",
     "collapsed": false,
     "input": [
      "plt.figure()\n",
      "plt.hist(match_score, bins=100)\n",
      "plt.xlabel(\"Score\")\n",
      "plt.ylabel(\"N\")\n",
      "histogram_style()"
     ],
     "language": "python",
     "metadata": {},
     "outputs": [
      {
       "metadata": {},
       "output_type": "display_data",
       "png": "[encoded data removed]",
       "text": [
        "<matplotlib.figure.Figure at 0x113ba9450>"
       ]
      }
     ],
     "prompt_number": 19
    },
    {
     "cell_type": "markdown",
     "metadata": {},
     "source": [
      "We see that the scores are skewed towards the upper end of the scale, which is a good sign that we have obtained mostly accurate articles.  Let's explore some articles with different scores."
     ]
    },
    {
     "cell_type": "code",
     "collapsed": false,
     "input": [
      "low_score_df = scored_articles[scored_articles.score <= 70]\n",
      "print \"# of low scoring articles: %d\" % len(low_score_df)\n",
      "low_score_df.head()"
     ],
     "language": "python",
     "metadata": {},
     "outputs": [
      {
       "output_type": "stream",
       "stream": "stdout",
       "text": [
        "# of low scoring articles: 2088\n"
       ]
      },
      {
       "html": [
        "<div style=\"max-height:1000px;max-width:1500px;overflow:auto;\">\n",
        "<table border=\"1\" class=\"dataframe\">\n",
        "  <thead>\n",
        "    <tr style=\"text-align: right;\">\n",
        "      <th></th>\n",
        "      <th>critic</th>\n",
        "      <th>fresh</th>\n",
        "      <th>imdb</th>\n",
        "      <th>link</th>\n",
        "      <th>publication</th>\n",
        "      <th>quote</th>\n",
        "      <th>review_date</th>\n",
        "      <th>rtid</th>\n",
        "      <th>title</th>\n",
        "      <th>article</th>\n",
        "      <th>score</th>\n",
        "    </tr>\n",
        "  </thead>\n",
        "  <tbody>\n",
        "    <tr>\n",
        "      <th>3 </th>\n",
        "      <td> Leonard Klady</td>\n",
        "      <td> fresh</td>\n",
        "      <td> 114709</td>\n",
        "      <td> http://www.variety.com/review/VE1117941294.htm...</td>\n",
        "      <td>           Variety</td>\n",
        "      <td> The film sports a provocative and appealing st...</td>\n",
        "      <td> 2008-06-09 00:00:00</td>\n",
        "      <td>  9559</td>\n",
        "      <td>         Toy Story</td>\n",
        "      <td> Peter Kaplan Dies: New York Observer Editor Wa...</td>\n",
        "      <td> 10</td>\n",
        "    </tr>\n",
        "    <tr>\n",
        "      <th>7 </th>\n",
        "      <td> Kenneth Turan</td>\n",
        "      <td> fresh</td>\n",
        "      <td> 114709</td>\n",
        "      <td> http://www.calendarlive.com/movies/reviews/cl-...</td>\n",
        "      <td> Los Angeles Times</td>\n",
        "      <td> Although its computer-generated imagery is imp...</td>\n",
        "      <td> 2001-02-13 00:00:00</td>\n",
        "      <td>  9559</td>\n",
        "      <td>         Toy Story</td>\n",
        "      <td> Frank Gehry's Grand vision to go before projec...</td>\n",
        "      <td>  0</td>\n",
        "    </tr>\n",
        "    <tr>\n",
        "      <th>11</th>\n",
        "      <td>  Rita Kempley</td>\n",
        "      <td> fresh</td>\n",
        "      <td> 114709</td>\n",
        "      <td> http://www.washingtonpost.com/wp-srv/style/lon...</td>\n",
        "      <td>   Washington Post</td>\n",
        "      <td> It's a nice change of pace to see the studio d...</td>\n",
        "      <td> 2000-01-01 00:00:00</td>\n",
        "      <td>  9559</td>\n",
        "      <td>         Toy Story</td>\n",
        "      <td> Washington Post Staff Writer\\nNovember 24, 199...</td>\n",
        "      <td> 20</td>\n",
        "    </tr>\n",
        "    <tr>\n",
        "      <th>19</th>\n",
        "      <td> Kenneth Turan</td>\n",
        "      <td> fresh</td>\n",
        "      <td> 114885</td>\n",
        "      <td> http://www.calendarlive.com/movies/reviews/cl-...</td>\n",
        "      <td> Los Angeles Times</td>\n",
        "      <td> A pleasant if undemanding piece of work that i...</td>\n",
        "      <td> 2001-02-13 00:00:00</td>\n",
        "      <td> 16697</td>\n",
        "      <td> Waiting to Exhale</td>\n",
        "      <td> Frank Gehry's Grand vision to go before projec...</td>\n",
        "      <td>  0</td>\n",
        "    </tr>\n",
        "    <tr>\n",
        "      <th>25</th>\n",
        "      <td>  Geoff Andrew</td>\n",
        "      <td> fresh</td>\n",
        "      <td> 113277</td>\n",
        "      <td> http://www.timeout.com/film/reviews/71852/heat...</td>\n",
        "      <td>          Time Out</td>\n",
        "      <td> This is simply the best American crime movie -...</td>\n",
        "      <td> 2006-02-09 00:00:00</td>\n",
        "      <td> 13098</td>\n",
        "      <td>              Heat</td>\n",
        "      <td> HEAT\\nDirector \u00e2\u20ac\u201c Michael Mann, 1995, US\\nSta...</td>\n",
        "      <td> 20</td>\n",
        "    </tr>\n",
        "  </tbody>\n",
        "</table>\n",
        "</div>"
       ],
       "metadata": {},
       "output_type": "pyout",
       "prompt_number": 20,
       "text": [
        "           critic  fresh    imdb                                               link        publication                                              quote          review_date   rtid              title                                            article  score\n",
        "3   Leonard Klady  fresh  114709  http://www.variety.com/review/VE1117941294.htm...            Variety  The film sports a provocative and appealing st...  2008-06-09 00:00:00   9559          Toy Story  Peter Kaplan Dies: New York Observer Editor Wa...     10\n",
        "7   Kenneth Turan  fresh  114709  http://www.calendarlive.com/movies/reviews/cl-...  Los Angeles Times  Although its computer-generated imagery is imp...  2001-02-13 00:00:00   9559          Toy Story  Frank Gehry's Grand vision to go before projec...      0\n",
        "11   Rita Kempley  fresh  114709  http://www.washingtonpost.com/wp-srv/style/lon...    Washington Post  It's a nice change of pace to see the studio d...  2000-01-01 00:00:00   9559          Toy Story  Washington Post Staff Writer\\nNovember 24, 199...     20\n",
        "19  Kenneth Turan  fresh  114885  http://www.calendarlive.com/movies/reviews/cl-...  Los Angeles Times  A pleasant if undemanding piece of work that i...  2001-02-13 00:00:00  16697  Waiting to Exhale  Frank Gehry's Grand vision to go before projec...      0\n",
        "25   Geoff Andrew  fresh  113277  http://www.timeout.com/film/reviews/71852/heat...           Time Out  This is simply the best American crime movie -...  2006-02-09 00:00:00  13098               Heat  HEAT\\nDirector \u00e2\u20ac\u201c Michael Mann, 1995, US\\nSta...     20"
       ]
      }
     ],
     "prompt_number": 20
    },
    {
     "cell_type": "code",
     "collapsed": false,
     "input": [
      "low_score_subdf = low_score_df[['publication', 'quote', 'article', 'link', 'score']]\n",
      "score_groupby = low_score_subdf.groupby(['score'])\n",
      "score_series = score_groupby.size()\n",
      "\n",
      "score_df = pd.DataFrame(score_series, columns=['instances'])\n",
      "score_df.sort_index(by='instances', ascending=False, inplace=True)\n",
      "score_df.head(10)"
     ],
     "language": "python",
     "metadata": {},
     "outputs": [
      {
       "html": [
        "<div style=\"max-height:1000px;max-width:1500px;overflow:auto;\">\n",
        "<table border=\"1\" class=\"dataframe\">\n",
        "  <thead>\n",
        "    <tr style=\"text-align: right;\">\n",
        "      <th></th>\n",
        "      <th>instances</th>\n",
        "    </tr>\n",
        "    <tr>\n",
        "      <th>score</th>\n",
        "      <th></th>\n",
        "    </tr>\n",
        "  </thead>\n",
        "  <tbody>\n",
        "    <tr>\n",
        "      <th>0 </th>\n",
        "      <td> 1271</td>\n",
        "    </tr>\n",
        "    <tr>\n",
        "      <th>5 </th>\n",
        "      <td>   56</td>\n",
        "    </tr>\n",
        "    <tr>\n",
        "      <th>66</th>\n",
        "      <td>   48</td>\n",
        "    </tr>\n",
        "    <tr>\n",
        "      <th>7 </th>\n",
        "      <td>   41</td>\n",
        "    </tr>\n",
        "    <tr>\n",
        "      <th>33</th>\n",
        "      <td>   41</td>\n",
        "    </tr>\n",
        "    <tr>\n",
        "      <th>6 </th>\n",
        "      <td>   40</td>\n",
        "    </tr>\n",
        "    <tr>\n",
        "      <th>10</th>\n",
        "      <td>   39</td>\n",
        "    </tr>\n",
        "    <tr>\n",
        "      <th>11</th>\n",
        "      <td>   38</td>\n",
        "    </tr>\n",
        "    <tr>\n",
        "      <th>9 </th>\n",
        "      <td>   37</td>\n",
        "    </tr>\n",
        "    <tr>\n",
        "      <th>50</th>\n",
        "      <td>   34</td>\n",
        "    </tr>\n",
        "  </tbody>\n",
        "</table>\n",
        "</div>"
       ],
       "metadata": {},
       "output_type": "pyout",
       "prompt_number": 21,
       "text": [
        "       instances\n",
        "score           \n",
        "0           1271\n",
        "5             56\n",
        "66            48\n",
        "7             41\n",
        "33            41\n",
        "6             40\n",
        "10            39\n",
        "11            38\n",
        "9             37\n",
        "50            34"
       ]
      }
     ],
     "prompt_number": 21
    },
    {
     "cell_type": "markdown",
     "metadata": {},
     "source": [
      "While we see that the majority of \"low scoring\" articles have a score of 0, there could be some equally bad articles that by chance have some matching words with the original quote.  To be safe, we'll remove all articles that have a score <= 30%."
     ]
    },
    {
     "cell_type": "code",
     "collapsed": false,
     "input": [
      "cleaned_articles = scored_articles[scored_articles.score > 30]\n",
      "print len(cleaned_articles) \n",
      "cleaned_articles.head()"
     ],
     "language": "python",
     "metadata": {},
     "outputs": [
      {
       "output_type": "stream",
       "stream": "stdout",
       "text": [
        "8098\n"
       ]
      },
      {
       "html": [
        "<div style=\"max-height:1000px;max-width:1500px;overflow:auto;\">\n",
        "<table border=\"1\" class=\"dataframe\">\n",
        "  <thead>\n",
        "    <tr style=\"text-align: right;\">\n",
        "      <th></th>\n",
        "      <th>critic</th>\n",
        "      <th>fresh</th>\n",
        "      <th>imdb</th>\n",
        "      <th>link</th>\n",
        "      <th>publication</th>\n",
        "      <th>quote</th>\n",
        "      <th>review_date</th>\n",
        "      <th>rtid</th>\n",
        "      <th>title</th>\n",
        "      <th>article</th>\n",
        "      <th>score</th>\n",
        "    </tr>\n",
        "  </thead>\n",
        "  <tbody>\n",
        "    <tr>\n",
        "      <th>0</th>\n",
        "      <td>        Derek Adams</td>\n",
        "      <td> fresh</td>\n",
        "      <td> 114709</td>\n",
        "      <td> http://www.timeout.com/film/reviews/87745/toy-...</td>\n",
        "      <td>       Time Out</td>\n",
        "      <td> So ingenious in concept, design and execution ...</td>\n",
        "      <td> 2009-10-04 00:00:00</td>\n",
        "      <td> 9559</td>\n",
        "      <td> Toy Story</td>\n",
        "      <td> Time Out says\\nTue Sep 29 2009\\nDisney Pixar i...</td>\n",
        "      <td> 100</td>\n",
        "    </tr>\n",
        "    <tr>\n",
        "      <th>1</th>\n",
        "      <td>    Richard Corliss</td>\n",
        "      <td> fresh</td>\n",
        "      <td> 114709</td>\n",
        "      <td> http://www.time.com/time/magazine/article/0,91...</td>\n",
        "      <td>  TIME Magazine</td>\n",
        "      <td>                 The year's most inventive comedy.</td>\n",
        "      <td> 2008-08-31 00:00:00</td>\n",
        "      <td> 9559</td>\n",
        "      <td> Toy Story</td>\n",
        "      <td> Google+\\nCHARACTERS IN SO MANY LIVE-action mov...</td>\n",
        "      <td> 100</td>\n",
        "    </tr>\n",
        "    <tr>\n",
        "      <th>2</th>\n",
        "      <td>        David Ansen</td>\n",
        "      <td> fresh</td>\n",
        "      <td> 114709</td>\n",
        "      <td>                 http://www.newsweek.com/id/104199</td>\n",
        "      <td>       Newsweek</td>\n",
        "      <td> A winning animated feature that has something ...</td>\n",
        "      <td> 2008-08-18 00:00:00</td>\n",
        "      <td> 9559</td>\n",
        "      <td> Toy Story</td>\n",
        "      <td> Disney's Digital Delight\\nBy David Ansen / Nov...</td>\n",
        "      <td> 100</td>\n",
        "    </tr>\n",
        "    <tr>\n",
        "      <th>4</th>\n",
        "      <td> Jonathan Rosenbaum</td>\n",
        "      <td> fresh</td>\n",
        "      <td> 114709</td>\n",
        "      <td> http://onfilm.chicagoreader.com/movies/capsule...</td>\n",
        "      <td> Chicago Reader</td>\n",
        "      <td> An entertaining computer-generated, hyperreali...</td>\n",
        "      <td> 2008-03-10 00:00:00</td>\n",
        "      <td> 9559</td>\n",
        "      <td> Toy Story</td>\n",
        "      <td> Toy Story \u00a0\\n1995\\nWalt Disney Pictures and Pi...</td>\n",
        "      <td> 100</td>\n",
        "    </tr>\n",
        "    <tr>\n",
        "      <th>5</th>\n",
        "      <td>      Michael Booth</td>\n",
        "      <td> fresh</td>\n",
        "      <td> 114709</td>\n",
        "      <td>       http://www.denverpost.com/movies/ci_5786068</td>\n",
        "      <td>    Denver Post</td>\n",
        "      <td> As Lion King did before it, Toy Story revived ...</td>\n",
        "      <td> 2007-05-03 00:00:00</td>\n",
        "      <td> 9559</td>\n",
        "      <td> Toy Story</td>\n",
        "      <td> \"Lightyear\" ahead of the rest\\nBy The Denver P...</td>\n",
        "      <td>  95</td>\n",
        "    </tr>\n",
        "  </tbody>\n",
        "</table>\n",
        "</div>"
       ],
       "metadata": {},
       "output_type": "pyout",
       "prompt_number": 35,
       "text": [
        "               critic  fresh    imdb                                               link     publication                                              quote          review_date  rtid      title                                            article  score\n",
        "0         Derek Adams  fresh  114709  http://www.timeout.com/film/reviews/87745/toy-...        Time Out  So ingenious in concept, design and execution ...  2009-10-04 00:00:00  9559  Toy Story  Time Out says\\nTue Sep 29 2009\\nDisney Pixar i...    100\n",
        "1     Richard Corliss  fresh  114709  http://www.time.com/time/magazine/article/0,91...   TIME Magazine                  The year's most inventive comedy.  2008-08-31 00:00:00  9559  Toy Story  Google+\\nCHARACTERS IN SO MANY LIVE-action mov...    100\n",
        "2         David Ansen  fresh  114709                  http://www.newsweek.com/id/104199        Newsweek  A winning animated feature that has something ...  2008-08-18 00:00:00  9559  Toy Story  Disney's Digital Delight\\nBy David Ansen / Nov...    100\n",
        "4  Jonathan Rosenbaum  fresh  114709  http://onfilm.chicagoreader.com/movies/capsule...  Chicago Reader  An entertaining computer-generated, hyperreali...  2008-03-10 00:00:00  9559  Toy Story  Toy Story \u00a0\\n1995\\nWalt Disney Pictures and Pi...    100\n",
        "5       Michael Booth  fresh  114709        http://www.denverpost.com/movies/ci_5786068     Denver Post  As Lion King did before it, Toy Story revived ...  2007-05-03 00:00:00  9559  Toy Story  \"Lightyear\" ahead of the rest\\nBy The Denver P...     95"
       ]
      }
     ],
     "prompt_number": 35
    },
    {
     "cell_type": "markdown",
     "metadata": {},
     "source": [
      "The last step in our data cleaning is to remove any extraneous markup in the original articles.  For example, many articles contain listings of the actors in the movie and other metadata.  Since we are only interested in analyzing the text that refers to the movie review, we should remove this data.\n",
      "\n",
      "We can use a sample article to see how we might approach this:"
     ]
    },
    {
     "cell_type": "code",
     "collapsed": false,
     "input": [
      "print cleaned_articles.irow(3)['article']"
     ],
     "language": "python",
     "metadata": {},
     "outputs": [
      {
       "output_type": "stream",
       "stream": "stdout",
       "text": [
        "Toy Story \u00a0\n",
        "1995\n",
        "Walt Disney Pictures and Pixar Animation Studios join forces on an entertaining computer-generated, hyperrealist animation feature (1995) that's also in effect a toy catalog. Given all the details in this G-rated picture about plucked-out eyes and severed limbs, the assumption appears to be that toy characters aren't \u201creal\u201d enough to be disturbing, though they certainly tend to be more lifelike here than the humans. (There's even a stirring climax when an assortment of mutilated and grafted-together mutant toys threaten to take revenge on the sadistic human boy who created them\u2014a moment recalling The Island of Dr. Moreau and Freaks.) The main toy characters here are a cowboy and a space cadet, though there's the usual Disney-style collection of secondary roles. The voices of some of the toys are delivered by Tom Hanks, Tim Allen, Don Rickles, Wallace Shawn, and Jim Varney; directed by John Lasseter from a screenplay by Joss Whedon, Andrew Stanton, Joel Cohen, and Alec Sokolow. 80 min. By Jonathan Rosenbaum\n",
        "Director: John Lasseter\n",
        "Writer: Andrew Stanton, John Lasseter, Peter Docter, Joe Ranft, Joss Whedon and Joel Cohen\n",
        "Producer: Ralph Guggenheim and Bonnie Arnold\n",
        "Cast: Tom Hanks, Tim Allen, Don Rickles, Annie Potts and John Ratzenberger\n",
        "Now Playing\n",
        "Sorry there are no upcoming showtimes for Toy Story\n",
        "Reviews/comments (0)\n",
        "\n"
       ]
      }
     ],
     "prompt_number": 37
    },
    {
     "cell_type": "markdown",
     "metadata": {},
     "source": [
      "We see in the article above that there are several lines that contain movie metadata.  What we are really interested is the largest paragraph in this text, which contains the actual review.  To remove the metadata, we can split the text by new-line to obtain \"chunks\".  We can then throw away any chunks with less than a certain number of words.  This will remove most of the metadata without throwing away useful information. "
     ]
    },
    {
     "cell_type": "code",
     "collapsed": false,
     "input": [
      "articles = []\n",
      "#for i in range(5):\n",
      "for i in range(len(cleaned_articles)):\n",
      "    try:\n",
      "        article = cleaned_articles.irow(i)['article']\n",
      "        chunks = article.split('\\n')\n",
      "        \n",
      "        text = []\n",
      "        for chunk in chunks:\n",
      "            words = chunk.split(' ')\n",
      "            if (len(words) > 20):\n",
      "                text.append(chunk)\n",
      "        \n",
      "        new_article = \" \".join(text)\n",
      "        articles.append(new_article)\n",
      "    except:\n",
      "        print \"Error at index: %d\" % i\n",
      "        articles.append('error')\n",
      "        \n",
      "article_df = pd.DataFrame(articles, columns=['new_article'], index=cleaned_articles.index)\n",
      "cleaned_articles2 = cleaned_articles.join(article_df)\n",
      "\n",
      "cleaned_articles2.head() "
     ],
     "language": "python",
     "metadata": {},
     "outputs": [
      {
       "html": [
        "<div style=\"max-height:1000px;max-width:1500px;overflow:auto;\">\n",
        "<table border=\"1\" class=\"dataframe\">\n",
        "  <thead>\n",
        "    <tr style=\"text-align: right;\">\n",
        "      <th></th>\n",
        "      <th>critic</th>\n",
        "      <th>fresh</th>\n",
        "      <th>imdb</th>\n",
        "      <th>link</th>\n",
        "      <th>publication</th>\n",
        "      <th>quote</th>\n",
        "      <th>review_date</th>\n",
        "      <th>rtid</th>\n",
        "      <th>title</th>\n",
        "      <th>article</th>\n",
        "      <th>score</th>\n",
        "      <th>new_article</th>\n",
        "    </tr>\n",
        "  </thead>\n",
        "  <tbody>\n",
        "    <tr>\n",
        "      <th>0</th>\n",
        "      <td>        Derek Adams</td>\n",
        "      <td> fresh</td>\n",
        "      <td> 114709</td>\n",
        "      <td> http://www.timeout.com/film/reviews/87745/toy-...</td>\n",
        "      <td>       Time Out</td>\n",
        "      <td> So ingenious in concept, design and execution ...</td>\n",
        "      <td> 2009-10-04 00:00:00</td>\n",
        "      <td> 9559</td>\n",
        "      <td> Toy Story</td>\n",
        "      <td> Time Out says\\nTue Sep 29 2009\\nDisney Pixar i...</td>\n",
        "      <td> 100</td>\n",
        "      <td> Disney Pixar is ramping up the publicity for \u2018...</td>\n",
        "    </tr>\n",
        "    <tr>\n",
        "      <th>1</th>\n",
        "      <td>    Richard Corliss</td>\n",
        "      <td> fresh</td>\n",
        "      <td> 114709</td>\n",
        "      <td> http://www.time.com/time/magazine/article/0,91...</td>\n",
        "      <td>  TIME Magazine</td>\n",
        "      <td>                 The year's most inventive comedy.</td>\n",
        "      <td> 2008-08-31 00:00:00</td>\n",
        "      <td> 9559</td>\n",
        "      <td> Toy Story</td>\n",
        "      <td> Google+\\nCHARACTERS IN SO MANY LIVE-action mov...</td>\n",
        "      <td> 100</td>\n",
        "      <td> CHARACTERS IN SO MANY LIVE-action movies these...</td>\n",
        "    </tr>\n",
        "    <tr>\n",
        "      <th>2</th>\n",
        "      <td>        David Ansen</td>\n",
        "      <td> fresh</td>\n",
        "      <td> 114709</td>\n",
        "      <td>                 http://www.newsweek.com/id/104199</td>\n",
        "      <td>       Newsweek</td>\n",
        "      <td> A winning animated feature that has something ...</td>\n",
        "      <td> 2008-08-18 00:00:00</td>\n",
        "      <td> 9559</td>\n",
        "      <td> Toy Story</td>\n",
        "      <td> Disney's Digital Delight\\nBy David Ansen / Nov...</td>\n",
        "      <td> 100</td>\n",
        "      <td> \"Toy Story\" is an eye-opener, and not just bec...</td>\n",
        "    </tr>\n",
        "    <tr>\n",
        "      <th>4</th>\n",
        "      <td> Jonathan Rosenbaum</td>\n",
        "      <td> fresh</td>\n",
        "      <td> 114709</td>\n",
        "      <td> http://onfilm.chicagoreader.com/movies/capsule...</td>\n",
        "      <td> Chicago Reader</td>\n",
        "      <td> An entertaining computer-generated, hyperreali...</td>\n",
        "      <td> 2008-03-10 00:00:00</td>\n",
        "      <td> 9559</td>\n",
        "      <td> Toy Story</td>\n",
        "      <td> Toy Story \u00a0\\n1995\\nWalt Disney Pictures and Pi...</td>\n",
        "      <td> 100</td>\n",
        "      <td> Walt Disney Pictures and Pixar Animation Studi...</td>\n",
        "    </tr>\n",
        "    <tr>\n",
        "      <th>5</th>\n",
        "      <td>      Michael Booth</td>\n",
        "      <td> fresh</td>\n",
        "      <td> 114709</td>\n",
        "      <td>       http://www.denverpost.com/movies/ci_5786068</td>\n",
        "      <td>    Denver Post</td>\n",
        "      <td> As Lion King did before it, Toy Story revived ...</td>\n",
        "      <td> 2007-05-03 00:00:00</td>\n",
        "      <td> 9559</td>\n",
        "      <td> Toy Story</td>\n",
        "      <td> \"Lightyear\" ahead of the rest\\nBy The Denver P...</td>\n",
        "      <td>  95</td>\n",
        "      <td> \"Toy Story\" was the first full-length children...</td>\n",
        "    </tr>\n",
        "  </tbody>\n",
        "</table>\n",
        "</div>"
       ],
       "metadata": {},
       "output_type": "pyout",
       "prompt_number": 46,
       "text": [
        "               critic  fresh    imdb                                               link     publication                                              quote          review_date  rtid      title                                            article  score                                        new_article\n",
        "0         Derek Adams  fresh  114709  http://www.timeout.com/film/reviews/87745/toy-...        Time Out  So ingenious in concept, design and execution ...  2009-10-04 00:00:00  9559  Toy Story  Time Out says\\nTue Sep 29 2009\\nDisney Pixar i...    100  Disney Pixar is ramping up the publicity for \u2018...\n",
        "1     Richard Corliss  fresh  114709  http://www.time.com/time/magazine/article/0,91...   TIME Magazine                  The year's most inventive comedy.  2008-08-31 00:00:00  9559  Toy Story  Google+\\nCHARACTERS IN SO MANY LIVE-action mov...    100  CHARACTERS IN SO MANY LIVE-action movies these...\n",
        "2         David Ansen  fresh  114709                  http://www.newsweek.com/id/104199        Newsweek  A winning animated feature that has something ...  2008-08-18 00:00:00  9559  Toy Story  Disney's Digital Delight\\nBy David Ansen / Nov...    100  \"Toy Story\" is an eye-opener, and not just bec...\n",
        "4  Jonathan Rosenbaum  fresh  114709  http://onfilm.chicagoreader.com/movies/capsule...  Chicago Reader  An entertaining computer-generated, hyperreali...  2008-03-10 00:00:00  9559  Toy Story  Toy Story \u00a0\\n1995\\nWalt Disney Pictures and Pi...    100  Walt Disney Pictures and Pixar Animation Studi...\n",
        "5       Michael Booth  fresh  114709        http://www.denverpost.com/movies/ci_5786068     Denver Post  As Lion King did before it, Toy Story revived ...  2007-05-03 00:00:00  9559  Toy Story  \"Lightyear\" ahead of the rest\\nBy The Denver P...     95  \"Toy Story\" was the first full-length children..."
       ]
      }
     ],
     "prompt_number": 46
    },
    {
     "cell_type": "code",
     "collapsed": false,
     "input": [
      "print 'Before:'\n",
      "print\n",
      "print cleaned_articles2.irow(3)['article']\n",
      "print\n",
      "print 'After:'\n",
      "print\n",
      "print cleaned_articles2.irow(3)['new_article']"
     ],
     "language": "python",
     "metadata": {},
     "outputs": [
      {
       "output_type": "stream",
       "stream": "stdout",
       "text": [
        "Before:\n",
        "\n",
        "Toy Story \u00a0\n",
        "1995\n",
        "Walt Disney Pictures and Pixar Animation Studios join forces on an entertaining computer-generated, hyperrealist animation feature (1995) that's also in effect a toy catalog. Given all the details in this G-rated picture about plucked-out eyes and severed limbs, the assumption appears to be that toy characters aren't \u201creal\u201d enough to be disturbing, though they certainly tend to be more lifelike here than the humans. (There's even a stirring climax when an assortment of mutilated and grafted-together mutant toys threaten to take revenge on the sadistic human boy who created them\u2014a moment recalling The Island of Dr. Moreau and Freaks.) The main toy characters here are a cowboy and a space cadet, though there's the usual Disney-style collection of secondary roles. The voices of some of the toys are delivered by Tom Hanks, Tim Allen, Don Rickles, Wallace Shawn, and Jim Varney; directed by John Lasseter from a screenplay by Joss Whedon, Andrew Stanton, Joel Cohen, and Alec Sokolow. 80 min. By Jonathan Rosenbaum\n",
        "Director: John Lasseter\n",
        "Writer: Andrew Stanton, John Lasseter, Peter Docter, Joe Ranft, Joss Whedon and Joel Cohen\n",
        "Producer: Ralph Guggenheim and Bonnie Arnold\n",
        "Cast: Tom Hanks, Tim Allen, Don Rickles, Annie Potts and John Ratzenberger\n",
        "Now Playing\n",
        "Sorry there are no upcoming showtimes for Toy Story\n",
        "Reviews/comments (0)\n",
        "\n",
        "\n",
        "After:\n",
        "\n",
        "Walt Disney Pictures and Pixar Animation Studios join forces on an entertaining computer-generated, hyperrealist animation feature (1995) that's also in effect a toy catalog. Given all the details in this G-rated picture about plucked-out eyes and severed limbs, the assumption appears to be that toy characters aren't \u201creal\u201d enough to be disturbing, though they certainly tend to be more lifelike here than the humans. (There's even a stirring climax when an assortment of mutilated and grafted-together mutant toys threaten to take revenge on the sadistic human boy who created them\u2014a moment recalling The Island of Dr. Moreau and Freaks.) The main toy characters here are a cowboy and a space cadet, though there's the usual Disney-style collection of secondary roles. The voices of some of the toys are delivered by Tom Hanks, Tim Allen, Don Rickles, Wallace Shawn, and Jim Varney; directed by John Lasseter from a screenplay by Joss Whedon, Andrew Stanton, Joel Cohen, and Alec Sokolow. 80 min. By Jonathan Rosenbaum\n"
       ]
      }
     ],
     "prompt_number": 49
    },
    {
     "cell_type": "markdown",
     "metadata": {},
     "source": [
      "Let's write out our dataframe to a CSV file:"
     ]
    },
    {
     "cell_type": "code",
     "collapsed": false,
     "input": [
      "cleaned_articles2.to_csv('cleaned_articles.csv', index=False, encoding='utf-8')"
     ],
     "language": "python",
     "metadata": {},
     "outputs": [],
     "prompt_number": 50
    },
    {
     "cell_type": "heading",
     "level": 1,
     "metadata": {},
     "source": [
      "4. Summarization using Luhn's Algorithm"
     ]
    },
    {
     "cell_type": "markdown",
     "metadata": {},
     "source": [
      "The lion's share of movie review \"snippets\" that appear on a Rotten Tomatoes movie page have been composed by the Rotten Tomatoes editorial team (though a minority are submitted by the critics themselves). The blurbs written by the team, typically ranging from 1-3 sentences in length, aim to encapsulate the tone of the review and may include both direct and paraphrased quotes from the critic's original piece. The typical movie featured on Rotten Tomatoes contains over 200 reviews, making the quote selection process both time and labor intensive. Clearly, an automated process could potentially achieve substantial time gains -- if the summaries produced were accurate enough.\n",
      "\n",
      "To explore this idea, we implemented Luhn's document summarization algorithm. The basic idea underlying Luhn's algorithm is that the most meaningful sentences in a document are those than contain frequently occurring words. To implemented Luhn's algorithm effectively, one must first filter out stopwords (i.e., words like have, and, the), which are frequently occurring but not meaningful. One can also introduce domain-specific stopwords. \n",
      "\n",
      "The algorithm has three parameters that can be adjusted:\n",
      "N = the number of words from the document to consider. The algorithm is based off of the idea that the top N words are descriptive enough to encapsulate the nature of the document.\n",
      "\n",
      "Cluster threshold = the distance between words to consider\n",
      "\n",
      "Top sentences = the number of sentences to return as a summary of the document"
     ]
    },
    {
     "cell_type": "code",
     "collapsed": false,
     "input": [
      "cleaned_articles = pd.read_csv('cleaned_articles.csv')"
     ],
     "language": "python",
     "metadata": {},
     "outputs": [],
     "prompt_number": 51
    },
    {
     "cell_type": "markdown",
     "metadata": {},
     "source": [
      "The following code is taken from *Mining the Social Web, 2nd Edition*.  The book can be found here: http://www.amazon.com/Mining-Social-Web-Facebook-LinkedIn/dp/1449367615.  The code has been modified for use in our application."
     ]
    },
    {
     "cell_type": "code",
     "collapsed": false,
     "input": [
      "N = 25  # Number of words to consider\n",
      "CLUSTER_THRESHOLD = 5  # Distance between words to consider\n",
      "TOP_SENTENCES = 3  # Number of sentences to return for a \"top n\" summary"
     ],
     "language": "python",
     "metadata": {},
     "outputs": [],
     "prompt_number": 52
    },
    {
     "cell_type": "code",
     "collapsed": false,
     "input": [
      "# Taken from Mining the Social Web, 2nd Edition\n",
      "# By Matthew A Russell\n",
      "\n",
      "def _score_sentences(sentences, important_words):\n",
      "    scores = []\n",
      "    sentence_idx = -1\n",
      "\n",
      "    for s in [nltk.tokenize.word_tokenize(s) for s in sentences]:\n",
      "\n",
      "        sentence_idx += 1\n",
      "        word_idx = []\n",
      "\n",
      "        # For each word in the word list...\n",
      "        for w in important_words:\n",
      "            try:\n",
      "                # Compute an index for where any important words occur in the sentence.\n",
      "\n",
      "                word_idx.append(s.index(w))\n",
      "            except ValueError, e: # w not in this particular sentence\n",
      "                pass\n",
      "\n",
      "        word_idx.sort()\n",
      "\n",
      "        # It is possible that some sentences may not contain any important words at all.\n",
      "        if len(word_idx)== 0: continue\n",
      "\n",
      "        # Using the word index, compute clusters by using a max distance threshold\n",
      "        # for any two consecutive words.\n",
      "\n",
      "        clusters = []\n",
      "        cluster = [word_idx[0]]\n",
      "        i = 1\n",
      "        while i < len(word_idx):\n",
      "            if word_idx[i] - word_idx[i - 1] < CLUSTER_THRESHOLD:\n",
      "                cluster.append(word_idx[i])\n",
      "            else:\n",
      "                clusters.append(cluster[:])\n",
      "                cluster = [word_idx[i]]\n",
      "            i += 1\n",
      "        clusters.append(cluster)\n",
      "\n",
      "        # Score each cluster. The max score for any given cluster is the score \n",
      "        # for the sentence.\n",
      "\n",
      "        max_cluster_score = 0\n",
      "        for c in clusters:\n",
      "            significant_words_in_cluster = len(c)\n",
      "            total_words_in_cluster = c[-1] - c[0] + 1\n",
      "            score = 1.0 * significant_words_in_cluster \\\n",
      "                * significant_words_in_cluster / total_words_in_cluster\n",
      "\n",
      "            if score > max_cluster_score:\n",
      "                max_cluster_score = score\n",
      "\n",
      "        scores.append((sentence_idx, score))\n",
      "\n",
      "    return scores\n",
      "\n",
      "def summarize(txt):\n",
      "    sentences = [s for s in nltk.tokenize.sent_tokenize(txt)]\n",
      "    normalized_sentences = [s.lower() for s in sentences]\n",
      "\n",
      "    words = [w.lower() for sentence in normalized_sentences for w in\n",
      "             nltk.tokenize.word_tokenize(sentence)]\n",
      "\n",
      "    fdist = nltk.FreqDist(words)\n",
      "\n",
      "    top_n_words = [w[0] for w in fdist.items() \n",
      "            if w[0] not in stop_words][:N]\n",
      "    \n",
      "    scored_sentences = _score_sentences(normalized_sentences, top_n_words)\n",
      "\n",
      "    # Summarization Approach 1:\n",
      "    # Filter out nonsignificant sentences by using the average score plus a\n",
      "    # fraction of the std dev as a filter\n",
      "\n",
      "    avg = np.mean([s[1] for s in scored_sentences])\n",
      "    std = np.std([s[1] for s in scored_sentences])\n",
      "    mean_scored = [(sent_idx, score) for (sent_idx, score) in scored_sentences\n",
      "                   if score > avg + 0.5 * std]\n",
      "\n",
      "    # Summarization Approach 2:\n",
      "    # Another approach would be to return only the top N ranked sentences\n",
      "\n",
      "    top_n_scored = sorted(scored_sentences, key=lambda s: s[1])[-TOP_SENTENCES:]\n",
      "    top_n_scored = sorted(top_n_scored, key=lambda s: s[0])\n",
      "\n",
      "    # Decorate the post object with summaries\n",
      "\n",
      "    return dict(top_n_summary=[sentences[idx] for (idx, score) in top_n_scored],\n",
      "                mean_scored_summary=[sentences[idx] for (idx, score) in mean_scored])"
     ],
     "language": "python",
     "metadata": {},
     "outputs": [],
     "prompt_number": 53
    },
    {
     "cell_type": "markdown",
     "metadata": {},
     "source": [
      "Let's try Luhn's algorithm on a specific review article:"
     ]
    },
    {
     "cell_type": "code",
     "collapsed": false,
     "input": [
      "i = 0\n",
      "    \n",
      "print 'Original Article'\n",
      "print\n",
      "print cleaned_articles.irow(i)['article']\n",
      "print\n",
      "print 'Rotten Tomatoes Quote'\n",
      "print\n",
      "print cleaned_articles.irow(i)['quote']\n",
      "print\n",
      "print 'Our Summary'\n",
      "print\n",
      "result = summarize(cleaned_articles.irow(i)['new_article'].decode('utf8'))\n",
      "print \"\\n\".join(result['top_n_summary'])"
     ],
     "language": "python",
     "metadata": {},
     "outputs": [
      {
       "output_type": "stream",
       "stream": "stdout",
       "text": [
        "Original Article\n",
        "\n",
        "Time Out says\n",
        "Tue Sep 29 2009\n",
        "Disney Pixar is ramping up the publicity for \u2018Toy Story 3\u2019 (due next July) by rereleasing its two earlier incarnations in \u2018Disney Digital 3D\u2019. \u2018Toy Story 2 in 3D\u2019 launches next January, but before that we have its seminal stablemate, and on the evidence of a recent viewing, John Lasseter \u2019s film hasn\u2019t aged at all. It\u2019s so ingenious in concept, design and execution that you could watch it on a postage stamp-sized screen and still be engulfed by its charm. That said, there\u2019s no denying that 3D has enhanced the experience threefold in the way it lifts the print off the screen and plonks it on the viewer\u2019s lap. And because it was never made with a third dimension in mind, there\u2019s no over-egging of the effects. When Lasseter\u2019s first computer-generated foray was released back in 1995, it broke boundaries; seeing it nearly 15 years on only highlights its enduring ability to seduce all generations with its wit and spirit. Roll on, Woody!\n",
        "Author: Derek Adams\n",
        "\n",
        "\n",
        "Rotten Tomatoes Quote\n",
        "\n",
        "So ingenious in concept, design and execution that you could watch it on a postage stamp-sized screen and still be engulfed by its charm.\n",
        "\n",
        "Our Summary\n",
        "\n",
        "Disney Pixar is ramping up the publicity for \u2018Toy Story 3\u2019 (due next July) by rereleasing its two earlier incarnations in \u2018Disney Digital 3D\u2019.\n",
        "When Lasseter\u2019s first computer-generated foray was released back in 1995, it broke boundaries; seeing it nearly 15 years on only highlights its enduring ability to seduce all generations with its wit and spirit.\n",
        "Roll on, Woody!\n"
       ]
      }
     ],
     "prompt_number": 57
    },
    {
     "cell_type": "markdown",
     "metadata": {},
     "source": [
      "Let's go ahead and summarize all our articles."
     ]
    },
    {
     "cell_type": "code",
     "collapsed": false,
     "input": [
      "# summarize each article\n",
      "\n",
      "# get the match score for each article\n",
      "summaries = []\n",
      "for i in range(len(cleaned_articles)):\n",
      "    try:\n",
      "        article = cleaned_articles.irow(i)['new_article']\n",
      "        result = summarize(article.decode('utf8'))\n",
      "        summaries.append(\"\\n\".join(result['top_n_summary']))\n",
      "    except:\n",
      "        print \"Error at index: %d\" % i\n",
      "        summaries.append('error')\n",
      "        \n",
      "summary_df = pd.DataFrame(summaries, columns=['summary'], index=cleaned_articles.index)\n",
      "summarized_articles = cleaned_articles.join(summary_df)\n",
      "\n",
      "print \"# of Articles Summarized: %d\" % len(summaries)\n",
      "summarized_articles.head()"
     ],
     "language": "python",
     "metadata": {},
     "outputs": [
      {
       "output_type": "stream",
       "stream": "stdout",
       "text": [
        "Error at index: 6330\n",
        "# of Articles Summarized: 8098"
       ]
      },
      {
       "output_type": "stream",
       "stream": "stdout",
       "text": [
        "\n"
       ]
      },
      {
       "html": [
        "<div style=\"max-height:1000px;max-width:1500px;overflow:auto;\">\n",
        "<table border=\"1\" class=\"dataframe\">\n",
        "  <thead>\n",
        "    <tr style=\"text-align: right;\">\n",
        "      <th></th>\n",
        "      <th>critic</th>\n",
        "      <th>fresh</th>\n",
        "      <th>imdb</th>\n",
        "      <th>link</th>\n",
        "      <th>publication</th>\n",
        "      <th>quote</th>\n",
        "      <th>review_date</th>\n",
        "      <th>rtid</th>\n",
        "      <th>title</th>\n",
        "      <th>article</th>\n",
        "      <th>score</th>\n",
        "      <th>new_article</th>\n",
        "      <th>summary</th>\n",
        "    </tr>\n",
        "  </thead>\n",
        "  <tbody>\n",
        "    <tr>\n",
        "      <th>0</th>\n",
        "      <td>        Derek Adams</td>\n",
        "      <td> fresh</td>\n",
        "      <td> 114709</td>\n",
        "      <td> http://www.timeout.com/film/reviews/87745/toy-...</td>\n",
        "      <td>       Time Out</td>\n",
        "      <td> So ingenious in concept, design and execution ...</td>\n",
        "      <td> 2009-10-04 00:00:00</td>\n",
        "      <td> 9559</td>\n",
        "      <td> Toy Story</td>\n",
        "      <td> Time Out says\\nTue Sep 29 2009\\nDisney Pixar i...</td>\n",
        "      <td> 100</td>\n",
        "      <td> Disney Pixar is ramping up the publicity for \u2018...</td>\n",
        "      <td> Disney Pixar is ramping up the publicity for \u2018...</td>\n",
        "    </tr>\n",
        "    <tr>\n",
        "      <th>1</th>\n",
        "      <td>    Richard Corliss</td>\n",
        "      <td> fresh</td>\n",
        "      <td> 114709</td>\n",
        "      <td> http://www.time.com/time/magazine/article/0,91...</td>\n",
        "      <td>  TIME Magazine</td>\n",
        "      <td>                 The year's most inventive comedy.</td>\n",
        "      <td> 2008-08-31 00:00:00</td>\n",
        "      <td> 9559</td>\n",
        "      <td> Toy Story</td>\n",
        "      <td> Google+\\nCHARACTERS IN SO MANY LIVE-action mov...</td>\n",
        "      <td> 100</td>\n",
        "      <td> CHARACTERS IN SO MANY LIVE-action movies these...</td>\n",
        "      <td> So where to turn for original characters with ...</td>\n",
        "    </tr>\n",
        "    <tr>\n",
        "      <th>2</th>\n",
        "      <td>        David Ansen</td>\n",
        "      <td> fresh</td>\n",
        "      <td> 114709</td>\n",
        "      <td>                 http://www.newsweek.com/id/104199</td>\n",
        "      <td>       Newsweek</td>\n",
        "      <td> A winning animated feature that has something ...</td>\n",
        "      <td> 2008-08-18 00:00:00</td>\n",
        "      <td> 9559</td>\n",
        "      <td> Toy Story</td>\n",
        "      <td> Disney's Digital Delight\\nBy David Ansen / Nov...</td>\n",
        "      <td> 100</td>\n",
        "      <td> \"Toy Story\" is an eye-opener, and not just bec...</td>\n",
        "      <td> Potato Head can't keep his nose in place (he's...</td>\n",
        "    </tr>\n",
        "    <tr>\n",
        "      <th>3</th>\n",
        "      <td> Jonathan Rosenbaum</td>\n",
        "      <td> fresh</td>\n",
        "      <td> 114709</td>\n",
        "      <td> http://onfilm.chicagoreader.com/movies/capsule...</td>\n",
        "      <td> Chicago Reader</td>\n",
        "      <td> An entertaining computer-generated, hyperreali...</td>\n",
        "      <td> 2008-03-10 00:00:00</td>\n",
        "      <td> 9559</td>\n",
        "      <td> Toy Story</td>\n",
        "      <td> Toy Story \u00a0\\n1995\\nWalt Disney Pictures and Pi...</td>\n",
        "      <td> 100</td>\n",
        "      <td> Walt Disney Pictures and Pixar Animation Studi...</td>\n",
        "      <td> Walt Disney Pictures and Pixar Animation Studi...</td>\n",
        "    </tr>\n",
        "    <tr>\n",
        "      <th>4</th>\n",
        "      <td>      Michael Booth</td>\n",
        "      <td> fresh</td>\n",
        "      <td> 114709</td>\n",
        "      <td>       http://www.denverpost.com/movies/ci_5786068</td>\n",
        "      <td>    Denver Post</td>\n",
        "      <td> As Lion King did before it, Toy Story revived ...</td>\n",
        "      <td> 2007-05-03 00:00:00</td>\n",
        "      <td> 9559</td>\n",
        "      <td> Toy Story</td>\n",
        "      <td> \"Lightyear\" ahead of the rest\\nBy The Denver P...</td>\n",
        "      <td>  95</td>\n",
        "      <td> \"Toy Story\" was the first full-length children...</td>\n",
        "      <td> The first computer-generated hit movie set a h...</td>\n",
        "    </tr>\n",
        "  </tbody>\n",
        "</table>\n",
        "</div>"
       ],
       "metadata": {},
       "output_type": "pyout",
       "prompt_number": 58,
       "text": [
        "               critic  fresh    imdb                                               link     publication                                              quote          review_date  rtid      title                                            article  score                                        new_article                                            summary\n",
        "0         Derek Adams  fresh  114709  http://www.timeout.com/film/reviews/87745/toy-...        Time Out  So ingenious in concept, design and execution ...  2009-10-04 00:00:00  9559  Toy Story  Time Out says\\nTue Sep 29 2009\\nDisney Pixar i...    100  Disney Pixar is ramping up the publicity for \u2018...  Disney Pixar is ramping up the publicity for \u2018...\n",
        "1     Richard Corliss  fresh  114709  http://www.time.com/time/magazine/article/0,91...   TIME Magazine                  The year's most inventive comedy.  2008-08-31 00:00:00  9559  Toy Story  Google+\\nCHARACTERS IN SO MANY LIVE-action mov...    100  CHARACTERS IN SO MANY LIVE-action movies these...  So where to turn for original characters with ...\n",
        "2         David Ansen  fresh  114709                  http://www.newsweek.com/id/104199        Newsweek  A winning animated feature that has something ...  2008-08-18 00:00:00  9559  Toy Story  Disney's Digital Delight\\nBy David Ansen / Nov...    100  \"Toy Story\" is an eye-opener, and not just bec...  Potato Head can't keep his nose in place (he's...\n",
        "3  Jonathan Rosenbaum  fresh  114709  http://onfilm.chicagoreader.com/movies/capsule...  Chicago Reader  An entertaining computer-generated, hyperreali...  2008-03-10 00:00:00  9559  Toy Story  Toy Story \u00a0\\n1995\\nWalt Disney Pictures and Pi...    100  Walt Disney Pictures and Pixar Animation Studi...  Walt Disney Pictures and Pixar Animation Studi...\n",
        "4       Michael Booth  fresh  114709        http://www.denverpost.com/movies/ci_5786068     Denver Post  As Lion King did before it, Toy Story revived ...  2007-05-03 00:00:00  9559  Toy Story  \"Lightyear\" ahead of the rest\\nBy The Denver P...     95  \"Toy Story\" was the first full-length children...  The first computer-generated hit movie set a h..."
       ]
      }
     ],
     "prompt_number": 58
    },
    {
     "cell_type": "code",
     "collapsed": false,
     "input": [
      "summarized_articles = summarized_articles[summarized_articles['summary'] != 'error']\n",
      "print len(summarized_articles)"
     ],
     "language": "python",
     "metadata": {},
     "outputs": [
      {
       "output_type": "stream",
       "stream": "stdout",
       "text": [
        "8097\n"
       ]
      }
     ],
     "prompt_number": 64
    },
    {
     "cell_type": "markdown",
     "metadata": {},
     "source": [
      "Let's write out our summarization dataframe to a file:"
     ]
    },
    {
     "cell_type": "code",
     "collapsed": false,
     "input": [
      "summarized_articles.to_csv('summarized_articles.csv', index=False, encoding='utf-8')"
     ],
     "language": "python",
     "metadata": {},
     "outputs": [],
     "prompt_number": 65
    },
    {
     "cell_type": "heading",
     "level": 1,
     "metadata": {},
     "source": [
      "5. Baseline Analysis"
     ]
    },
    {
     "cell_type": "markdown",
     "metadata": {},
     "source": [
      "Now we will do a baseline analysis to see how well the Rotten Tomatoes quotes, the full articles, and our new summaries do in predicting the freshness of a movie.  We start by extracting the data we need from our summarized_articles dataframe."
     ]
    },
    {
     "cell_type": "code",
     "collapsed": false,
     "input": [
      "summarized_articles = pd.read_csv('summarized_articles.csv')"
     ],
     "language": "python",
     "metadata": {},
     "outputs": [],
     "prompt_number": 66
    },
    {
     "cell_type": "code",
     "collapsed": false,
     "input": [
      "# create a new dataframe with the data we need\n",
      "critics = summarized_articles[['quote', 'article', 'new_article', 'summary', 'fresh']]\n",
      "critics.head()"
     ],
     "language": "python",
     "metadata": {},
     "outputs": [
      {
       "html": [
        "<div style=\"max-height:1000px;max-width:1500px;overflow:auto;\">\n",
        "<table border=\"1\" class=\"dataframe\">\n",
        "  <thead>\n",
        "    <tr style=\"text-align: right;\">\n",
        "      <th></th>\n",
        "      <th>quote</th>\n",
        "      <th>article</th>\n",
        "      <th>new_article</th>\n",
        "      <th>summary</th>\n",
        "      <th>fresh</th>\n",
        "    </tr>\n",
        "  </thead>\n",
        "  <tbody>\n",
        "    <tr>\n",
        "      <th>0</th>\n",
        "      <td> So ingenious in concept, design and execution ...</td>\n",
        "      <td> Time Out says\\nTue Sep 29 2009\\nDisney Pixar i...</td>\n",
        "      <td> Disney Pixar is ramping up the publicity for \u2018...</td>\n",
        "      <td> Disney Pixar is ramping up the publicity for \u2018...</td>\n",
        "      <td> fresh</td>\n",
        "    </tr>\n",
        "    <tr>\n",
        "      <th>1</th>\n",
        "      <td>                 The year's most inventive comedy.</td>\n",
        "      <td> Google+\\nCHARACTERS IN SO MANY LIVE-action mov...</td>\n",
        "      <td> CHARACTERS IN SO MANY LIVE-action movies these...</td>\n",
        "      <td> So where to turn for original characters with ...</td>\n",
        "      <td> fresh</td>\n",
        "    </tr>\n",
        "    <tr>\n",
        "      <th>2</th>\n",
        "      <td> A winning animated feature that has something ...</td>\n",
        "      <td> Disney's Digital Delight\\nBy David Ansen / Nov...</td>\n",
        "      <td> \"Toy Story\" is an eye-opener, and not just bec...</td>\n",
        "      <td> Potato Head can't keep his nose in place (he's...</td>\n",
        "      <td> fresh</td>\n",
        "    </tr>\n",
        "    <tr>\n",
        "      <th>3</th>\n",
        "      <td> An entertaining computer-generated, hyperreali...</td>\n",
        "      <td> Toy Story \u00a0\\n1995\\nWalt Disney Pictures and Pi...</td>\n",
        "      <td> Walt Disney Pictures and Pixar Animation Studi...</td>\n",
        "      <td> Walt Disney Pictures and Pixar Animation Studi...</td>\n",
        "      <td> fresh</td>\n",
        "    </tr>\n",
        "    <tr>\n",
        "      <th>4</th>\n",
        "      <td> As Lion King did before it, Toy Story revived ...</td>\n",
        "      <td> \"Lightyear\" ahead of the rest\\nBy The Denver P...</td>\n",
        "      <td> \"Toy Story\" was the first full-length children...</td>\n",
        "      <td> The first computer-generated hit movie set a h...</td>\n",
        "      <td> fresh</td>\n",
        "    </tr>\n",
        "  </tbody>\n",
        "</table>\n",
        "</div>"
       ],
       "metadata": {},
       "output_type": "pyout",
       "prompt_number": 67,
       "text": [
        "                                               quote                                            article                                        new_article                                            summary  fresh\n",
        "0  So ingenious in concept, design and execution ...  Time Out says\\nTue Sep 29 2009\\nDisney Pixar i...  Disney Pixar is ramping up the publicity for \u2018...  Disney Pixar is ramping up the publicity for \u2018...  fresh\n",
        "1                  The year's most inventive comedy.  Google+\\nCHARACTERS IN SO MANY LIVE-action mov...  CHARACTERS IN SO MANY LIVE-action movies these...  So where to turn for original characters with ...  fresh\n",
        "2  A winning animated feature that has something ...  Disney's Digital Delight\\nBy David Ansen / Nov...  \"Toy Story\" is an eye-opener, and not just bec...  Potato Head can't keep his nose in place (he's...  fresh\n",
        "3  An entertaining computer-generated, hyperreali...  Toy Story \u00a0\\n1995\\nWalt Disney Pictures and Pi...  Walt Disney Pictures and Pixar Animation Studi...  Walt Disney Pictures and Pixar Animation Studi...  fresh\n",
        "4  As Lion King did before it, Toy Story revived ...  \"Lightyear\" ahead of the rest\\nBy The Denver P...  \"Toy Story\" was the first full-length children...  The first computer-generated hit movie set a h...  fresh"
       ]
      }
     ],
     "prompt_number": 67
    },
    {
     "cell_type": "markdown",
     "metadata": {},
     "source": [
      "We will then use the following function to create a bag of words, create train/test split, and see how well our classifier does at predicting freshness with the 3 different types of data."
     ]
    },
    {
     "cell_type": "code",
     "collapsed": false,
     "input": [
      "from sklearn.feature_extraction.text import CountVectorizer\n",
      "from sklearn.cross_validation import train_test_split\n",
      "from sklearn.naive_bayes import MultinomialNB\n",
      "\n",
      "def make_xy(critics, col, vectorizer=None):\n",
      "    if vectorizer is None:\n",
      "        vectorizer = CountVectorizer(min_df=0)\n",
      "    \n",
      "    text = critics[col]\n",
      "    \n",
      "    vectorizer.fit(text)\n",
      "    X = vectorizer.transform(text)\n",
      "    X = X.tocsc()\n",
      "    Y = np.where(critics.fresh == 'fresh',1,0)\n",
      "    Y = np.array(Y)\n",
      "    return (X,Y)"
     ],
     "language": "python",
     "metadata": {},
     "outputs": [],
     "prompt_number": 68
    },
    {
     "cell_type": "code",
     "collapsed": false,
     "input": [
      "from sklearn.cross_validation import train_test_split\n",
      "\n",
      "def analyze_data(X,Y):\n",
      "    X_train, X_test, Y_train, Y_test = train_test_split(X, Y,  random_state=42)\n",
      "    clf = MultinomialNB()\n",
      "    clf.fit(X_train, Y_train)\n",
      "    print 'Training Score: %.3f' % clf.score(X_train, Y_train)  \n",
      "    print 'Test Score: %.3f' % clf.score(X_test, Y_test)  \n",
      "    \n",
      "def output_analysis(df):\n",
      "    print \"Analysis\"\n",
      "    print \"--------\"\n",
      "    print\n",
      "    print \"Rotten Tomatoes Quote:\"\n",
      "    X, Y = make_xy(df, 'quote')\n",
      "    analyze_data(X,Y)\n",
      "    print\n",
      "    print \"Full Article:\"\n",
      "    X, Y = make_xy(df, 'new_article')\n",
      "    analyze_data(X,Y)\n",
      "    print\n",
      "    print \"Our Summary:\"\n",
      "    X, Y = make_xy(df, 'summary')\n",
      "    analyze_data(X,Y)"
     ],
     "language": "python",
     "metadata": {},
     "outputs": [],
     "prompt_number": 251
    },
    {
     "cell_type": "code",
     "collapsed": false,
     "input": [
      "output_analysis(critics)"
     ],
     "language": "python",
     "metadata": {},
     "outputs": [
      {
       "output_type": "stream",
       "stream": "stdout",
       "text": [
        "Analysis\n",
        "--------\n",
        "\n",
        "Rotten Tomatoes Quote:\n",
        "Training Score: 0.936"
       ]
      },
      {
       "output_type": "stream",
       "stream": "stdout",
       "text": [
        "\n",
        "Test Score: 0.772\n",
        "\n",
        "Full Article:\n",
        "Training Score: 0.921"
       ]
      },
      {
       "output_type": "stream",
       "stream": "stdout",
       "text": [
        "\n",
        "Test Score: 0.744\n",
        "\n",
        "Our Summary:\n",
        "Training Score: 0.949"
       ]
      },
      {
       "output_type": "stream",
       "stream": "stdout",
       "text": [
        "\n",
        "Test Score: 0.698\n"
       ]
      }
     ],
     "prompt_number": 252
    },
    {
     "cell_type": "heading",
     "level": 1,
     "metadata": {},
     "source": [
      "6. Improving our Summarizations"
     ]
    },
    {
     "cell_type": "markdown",
     "metadata": {},
     "source": [
      "We see from our base-line analysis that the full article does about just as well at predicting freshness vs. the manually generated Rotten Tomatoes quote.  However, our summary performs the worst.  Let's try different parameters in our summarization algorithm to see if we can create better summaries.\n",
      "\n",
      "First, let's look at manually varying some parameters in the Luhn's Algorithm and note the difference in the summaries we create.  Let's use one article as an example:\n",
      "\n"
     ]
    },
    {
     "cell_type": "code",
     "collapsed": false,
     "input": [
      "i = 200\n",
      "\n",
      "\n",
      "print 'Original Article'\n",
      "print\n",
      "print critics.irow(i)['article']\n",
      "print\n",
      "print 'Rotten Tomatoes Quote'\n",
      "print\n",
      "print critics.irow(i)['quote']\n",
      "print\n",
      "print 'Original Summary (25,5,3)'\n",
      "print\n",
      "print critics.irow(i)['summary']\n",
      "print\n",
      "print 'New Summary (100,5,3)'\n",
      "N = 100\n",
      "CLUSTER_THRESHOLD = 5\n",
      "TOP_SENTENCES = 3\n",
      "print\n",
      "result = summarize(critics.irow(i)['new_article'].decode('utf8'))\n",
      "print \"\\n\".join(result['top_n_summary'])\n",
      "print    \n",
      "print 'New Summary (25,3,3)'\n",
      "N = 25\n",
      "CLUSTER_THRESHOLD = 3\n",
      "TOP_SENTENCES = 3\n",
      "print\n",
      "result = summarize(critics.irow(i)['new_article'].decode('utf8'))\n",
      "print \"\\n\".join(result['top_n_summary'])\n",
      "print\n",
      "print 'New Summary (25,5,5)'\n",
      "N = 25\n",
      "CLUSTER_THRESHOLD = 5\n",
      "TOP_SENTENCES = 5\n",
      "print\n",
      "result = summarize(critics.irow(i)['new_article'].decode('utf8'))\n",
      "print \"\\n\".join(result['top_n_summary'])\n"
     ],
     "language": "python",
     "metadata": {},
     "outputs": [
      {
       "output_type": "stream",
       "stream": "stdout",
       "text": [
        "Original Article\n",
        "\n",
        "Cinematography: Douglas Koch\n",
        "U.S. Distributor: October Films\n",
        "Symbolism isn't the only blatantly obvious aspect of Patricia Rozema's When Night is  Falling, but it is the most distracting.  Symbols are supposed to be subtle, but Rozema is  intent upon bludgeoning the audience with them.  In addition to the film's most pervasive symbol --  a dead, refrigerated dog, there are trapeze artists, hang-gliders, and allusions to Cupid and Psyche.   All have at least one secondary meaning.\n",
        "The story is basically a romantic triangle between Camille (Pascale Bussieres), an emotionally  uptight, morally upright mythology professor at a Toronto Protestant College; Martin (Henry  Czerny), her lover of three years; and Petra (Rachel Crawford), an itinerant circus performer who  comes to town and mesmerizes Camille.  In addition to setting up a dichotomy between  heterosexuality and homosexuality, When Night is Falling toys with the inherent conflict  in a deeply religious woman whose sexual proclivities are in conflict with her beliefs.   Unfortunately, Rozema's script doesn't do justice to these potentially-charged issues, preferring  cliches and shallow dialogue to something more challenging and compelling.\n",
        "As is too often the case, Camille's religious convictions are shown to be a negative influence while  Petra's open sensuality is positive.  There's no middle ground here; it's all black-and-white.   Likewise, Camille's relationship with Martin is pretty much a hollow sham.  He represents the  anchor that holds her back.  On the other hand, her lesbian encounters with Petra are delightful and  erotic.  There's no depth to When Night is Falling; the script is too determined to  categorize and compartmentalize everything.\n",
        "Pascale Bussieres is appealing as Camille, doing her best to breathe life into a shallowly-drawn  personae.  The supporting cast is less impressive, however.  Henry Czerny ( Clear and Present Danger ) is flat, although he can  perhaps be forgiven since Martin is little more than a foil.  Rachel Crawford, despite being  pleasant and perky, hampers the film with her unpolished acting technique.  And Don McKellar,  who recently appeared in Atom Egoyan's Exotica , is  annoying in the largely-superfluous role of the circus organizer.\n",
        "When Night is Falling is a beautifully-filmed motion picture, but even the most glorious  cinematography can't eclipse the story's flaws.  Instead of plowing new ground, Rozema churns up  soil that has long since been exhausted.  All that's left are stock characters and situations, contrived  emotional conflicts, and a slightly preachy narrative style.  Like a postcard, When Night is  Falling is pretty to look at but devoid of significant content.\n",
        "\u00a9 1995 James Berardinelli\n",
        "\n",
        "\n",
        "Rotten Tomatoes Quote\n",
        "\n",
        "Symbols are supposed to be subtle, but Rozema is intent upon bludgeoning the audience with them.\n",
        "\n",
        "Original Summary (25,5,3)\n",
        "\n",
        "There's no depth to When Night is Falling; the script is too determined to  categorize and compartmentalize everything.\n",
        "Henry Czerny ( Clear and Present Danger ) is flat, although he can  perhaps be forgiven since Martin is little more than a foil.\n",
        "Like a postcard, When Night is  Falling is pretty to look at but devoid of significant content.\n",
        "\n",
        "New Summary (100,5,3)\n",
        "\n",
        "There's no depth to When Night is Falling; the script is too determined to  categorize and compartmentalize everything.\n",
        "Pascale Bussieres is appealing as Camille, doing her best to breathe life into a shallowly-drawn  personae.\n",
        "When Night is Falling is a beautifully-filmed motion picture, but even the most glorious  cinematography can't eclipse the story's flaws.\n",
        "\n",
        "New Summary (25,3,3)\n",
        "\n",
        "There's no depth to When Night is Falling; the script is too determined to  categorize and compartmentalize everything.\n",
        "Henry Czerny ( Clear and Present Danger ) is flat, although he can  perhaps be forgiven since Martin is little more than a foil.\n",
        "Like a postcard, When Night is  Falling is pretty to look at but devoid of significant content."
       ]
      },
      {
       "output_type": "stream",
       "stream": "stdout",
       "text": [
        "\n",
        "\n",
        "New Summary (25,5,5)\n",
        "\n",
        "Unfortunately, Rozema's script doesn't do justice to these potentially-charged issues, preferring  cliches and shallow dialogue to something more challenging and compelling.\n",
        "There's no depth to When Night is Falling; the script is too determined to  categorize and compartmentalize everything.\n",
        "Pascale Bussieres is appealing as Camille, doing her best to breathe life into a shallowly-drawn  personae.\n",
        "Henry Czerny ( Clear and Present Danger ) is flat, although he can  perhaps be forgiven since Martin is little more than a foil.\n",
        "Like a postcard, When Night is  Falling is pretty to look at but devoid of significant content.\n"
       ]
      }
     ],
     "prompt_number": 240
    },
    {
     "cell_type": "markdown",
     "metadata": {},
     "source": [
      "While the summaries are impressive, it's hard to subjectively discern which summaries are better.  Let's look at the attributes of our articles.  This can be done by counting and plotting the number of sentences and words in the articles."
     ]
    },
    {
     "cell_type": "code",
     "collapsed": false,
     "input": [
      "def num_tokens_in_articles(df):\n",
      "    \n",
      "    num_sen = []\n",
      "    num_words = []\n",
      "    num_words_sen = []\n",
      "    for i in range(len(df)):\n",
      "        txt = df.irow(i)['new_article']\n",
      "        sentences = [s for s in nltk.tokenize.sent_tokenize(txt)]\n",
      "        normalized_sentences = [s.lower() for s in sentences]\n",
      "      \n",
      "        words = [w.lower() for sentence in normalized_sentences for w in\n",
      "                 nltk.tokenize.word_tokenize(sentence)]\n",
      "        \n",
      "        for s in normalized_sentences:\n",
      "            words_per_sen = [w.lower() for w in nltk.tokenize.word_tokenize(s) if w not in punctuation_words]\n",
      "            num_words_sen.append(len(words_per_sen))\n",
      "        \n",
      "        num_sen.append(len(sentences))\n",
      "        num_words.append(len(words))\n",
      "    \n",
      "    return (num_sen, num_words, num_words_sen)\n",
      "\n",
      "def plot_results(data, title):\n",
      "    \n",
      "    spread = np.percentile(data, 95) - np.percentile(data, 5) # Calculate the spread\n",
      "    \n",
      "    #Make a histogram \n",
      "    #num_bins = len(set(data)) # Determine the number of bins we want for the plot\n",
      "    num_bins = 50\n",
      "    plt.hist(data, normed=False, bins=num_bins, label=title)\n",
      "    plt.xlabel(\"# of %s\" % title)\n",
      "    plt.ylabel('N')\n",
      "    \n",
      "    avg = np.mean(data)\n",
      "    \"\"\"\n",
      "    Overplots the average\n",
      "    \"\"\"\n",
      "    plt.axvline(x=avg, color='r', ymax=1.0, label=\"Average\") # A solid red vertical line\n",
      "    plt.legend(loc='best',frameon=False) # Plot the legend with no border\n",
      "    plt.title(\"No. of %s \" % title) # Create a title containing chance victory and spread\n",
      "    remove_border(left=True, bottom=True) # Show only the bottom and left borders"
     ],
     "language": "python",
     "metadata": {},
     "outputs": [],
     "prompt_number": 212
    },
    {
     "cell_type": "code",
     "collapsed": false,
     "input": [
      "result = num_tokens_in_articles(critics)"
     ],
     "language": "python",
     "metadata": {},
     "outputs": [],
     "prompt_number": 213
    },
    {
     "cell_type": "code",
     "collapsed": false,
     "input": [
      "# Make the plots\n",
      "\n",
      "plt.figure()\n",
      "plot_results(result[0], \"Sentences per Article\")\n",
      "print np.mean(result[0])\n",
      "print stats.mode(result[0])\n",
      "\n",
      "plt.figure()\n",
      "plot_results(result[1], \"Words per Article\")\n",
      "print np.mean(result[1])\n",
      "print stats.mode(result[1])\n",
      "\n",
      "plt.figure()\n",
      "plot_results(result[2], \"Words per Sentence\")\n",
      "print np.mean(result[2])\n",
      "print stats.mode(result[2])"
     ],
     "language": "python",
     "metadata": {},
     "outputs": [
      {
       "output_type": "stream",
       "stream": "stdout",
       "text": [
        "26.7701617883\n",
        "(array([ 6.]), array([ 372.]))\n",
        "672.205014203"
       ]
      },
      {
       "output_type": "stream",
       "stream": "stdout",
       "text": [
        "\n",
        "(array([ 188.]), array([ 23.]))"
       ]
      },
      {
       "output_type": "stream",
       "stream": "stdout",
       "text": [
        "\n",
        "21.750099189"
       ]
      },
      {
       "output_type": "stream",
       "stream": "stdout",
       "text": [
        "\n",
        "(array([ 19.]), array([ 7115.]))"
       ]
      },
      {
       "output_type": "stream",
       "stream": "stdout",
       "text": [
        "\n"
       ]
      },
      {
       "metadata": {},
       "output_type": "display_data",
       "png": "[encoded data removed]",
       "text": [
        "<matplotlib.figure.Figure at 0x120467290>"
       ]
      },
      {
       "metadata": {},
       "output_type": "display_data",
       "png": "[encoded data removed]",
       "text": [
        "<matplotlib.figure.Figure at 0x120467c90>"
       ]
      },
      {
       "metadata": {},
       "output_type": "display_data",
       "png": "[encoded data removed]",
       "text": [
        "<matplotlib.figure.Figure at 0x11d60b390>"
       ]
      }
     ],
     "prompt_number": 214
    },
    {
     "cell_type": "markdown",
     "metadata": {},
     "source": [
      "There is a wide range for the various parameters in Luhn's algorithm, so cross-validation will be time consuming.  Instead, let's try to make some educated experiments...\n",
      "\n",
      "We see that the average no. of sentences and words is 26.7 & 672 respectively.  We see that average number of words per sentence is ~22.  \n",
      "\n",
      "In looking at several example implementations of Luhn's algorithm (i.e. Mining the Social Web, 2nd Edition), we see the ratio of N (word list parameter) vs. No. of words in the article is ~1:5.  With that in mind, let's see if we can improve our results by increasing N in increments of 25 up to 150.\n",
      "\n",
      "Similarly, we can experiment with values of the Cluster Threshold from 3 - 10 given the average no. of words per sentence.\n",
      "\n",
      "Finally, we will vary the number of sentences in the summary from 2 - 7."
     ]
    },
    {
     "cell_type": "code",
     "collapsed": false,
     "input": [
      "# Our original parameters for Luhn's Summarization\n",
      "\n",
      "N = 25  # Number of words to consider\n",
      "CLUSTER_THRESHOLD = 5  # Distance between words to consider\n",
      "TOP_SENTENCES = 3  # Number of sentences to return for a \"top n\" summary"
     ],
     "language": "python",
     "metadata": {},
     "outputs": [],
     "prompt_number": 216
    },
    {
     "cell_type": "code",
     "collapsed": false,
     "input": [
      "# This method will create summaries based on the parameters set.\n",
      "def create_summary(df):\n",
      "    summaries = []\n",
      "    for i in range(len(df)):\n",
      "        try:\n",
      "            article = cleaned_articles.irow(i)['new_article']\n",
      "            result = summarize(article.decode('utf8'))\n",
      "            summaries.append(\"\\n\".join(result['top_n_summary']))\n",
      "        except:\n",
      "            print \"Error at index: %d\" % i\n",
      "            summaries.append('error')\n",
      "        \n",
      "    summary_df = pd.DataFrame(summaries, columns=['summary'], index=df.index)\n",
      "    result = summary_df.join(df.fresh)\n",
      "    result = result[result['summary'] != 'error']\n",
      "        \n",
      "    return result\n"
     ],
     "language": "python",
     "metadata": {},
     "outputs": [],
     "prompt_number": 148
    },
    {
     "cell_type": "code",
     "collapsed": false,
     "input": [
      "# Experiment with N [25..150]\n",
      "\n",
      "results = {}\n",
      "\n",
      "N = 25\n",
      "new_summaries = create_summary(critics)\n",
      "results[(N, CLUSTER_THRESHOLD, TOP_SENTENCES)] = analyze_summary(new_summaries)\n",
      "\n",
      "N = 50\n",
      "new_summaries = create_summary(critics)\n",
      "results[(N, CLUSTER_THRESHOLD, TOP_SENTENCES)] = analyze_summary(new_summaries)\n",
      "\n",
      "N = 75\n",
      "new_summaries = create_summary(critics)\n",
      "results[(N, CLUSTER_THRESHOLD, TOP_SENTENCES)] = analyze_summary(new_summaries)\n",
      "\n",
      "N = 100\n",
      "new_summaries = create_summary(critics)\n",
      "results[(N, CLUSTER_THRESHOLD, TOP_SENTENCES)] = analyze_summary(new_summaries)\n",
      "\n",
      "N = 125\n",
      "new_summaries = create_summary(critics)\n",
      "results[(N, CLUSTER_THRESHOLD, TOP_SENTENCES)] = analyze_summary(new_summaries)\n",
      "\n",
      "N = 150\n",
      "new_summaries = create_summary(critics)\n",
      "results[(N, CLUSTER_THRESHOLD, TOP_SENTENCES)] = analyze_summary(new_summaries)"
     ],
     "language": "python",
     "metadata": {},
     "outputs": [],
     "prompt_number": 217
    },
    {
     "cell_type": "code",
     "collapsed": false,
     "input": [
      "N = 25  \n",
      "CLUSTER_THRESHOLD = 5\n",
      "TOP_SENTENCES = 3  \n",
      "\n",
      "# Experiment with CLUSTER_THRESHOLD [3..10]\n",
      "\n",
      "CLUSTER_THRESHOLD = 3\n",
      "new_summaries = create_summary(critics)\n",
      "results[(N, CLUSTER_THRESHOLD, TOP_SENTENCES)] = analyze_summary(new_summaries)\n",
      "\n",
      "CLUSTER_THRESHOLD = 4\n",
      "new_summaries = create_summary(critics)\n",
      "results[(N, CLUSTER_THRESHOLD, TOP_SENTENCES)] = analyze_summary(new_summaries)\n",
      "\n",
      "CLUSTER_THRESHOLD = 5\n",
      "new_summaries = create_summary(critics)\n",
      "results[(N, CLUSTER_THRESHOLD, TOP_SENTENCES)] = analyze_summary(new_summaries)\n",
      "\n",
      "CLUSTER_THRESHOLD = 6\n",
      "new_summaries = create_summary(critics)\n",
      "results[(N, CLUSTER_THRESHOLD, TOP_SENTENCES)] = analyze_summary(new_summaries)\n",
      "\n",
      "CLUSTER_THRESHOLD = 7\n",
      "new_summaries = create_summary(critics)\n",
      "results[(N, CLUSTER_THRESHOLD, TOP_SENTENCES)] = analyze_summary(new_summaries)\n",
      "\n",
      "CLUSTER_THRESHOLD = 8\n",
      "new_summaries = create_summary(critics)\n",
      "results[(N, CLUSTER_THRESHOLD, TOP_SENTENCES)] = analyze_summary(new_summaries)\n",
      "\n",
      "CLUSTER_THRESHOLD = 9\n",
      "new_summaries = create_summary(critics)\n",
      "results[(N, CLUSTER_THRESHOLD, TOP_SENTENCES)] = analyze_summary(new_summaries)\n",
      "\n",
      "CLUSTER_THRESHOLD = 10\n",
      "new_summaries = create_summary(critics)\n",
      "results[(N, CLUSTER_THRESHOLD, TOP_SENTENCES)] = analyze_summary(new_summaries)"
     ],
     "language": "python",
     "metadata": {},
     "outputs": [],
     "prompt_number": 221
    },
    {
     "cell_type": "code",
     "collapsed": false,
     "input": [
      "N = 25  \n",
      "CLUSTER_THRESHOLD = 5\n",
      "TOP_SENTENCES = 3  \n",
      "\n",
      "# Experiment with TOP_SENTENCES [2..7]\n",
      "\n",
      "TOP_SENTENCES = 2\n",
      "new_summaries = create_summary(critics)\n",
      "results[(N, CLUSTER_THRESHOLD, TOP_SENTENCES)] = analyze_summary(new_summaries)\n",
      "\n",
      "TOP_SENTENCES = 3\n",
      "new_summaries = create_summary(critics)\n",
      "results[(N, CLUSTER_THRESHOLD, TOP_SENTENCES)] = analyze_summary(new_summaries)\n",
      "\n",
      "TOP_SENTENCES = 4\n",
      "new_summaries = create_summary(critics)\n",
      "results[(N, CLUSTER_THRESHOLD, TOP_SENTENCES)] = analyze_summary(new_summaries)\n",
      "\n",
      "TOP_SENTENCES = 5\n",
      "new_summaries = create_summary(critics)\n",
      "results[(N, CLUSTER_THRESHOLD, TOP_SENTENCES)] = analyze_summary(new_summaries)\n",
      "\n",
      "TOP_SENTENCES = 6\n",
      "new_summaries = create_summary(critics)\n",
      "results[(N, CLUSTER_THRESHOLD, TOP_SENTENCES)] = analyze_summary(new_summaries)\n",
      "\n",
      "TOP_SENTENCES = 7\n",
      "new_summaries = create_summary(critics)\n",
      "results[(N, CLUSTER_THRESHOLD, TOP_SENTENCES)] = analyze_summary(new_summaries)\n"
     ],
     "language": "python",
     "metadata": {},
     "outputs": [],
     "prompt_number": 223
    },
    {
     "cell_type": "code",
     "collapsed": false,
     "input": [
      "#print results \n",
      "\n",
      "import operator\n",
      "\n",
      "sorted_results = sorted(results.iteritems(), key=operator.itemgetter(1))\n",
      "for item in sorted_results:\n",
      "    print \"Parameters: %d,%d,%d\"% (item[0]) + \" - Result: %.4f\" % (item[1])"
     ],
     "language": "python",
     "metadata": {},
     "outputs": [
      {
       "output_type": "stream",
       "stream": "stdout",
       "text": [
        "Parameters: 25,5,2 - Result: 0.6790\n",
        "Parameters: 75,5,3 - Result: 0.6904\n",
        "Parameters: 150,5,3 - Result: 0.6904\n",
        "Parameters: 25,4,3 - Result: 0.6923\n",
        "Parameters: 25,7,3 - Result: 0.6928\n",
        "Parameters: 25,5,3 - Result: 0.6983\n",
        "Parameters: 25,8,3 - Result: 0.7007\n",
        "Parameters: 25,6,3 - Result: 0.7007\n",
        "Parameters: 50,5,3 - Result: 0.7027\n",
        "Parameters: 25,9,3 - Result: 0.7032\n",
        "Parameters: 100,5,3 - Result: 0.7062\n",
        "Parameters: 25,3,3 - Result: 0.7067\n",
        "Parameters: 25,10,3 - Result: 0.7077\n",
        "Parameters: 125,5,3 - Result: 0.7081\n",
        "Parameters: 25,5,4 - Result: 0.7170\n",
        "Parameters: 25,5,5 - Result: 0.7279\n",
        "Parameters: 25,5,6 - Result: 0.7333\n",
        "Parameters: 25,5,7 - Result: 0.7402\n"
       ]
      }
     ],
     "prompt_number": 231
    },
    {
     "cell_type": "markdown",
     "metadata": {},
     "source": [
      "From the results above, we see that changing the number of sentences in the summary has the greatest impact on predicting freshness.  By increasing our summary to 7 sentences, we were able to achieve an ~74% prediction success rate.  \n",
      "\n",
      "Overall, the best parameters from our experiments are as follows:\n",
      "\n",
      "N = 125, CLUSTER_THRESHOLD = 10, TOP_SENTENCES = 7\n",
      "\n",
      "Let's run one last experiment with these 3 parameters:"
     ]
    },
    {
     "cell_type": "code",
     "collapsed": false,
     "input": [
      "N = 125  \n",
      "CLUSTER_THRESHOLD = 10\n",
      "TOP_SENTENCES = 7\n",
      "\n",
      "new_summaries = create_summary(critics)\n",
      "final_result = analyze_summary(new_summaries)"
     ],
     "language": "python",
     "metadata": {},
     "outputs": [],
     "prompt_number": 233
    },
    {
     "cell_type": "code",
     "collapsed": false,
     "input": [
      "print final_result"
     ],
     "language": "python",
     "metadata": {},
     "outputs": [
      {
       "output_type": "stream",
       "stream": "stdout",
       "text": [
        "0.731851851852\n"
       ]
      }
     ],
     "prompt_number": 234
    },
    {
     "cell_type": "markdown",
     "metadata": {},
     "source": [
      "By using the best of each parameter from the experiments, we achieve a 73.2% success rate.  This result confirms our intuition that the number of sentences in the summary is the largest contributing factor to success.  In theory, adding more sentences should achieve better results up to the full article success rate of 76%."
     ]
    },
    {
     "cell_type": "markdown",
     "metadata": {},
     "source": [
      "While tweaking the parameters of the algorithm improved our success rate, can changing the content of the summaries in a more tangible way have just as great an impact?  One thing we noticed about movie reviews is that a typical critic usually states his or her opinion at the end of an article.  Instead of basing the summary on the entire article, what if we based the summary only on the last 3 paragraphs?  Will this lead to higher quality summaries?"
     ]
    },
    {
     "cell_type": "code",
     "collapsed": false,
     "input": [
      "\n",
      "# This function creates a summary based on the last 3\n",
      "# paragraphs of the article.  If there are < 3 paragraphs,\n",
      "# the summary is created from the entire article\n",
      "def create_better_summary(df):\n",
      "    summaries = []\n",
      "    for i in range(len(df)):\n",
      "        try:\n",
      "            article = df.irow(i)['article']\n",
      "            chunks = article.split('\\n')\n",
      "            text = []\n",
      "            for chunk in chunks:\n",
      "                words = chunk.split(' ')\n",
      "                if (len(words) > 20):\n",
      "                    text.append(chunk)\n",
      "        \n",
      "            # take the last 3 good paragraphs\n",
      "            last_text = text[-3:]\n",
      "            new_article = \" \".join(last_text)\n",
      "            \n",
      "            result = summarize(new_article.decode('utf8'))\n",
      "            summaries.append(\"\\n\".join(result['top_n_summary']))\n",
      "        except:\n",
      "            print \"Error at index: %d\" % i\n",
      "            summaries.append('error')\n",
      "        \n",
      "    summary_df = pd.DataFrame(summaries, columns=['summary'], index=df.index)\n",
      "    result = summary_df.join(df.fresh)\n",
      "    result = result[result['summary'] != 'error']\n",
      "    return result"
     ],
     "language": "python",
     "metadata": {},
     "outputs": [],
     "prompt_number": 242
    },
    {
     "cell_type": "code",
     "collapsed": false,
     "input": [
      "N = 25\n",
      "CLUSTER_THRESHOLD = 5\n",
      "TOP_SENTENCES = 7\n",
      "ending_summaries = create_better_summary(critics)"
     ],
     "language": "python",
     "metadata": {},
     "outputs": [],
     "prompt_number": 243
    },
    {
     "cell_type": "code",
     "collapsed": false,
     "input": [
      "analyze_summary(ending_summaries)"
     ],
     "language": "python",
     "metadata": {},
     "outputs": [
      {
       "metadata": {},
       "output_type": "pyout",
       "prompt_number": 244,
       "text": [
        "0.71851851851851856"
       ]
      }
     ],
     "prompt_number": 244
    },
    {
     "cell_type": "code",
     "collapsed": false,
     "input": [
      "N = 125\n",
      "CLUSTER_THRESHOLD = 3\n",
      "TOP_SENTENCES = 7\n",
      "ending_summaries = create_better_summary(critics)\n",
      "analyze_summary(ending_summaries)"
     ],
     "language": "python",
     "metadata": {},
     "outputs": [
      {
       "metadata": {},
       "output_type": "pyout",
       "prompt_number": 247,
       "text": [
        "0.72493827160493829"
       ]
      }
     ],
     "prompt_number": 247
    },
    {
     "cell_type": "markdown",
     "metadata": {},
     "source": [
      "While our new summaries based of the end of articles is not as good as basing it off the full article, the results were better than the baseline.  We were able to achieve 72.4% correct."
     ]
    },
    {
     "cell_type": "heading",
     "level": 1,
     "metadata": {},
     "source": [
      "7. Stemming"
     ]
    },
    {
     "cell_type": "markdown",
     "metadata": {},
     "source": [
      "Stemming is a method that allows us to reduce our overall vocabulary in our bag of words.  We do this by pruning words so that different forms of a word are reduced to the same word. "
     ]
    },
    {
     "cell_type": "code",
     "collapsed": false,
     "input": [
      "from nltk.stem import PorterStemmer\n",
      "\n",
      "def stem_data(df):\n",
      "    stemmer = PorterStemmer()\n",
      "    \n",
      "    quotes = []\n",
      "    articles = []\n",
      "    summaries = []\n",
      "    \n",
      "    for i in range(len(df)):\n",
      "        stemmed_quote = ' '.join([stemmer.stem(word) for word in df.irow(i)['quote'].split(' ')])\n",
      "        stemmed_article = ' '.join([stemmer.stem(word) for word in df.irow(i)['article'].split(' ')])\n",
      "        stemmed_summary = ' '.join([stemmer.stem(word) for word in df.irow(i)['summary'].split(' ')])\n",
      "        \n",
      "        quotes.append(stemmed_quote)\n",
      "        articles.append(stemmed_article)\n",
      "        summaries.append(stemmed_summary)\n",
      "    \n",
      "    stem = pd.DataFrame(dict(quote=quotes, \n",
      "                           new_article=articles,\n",
      "                           summary=summaries))\n",
      "    \n",
      "    result = stem.join(critics[['fresh']])\n",
      "    \n",
      "    return result"
     ],
     "language": "python",
     "metadata": {},
     "outputs": [],
     "prompt_number": 254
    },
    {
     "cell_type": "code",
     "collapsed": false,
     "input": [
      "critics_stemmed = stem_data(critics)"
     ],
     "language": "python",
     "metadata": {},
     "outputs": [],
     "prompt_number": 255
    },
    {
     "cell_type": "code",
     "collapsed": false,
     "input": [
      "output_analysis(critics_stemmed)"
     ],
     "language": "python",
     "metadata": {},
     "outputs": [
      {
       "output_type": "stream",
       "stream": "stdout",
       "text": [
        "Analysis\n",
        "--------\n",
        "\n",
        "Rotten Tomatoes Quote:\n",
        "Training Score: 0.931"
       ]
      },
      {
       "output_type": "stream",
       "stream": "stdout",
       "text": [
        "\n",
        "Test Score: 0.769\n",
        "\n",
        "Full Article:\n",
        "Training Score: 0.914"
       ]
      },
      {
       "output_type": "stream",
       "stream": "stdout",
       "text": [
        "\n",
        "Test Score: 0.751\n",
        "\n",
        "Our Summary:\n",
        "Training Score: 0.948"
       ]
      },
      {
       "output_type": "stream",
       "stream": "stdout",
       "text": [
        "\n",
        "Test Score: 0.687\n"
       ]
      }
     ],
     "prompt_number": 256
    },
    {
     "cell_type": "markdown",
     "metadata": {},
     "source": [
      "We see that stemming did not help in any category except the full article, where the success rate went up to 75.1% from 74.4%.  This makes sense because the article bag of words will have the largest vocabulary and will benefit from the reduction stemming provides."
     ]
    },
    {
     "cell_type": "heading",
     "level": 1,
     "metadata": {},
     "source": [
      "8. Negation"
     ]
    },
    {
     "cell_type": "markdown",
     "metadata": {},
     "source": [
      "We have seen in HW3 that our classifier missed certain review quotes because the classifier was not able to pick up on negative phrases.  For example, the phrase \"The move was not good\" would actually be scored as a fresh review because it contains the word \"good\".  \n",
      "\n",
      "We attempt to use negation to see if we can catch these types of reviews."
     ]
    },
    {
     "cell_type": "code",
     "collapsed": false,
     "input": [
      "def negate_text(txt):\n",
      "    txt = txt.lower()\n",
      "    sentences = nltk.tokenize.sent_tokenize(txt)\n",
      "    tokens = [token for sentence in sentences for token in nltk.tokenize.word_tokenize(sentence)]\n",
      "    \n",
      "    for i in range(len(tokens)):\n",
      "        if ((tokens[i] == 'not') and (i < (len(tokens) - 1))):\n",
      "            tokens[i+1] = tokens[i+1] + \"*\"\n",
      "            \n",
      "    return \" \".join(tokens)\n",
      "\n",
      "negate_text(critics.irow(1176)['quote'])"
     ],
     "language": "python",
     "metadata": {},
     "outputs": [
      {
       "metadata": {},
       "output_type": "pyout",
       "prompt_number": 259,
       "text": [
        "'not only* is he adept at physical humor , the kind of knockabout stuff that recalls the classic silent clowns , but carrey also has a bright and likable screen presence , a lost puppy quality that is surprisingly endearing .'"
       ]
      }
     ],
     "prompt_number": 259
    },
    {
     "cell_type": "code",
     "collapsed": false,
     "input": [
      "def negate_data(df):\n",
      "    \n",
      "    quotes = []\n",
      "    articles = []\n",
      "    summaries = []\n",
      "    \n",
      "    for i in range(len(df)):\n",
      "        neg_quote = negate_text(df.irow(i)['quote'])\n",
      "        neg_article = negate_text(df.irow(i)['article'])\n",
      "        neg_summary = negate_text(df.irow(i)['summary'])\n",
      "        \n",
      "        quotes.append(neg_quote)\n",
      "        articles.append(neg_article)\n",
      "        summaries.append(neg_summary)\n",
      "    \n",
      "    result_df = pd.DataFrame(dict(quote=quotes, \n",
      "                           new_article=articles,\n",
      "                           summary=summaries))\n",
      "    \n",
      "    result_df = result_df.join(df[['fresh']])\n",
      "    \n",
      "    return result_df"
     ],
     "language": "python",
     "metadata": {},
     "outputs": [],
     "prompt_number": 260
    },
    {
     "cell_type": "code",
     "collapsed": false,
     "input": [
      "neg_critics = negate_data(critics)"
     ],
     "language": "python",
     "metadata": {},
     "outputs": [],
     "prompt_number": 261
    },
    {
     "cell_type": "code",
     "collapsed": false,
     "input": [
      "output_analysis(neg_critics)"
     ],
     "language": "python",
     "metadata": {},
     "outputs": [
      {
       "output_type": "stream",
       "stream": "stdout",
       "text": [
        "Analysis\n",
        "--------\n",
        "\n",
        "Rotten Tomatoes Quote:\n",
        "Training Score: 0.937"
       ]
      },
      {
       "output_type": "stream",
       "stream": "stdout",
       "text": [
        "\n",
        "Test Score: 0.774\n",
        "\n",
        "Full Article:\n",
        "Training Score: 0.916"
       ]
      },
      {
       "output_type": "stream",
       "stream": "stdout",
       "text": [
        "\n",
        "Test Score: 0.754\n",
        "\n",
        "Our Summary:\n",
        "Training Score: 0.949"
       ]
      },
      {
       "output_type": "stream",
       "stream": "stdout",
       "text": [
        "\n",
        "Test Score: 0.696\n"
       ]
      }
     ],
     "prompt_number": 262
    },
    {
     "cell_type": "markdown",
     "metadata": {},
     "source": [
      "We again see an improvement in the full article, where the success rate went up to 75.5% from 74.4%.  It's not surprising to the see the biggest improvement in the full review given there are likely more negation opportunities"
     ]
    },
    {
     "cell_type": "heading",
     "level": 1,
     "metadata": {},
     "source": [
      "9. Negation with Part-of-Speech Tagging"
     ]
    },
    {
     "cell_type": "code",
     "collapsed": false,
     "input": [
      "def negate_text_pos(txt):\n",
      "    txt = txt.lower()\n",
      "    sentences = nltk.tokenize.sent_tokenize(txt)\n",
      "    tokens = [token for sentence in sentences for token in nltk.tokenize.word_tokenize(sentence)]\n",
      "    \n",
      "    for i in range(len(tokens)):\n",
      "        if ((tokens[i] == 'not') and (i < (len(tokens) - 1))):\n",
      "            tag = nltk.pos_tag([tokens[i+1]])\n",
      "            if (len(tag) > 0):\n",
      "                pos = tag[0][1]\n",
      "                if (pos == 'JJ' or pos == 'RB'):\n",
      "                    tokens[i+1] = tokens[i+1] + \"*\"\n",
      "            \n",
      "    return \" \".join(tokens)\n",
      "\n",
      "negate_text_pos('This movie is not bad')\n"
     ],
     "language": "python",
     "metadata": {},
     "outputs": [
      {
       "metadata": {},
       "output_type": "pyout",
       "prompt_number": 284,
       "text": [
        "'this movie is not bad*'"
       ]
      }
     ],
     "prompt_number": 284
    },
    {
     "cell_type": "code",
     "collapsed": false,
     "input": [
      "def negate_data_pos(df):\n",
      "    \n",
      "    quotes = []\n",
      "    articles = []\n",
      "    summaries = []\n",
      "    \n",
      "    for i in range(len(df)):\n",
      "        neg_quote = negate_text_pos(df.irow(i)['quote'])\n",
      "        neg_article = negate_text_pos(df.irow(i)['article'])\n",
      "        neg_summary = negate_text_pos(df.irow(i)['summary'])\n",
      "        \n",
      "        quotes.append(neg_quote)\n",
      "        articles.append(neg_article)\n",
      "        summaries.append(neg_summary)\n",
      "    \n",
      "    result_df = pd.DataFrame(dict(quote=quotes, \n",
      "                           new_article=articles,\n",
      "                           summary=summaries))\n",
      "    \n",
      "    result_df = result_df.join(df[['fresh']])\n",
      "    \n",
      "    return result_df"
     ],
     "language": "python",
     "metadata": {},
     "outputs": [],
     "prompt_number": 285
    },
    {
     "cell_type": "code",
     "collapsed": false,
     "input": [
      "neg_pos_critics = negate_data(critics)"
     ],
     "language": "python",
     "metadata": {},
     "outputs": [],
     "prompt_number": 286
    },
    {
     "cell_type": "code",
     "collapsed": false,
     "input": [
      "output_analysis(neg_pos_critics)"
     ],
     "language": "python",
     "metadata": {},
     "outputs": [
      {
       "output_type": "stream",
       "stream": "stdout",
       "text": [
        "Analysis\n",
        "--------\n",
        "\n",
        "Rotten Tomatoes Quote:\n",
        "Training Score: 0.937"
       ]
      },
      {
       "output_type": "stream",
       "stream": "stdout",
       "text": [
        "\n",
        "Test Score: 0.774\n",
        "\n",
        "Full Article:\n",
        "Training Score: 0.916"
       ]
      },
      {
       "output_type": "stream",
       "stream": "stdout",
       "text": [
        "\n",
        "Test Score: 0.754\n",
        "\n",
        "Our Summary:\n",
        "Training Score: 0.949"
       ]
      },
      {
       "output_type": "stream",
       "stream": "stdout",
       "text": [
        "\n",
        "Test Score: 0.696\n"
       ]
      }
     ],
     "prompt_number": 287
    },
    {
     "cell_type": "markdown",
     "metadata": {},
     "source": [
      "We see that part-of-speech negation had no additional impact over regular negation."
     ]
    },
    {
     "cell_type": "heading",
     "level": 1,
     "metadata": {},
     "source": [
      "10. Final Analysis"
     ]
    },
    {
     "cell_type": "markdown",
     "metadata": {},
     "source": [
      "From our baseline analysis of the three types of movie reviews, we got the following results:\n",
      "\n",
      "Rotten Tomatoes Quote: 77.2%\n",
      "\n",
      "Full Article: 74.4%\n",
      "\n",
      "Our Summary: 69.8%\n",
      "\n",
      "We were not able to improve the classifier for the Rotten Tomatoes Quote by any substantial amount using any of the methods described above.\n",
      "\n",
      "For the full article, we were able to achieve a maximum score of 75.4% using negation, a full percentage point higher than the baseline.\n",
      "\n",
      "For our own summary, were able to improve our score by over 4% to 74.2% by manipulating the parameters of Luhn's Algorithm (primarily the length of the summary).\n",
      "\n",
      "Overall, we were very surprised to see the ability of the full review article's to predict freshness.  If we had more time and resources, we would likely investigate using n-grams and WordNet antonymn/synonym matching to see if we can greatly improve the classifier for this type of review.  \n",
      "\n",
      "We hope our work will provide a stepping-stone for other to build a fully automated method of discerning Rotten Tomatoes like review scores for movies!\n"
     ]
    }
   ],
   "metadata": {}
  }
 ]
}